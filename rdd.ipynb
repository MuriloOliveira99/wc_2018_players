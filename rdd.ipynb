{
  "nbformat": 4,
  "nbformat_minor": 0,
  "metadata": {
    "colab": {
      "provenance": [],
      "collapsed_sections": []
    },
    "kernelspec": {
      "name": "python3",
      "display_name": "Python 3"
    },
    "language_info": {
      "name": "python"
    }
  },
  "cells": [
    {
      "cell_type": "markdown",
      "source": [
        "### Instalação das bibliotecas"
      ],
      "metadata": {
        "id": "pmMZFapulhX0"
      }
    },
    {
      "cell_type": "code",
      "execution_count": 1,
      "metadata": {
        "colab": {
          "base_uri": "https://localhost:8080/"
        },
        "id": "TH9vEEvalThJ",
        "outputId": "e713f4db-b434-437a-c6ef-8280bf9d9c54"
      },
      "outputs": [
        {
          "output_type": "stream",
          "name": "stdout",
          "text": [
            "Looking in indexes: https://pypi.org/simple, https://us-python.pkg.dev/colab-wheels/public/simple/\n",
            "Collecting spark\n",
            "  Downloading spark-0.2.1.tar.gz (41 kB)\n",
            "Building wheels for collected packages: spark\n",
            "  Building wheel for spark (setup.py): started\n",
            "  Building wheel for spark (setup.py): finished with status 'done'\n",
            "  Created wheel for spark: filename=spark-0.2.1-py3-none-any.whl size=58762 sha256=3da78601cb71fd675853194bd343ed8c53025ca0d36024fec8dca4a883407d26\n",
            "  Stored in directory: /root/.cache/pip/wheels/4e/0e/f1/164619f9920fb447d294afaae11a7715bd442ded7225953d72\n",
            "Successfully built spark\n",
            "Installing collected packages: spark\n",
            "Successfully installed spark-0.2.1\n",
            "Looking in indexes: https://pypi.org/simple, https://us-python.pkg.dev/colab-wheels/public/simple/\n",
            "Collecting pyspark\n",
            "  Downloading pyspark-3.3.0.tar.gz (281.3 MB)\n",
            "Collecting py4j==0.10.9.5\n",
            "  Downloading py4j-0.10.9.5-py2.py3-none-any.whl (199 kB)\n",
            "Building wheels for collected packages: pyspark\n",
            "  Building wheel for pyspark (setup.py): started\n",
            "  Building wheel for pyspark (setup.py): finished with status 'done'\n",
            "  Created wheel for pyspark: filename=pyspark-3.3.0-py2.py3-none-any.whl size=281764026 sha256=1179cf6cabeae57d6792e9d19a9cb300a13678e48de1732737eb1ea43e0d0683\n",
            "  Stored in directory: /root/.cache/pip/wheels/7a/8e/1b/f73a52650d2e5f337708d9f6a1750d451a7349a867f928b885\n",
            "Successfully built pyspark\n",
            "Installing collected packages: py4j, pyspark\n",
            "Successfully installed py4j-0.10.9.5 pyspark-3.3.0\n"
          ]
        }
      ],
      "source": [
        "%%sh\n",
        "pip install spark\n",
        "pip install pyspark"
      ]
    },
    {
      "cell_type": "markdown",
      "source": [
        "### Importação das bibliotecas"
      ],
      "metadata": {
        "id": "EmyQUsv9lpU4"
      }
    },
    {
      "cell_type": "code",
      "source": [
        "import pyspark\n",
        "from pyspark.sql import SparkSession\n",
        "from pyspark import SparkContext"
      ],
      "metadata": {
        "id": "CXBUhPJUlozT"
      },
      "execution_count": 5,
      "outputs": []
    },
    {
      "cell_type": "markdown",
      "source": [
        "### Criar / Iniciar Sessão PySpark"
      ],
      "metadata": {
        "id": "qHX5__uAlrFu"
      }
    },
    {
      "cell_type": "code",
      "source": [
        "spark = (\n",
        "    SparkSession\\\n",
        "    .builder\\\n",
        "    .master('local')\\\n",
        "    .appName('pyspark_rdd')\\\n",
        "    .getOrCreate()\n",
        ")"
      ],
      "metadata": {
        "id": "hwdqt6balrfF"
      },
      "execution_count": 6,
      "outputs": []
    },
    {
      "cell_type": "markdown",
      "source": [
        "# RDD - Resilient Distributed Datasets\n",
        "- RDDs são a unidade fundamental de dados em Spark. São imutáveis.\n",
        "- Resilient: se dados na memória são perdidos, podem ser recriados.\n",
        "- Distributed: armazenados na memória por todo o cluster.\n",
        "- Datasets: dados iniciais podem vir de um arquivo ou ser criado programaticamente.\n",
        "- A maioria dos programas em Spark consistem em manipular RDDs.\n",
        "- RDDs são criados por meio de arquivos, de dados na memória ou de outras RDDs\n",
        "- 2 tipos de operações: \n",
        "    - Transformação\n",
        "        - map(function) -> cria um novo RDD processando a função em cada registro do RD\n",
        "        - filter(function) -> cria um novo RDD incluindo ou excluindo cada elemento de acordo com um função \n",
        "booleana.\n",
        "        - outros: distinct, sample, union, intersection, subtract, cartesian, combineByKey, groupByKey, join, etc.\n",
        "    - Ação\n",
        "        - count() -> retorna o número de elementos.\n",
        "        - take(n) -> retorna um array com os primeiros n elementos.\n",
        "        - collect() -> retorna um arraycom todos os elementos.\n",
        "        - saveAsTextFile(file) -> salva o RDD no arquivo.\n",
        "- Lazy Evaluation: Nada é processado até uma operação de ação."
      ],
      "metadata": {
        "id": "D0SbxkawmxDA"
      }
    },
    {
      "cell_type": "code",
      "source": [
        "sc = SparkContext.getOrCreate()"
      ],
      "metadata": {
        "id": "-WnCwNq3nscb"
      },
      "execution_count": 9,
      "outputs": []
    },
    {
      "cell_type": "markdown",
      "source": [
        "### parallelize()\n",
        "- Permite que o Spark distribua os dados por vários nós, em vez de depender de um único nó para processar os dados"
      ],
      "metadata": {
        "id": "5NvUqVylm1WP"
      }
    },
    {
      "cell_type": "code",
      "source": [
        "data = [1, 2, 3, 4, 5, 6, 7, 8, 9, 10]\n",
        "numeros = sc.parallelize(data)"
      ],
      "metadata": {
        "id": "KEfKFH6Bm5L-"
      },
      "execution_count": 10,
      "outputs": []
    },
    {
      "cell_type": "markdown",
      "source": [
        "### take()\n",
        "- Exibe x primeiros itens do RDD"
      ],
      "metadata": {
        "id": "D2LeA2Wbm5Xi"
      }
    },
    {
      "cell_type": "code",
      "source": [
        "numeros.take(5)"
      ],
      "metadata": {
        "colab": {
          "base_uri": "https://localhost:8080/"
        },
        "id": "6IfaRWugm5fv",
        "outputId": "8b76f8df-ab28-4810-96e9-d28d2fee8c5e"
      },
      "execution_count": 11,
      "outputs": [
        {
          "output_type": "execute_result",
          "data": {
            "text/plain": [
              "[1, 2, 3, 4, 5]"
            ]
          },
          "metadata": {},
          "execution_count": 11
        }
      ]
    },
    {
      "cell_type": "markdown",
      "source": [
        "### top()\n",
        "- Exibe os maiores itens do RDDlista"
      ],
      "metadata": {
        "id": "5HEyRIn0m5oE"
      }
    },
    {
      "cell_type": "code",
      "source": [
        "numeros.top(5)"
      ],
      "metadata": {
        "colab": {
          "base_uri": "https://localhost:8080/"
        },
        "id": "Z14wJLPZm5xM",
        "outputId": "a3a29fde-2670-4920-9015-6f661404b919"
      },
      "execution_count": 12,
      "outputs": [
        {
          "output_type": "execute_result",
          "data": {
            "text/plain": [
              "[10, 9, 8, 7, 6]"
            ]
          },
          "metadata": {},
          "execution_count": 12
        }
      ]
    },
    {
      "cell_type": "markdown",
      "source": [
        "### collect()\n",
        "- Retorne uma lista que contenha todos os elementos deste RDD.\n",
        "- **Obs**: Este método só deve ser usado se a matriz resultante for pequena\n"
      ],
      "metadata": {
        "id": "ZHPdU_R_m54u"
      }
    },
    {
      "cell_type": "code",
      "source": [
        "numeros.collect()"
      ],
      "metadata": {
        "colab": {
          "base_uri": "https://localhost:8080/"
        },
        "id": "sO0gTo86m6A_",
        "outputId": "adfc4f8d-9a45-45e9-8265-107294d5e3c0"
      },
      "execution_count": 13,
      "outputs": [
        {
          "output_type": "execute_result",
          "data": {
            "text/plain": [
              "[1, 2, 3, 4, 5, 6, 7, 8, 9, 10]"
            ]
          },
          "metadata": {},
          "execution_count": 13
        }
      ]
    },
    {
      "cell_type": "markdown",
      "source": [
        "### count()"
      ],
      "metadata": {
        "id": "kfY9JjsMpjQs"
      }
    },
    {
      "cell_type": "code",
      "source": [
        "numeros.count()"
      ],
      "metadata": {
        "colab": {
          "base_uri": "https://localhost:8080/"
        },
        "id": "HtiRaf9ypjVq",
        "outputId": "1a939612-7bc6-4762-9b87-6e6478fc340d"
      },
      "execution_count": 14,
      "outputs": [
        {
          "output_type": "execute_result",
          "data": {
            "text/plain": [
              "10"
            ]
          },
          "metadata": {},
          "execution_count": 14
        }
      ]
    },
    {
      "cell_type": "markdown",
      "source": [
        "### mean()"
      ],
      "metadata": {
        "id": "683ARK0ppjay"
      }
    },
    {
      "cell_type": "code",
      "source": [
        "numeros.mean()"
      ],
      "metadata": {
        "colab": {
          "base_uri": "https://localhost:8080/"
        },
        "id": "MTvHrvWppjfg",
        "outputId": "c1c5e60b-a002-43fb-8734-ed92768f4a9b"
      },
      "execution_count": 15,
      "outputs": [
        {
          "output_type": "execute_result",
          "data": {
            "text/plain": [
              "5.5"
            ]
          },
          "metadata": {},
          "execution_count": 15
        }
      ]
    },
    {
      "cell_type": "markdown",
      "source": [
        "### sum()"
      ],
      "metadata": {
        "id": "SSUKtiy1pjk4"
      }
    },
    {
      "cell_type": "code",
      "source": [
        "numeros.sum()"
      ],
      "metadata": {
        "colab": {
          "base_uri": "https://localhost:8080/"
        },
        "id": "b13Ha4Nlpjq2",
        "outputId": "78bd66e1-71e8-4755-acef-a6e455fcd40a"
      },
      "execution_count": 16,
      "outputs": [
        {
          "output_type": "execute_result",
          "data": {
            "text/plain": [
              "55"
            ]
          },
          "metadata": {},
          "execution_count": 16
        }
      ]
    },
    {
      "cell_type": "markdown",
      "source": [
        "### max()"
      ],
      "metadata": {
        "id": "4EW0XUOGpj6n"
      }
    },
    {
      "cell_type": "code",
      "source": [
        "numeros.max()"
      ],
      "metadata": {
        "colab": {
          "base_uri": "https://localhost:8080/"
        },
        "id": "hl0ryikJpkAy",
        "outputId": "ac42dd6d-df34-4f7d-921e-31218a65a12d"
      },
      "execution_count": 19,
      "outputs": [
        {
          "output_type": "execute_result",
          "data": {
            "text/plain": [
              "10"
            ]
          },
          "metadata": {},
          "execution_count": 19
        }
      ]
    },
    {
      "cell_type": "markdown",
      "source": [
        "### min()"
      ],
      "metadata": {
        "id": "4o-UiLhApv4p"
      }
    },
    {
      "cell_type": "code",
      "source": [
        "numeros.min()"
      ],
      "metadata": {
        "colab": {
          "base_uri": "https://localhost:8080/"
        },
        "id": "oACNkoikpv-X",
        "outputId": "d5475d1d-962c-437e-9622-c0883c0c2200"
      },
      "execution_count": 20,
      "outputs": [
        {
          "output_type": "execute_result",
          "data": {
            "text/plain": [
              "1"
            ]
          },
          "metadata": {},
          "execution_count": 20
        }
      ]
    },
    {
      "cell_type": "markdown",
      "source": [
        "### stdev()\n",
        "- desvio padrão"
      ],
      "metadata": {
        "id": "GTYyoAkFpyJA"
      }
    },
    {
      "cell_type": "code",
      "source": [
        "numeros.stdev()"
      ],
      "metadata": {
        "colab": {
          "base_uri": "https://localhost:8080/"
        },
        "id": "-hv3VPSFpyTn",
        "outputId": "7179d40b-8e19-484b-d2f1-519933b19110"
      },
      "execution_count": 21,
      "outputs": [
        {
          "output_type": "execute_result",
          "data": {
            "text/plain": [
              "2.8722813232690143"
            ]
          },
          "metadata": {},
          "execution_count": 21
        }
      ]
    },
    {
      "cell_type": "markdown",
      "source": [
        "### filter()\n",
        "- Retorna um novo RDD contendo apenas os elementos que satisfazem um predicado."
      ],
      "metadata": {
        "id": "s7LYQJpnqX3L"
      }
    },
    {
      "cell_type": "code",
      "source": [
        "# retorna os números maiores que 5\n",
        "filtro = numeros.filter(lambda filtro: filtro > 5)\n",
        "filtro.collect()"
      ],
      "metadata": {
        "colab": {
          "base_uri": "https://localhost:8080/"
        },
        "id": "mx-_0-I5qMdn",
        "outputId": "05b43058-b935-461f-b944-1179f1dacaaf"
      },
      "execution_count": 22,
      "outputs": [
        {
          "output_type": "execute_result",
          "data": {
            "text/plain": [
              "[6, 7, 8, 9, 10]"
            ]
          },
          "metadata": {},
          "execution_count": 22
        }
      ]
    },
    {
      "cell_type": "markdown",
      "source": [
        "### sample()\n",
        "- Retorne um subconjunto de amostra deste RDD."
      ],
      "metadata": {
        "id": "cFgf7mNTqYOC"
      }
    },
    {
      "cell_type": "code",
      "source": [
        "amostra = numeros.sample(False, 0.5, 1)\n",
        "amostra.collect()"
      ],
      "metadata": {
        "colab": {
          "base_uri": "https://localhost:8080/"
        },
        "id": "JBM5MACTqYUG",
        "outputId": "caba62cf-a5ca-4d8d-c008-6b310018aa6a"
      },
      "execution_count": 33,
      "outputs": [
        {
          "output_type": "execute_result",
          "data": {
            "text/plain": [
              "[1, 3, 7, 10]"
            ]
          },
          "metadata": {},
          "execution_count": 33
        }
      ]
    },
    {
      "cell_type": "markdown",
      "source": [
        "### map()\n",
        "- aplica uma função lambda para todos os elementos do RDD"
      ],
      "metadata": {
        "id": "UG_DHXeUqYa3"
      }
    },
    {
      "cell_type": "code",
      "source": [
        "# multiplica os elementos do rdd por 2\n",
        "mapp = numeros.map(lambda mapp: mapp * 2)\n",
        "mapp.collect()"
      ],
      "metadata": {
        "colab": {
          "base_uri": "https://localhost:8080/"
        },
        "id": "NUj9Ekd-qYhf",
        "outputId": "0ad2b933-f1a2-4172-b478-1e6f3749a698"
      },
      "execution_count": 35,
      "outputs": [
        {
          "output_type": "execute_result",
          "data": {
            "text/plain": [
              "[2, 4, 6, 8, 10, 12, 14, 16, 18, 20]"
            ]
          },
          "metadata": {},
          "execution_count": 35
        }
      ]
    },
    {
      "cell_type": "markdown",
      "source": [
        "### Novo RDD"
      ],
      "metadata": {
        "id": "auq6jbtaqYnK"
      }
    },
    {
      "cell_type": "code",
      "source": [
        "data2 = [6, 7, 8, 9, 10]\n",
        "numeros2 = sc.parallelize(data2)\n",
        "numeros2.collect()"
      ],
      "metadata": {
        "colab": {
          "base_uri": "https://localhost:8080/"
        },
        "id": "InnX9_azqYtQ",
        "outputId": "b607d28b-f8ea-4cf2-c3a7-3e42e9542fcb"
      },
      "execution_count": 36,
      "outputs": [
        {
          "output_type": "execute_result",
          "data": {
            "text/plain": [
              "[6, 7, 8, 9, 10]"
            ]
          },
          "metadata": {},
          "execution_count": 36
        }
      ]
    },
    {
      "cell_type": "markdown",
      "source": [
        "### union()\n",
        "- une os rdd"
      ],
      "metadata": {
        "id": "aAa_Q6N6sqeD"
      }
    },
    {
      "cell_type": "code",
      "source": [
        "uniao = numeros.union(numeros2)\n",
        "uniao.collect()"
      ],
      "metadata": {
        "colab": {
          "base_uri": "https://localhost:8080/"
        },
        "id": "G_swmCnSsqki",
        "outputId": "edc2f590-5b5f-4845-b296-c49c642df3cc"
      },
      "execution_count": 37,
      "outputs": [
        {
          "output_type": "execute_result",
          "data": {
            "text/plain": [
              "[1, 2, 3, 4, 5, 6, 7, 8, 9, 10, 6, 7, 8, 9, 10]"
            ]
          },
          "metadata": {},
          "execution_count": 37
        }
      ]
    },
    {
      "cell_type": "markdown",
      "source": [
        "### intersection\n",
        "- A saída não conterá nenhum elemento duplicado, mesmo que os RDDs de entrada contenham."
      ],
      "metadata": {
        "id": "bDBYLwHssqrh"
      }
    },
    {
      "cell_type": "code",
      "source": [
        "# numeros [1, 2, 3, 4, 5, 6, 7, 8, 9, 10]\n",
        "# numeros2 [6, 7, 8, 9, 10]\n",
        "\n",
        "intersecao = numeros.intersection(numeros2)\n",
        "intersecao.collect()"
      ],
      "metadata": {
        "colab": {
          "base_uri": "https://localhost:8080/"
        },
        "id": "GubOMLJPsqyr",
        "outputId": "211ad2cc-42af-47d9-dcc5-39fcc9ed9524"
      },
      "execution_count": 38,
      "outputs": [
        {
          "output_type": "execute_result",
          "data": {
            "text/plain": [
              "[6, 8, 10, 7, 9]"
            ]
          },
          "metadata": {},
          "execution_count": 38
        }
      ]
    },
    {
      "cell_type": "markdown",
      "source": [
        "### subtract()\n",
        "- Retorna os elementos que tem em um RDD mas que não está em outro RDD"
      ],
      "metadata": {
        "id": "eY8J0q06sq6d"
      }
    },
    {
      "cell_type": "code",
      "source": [
        "# numeros [1, 2, 3, 4, 5, 6, 7, 8, 9, 10]\n",
        "# numeros2 [6, 7, 8, 9, 10]\n",
        "subtrai = numeros.subtract(numeros2)\n",
        "subtrai.collect()"
      ],
      "metadata": {
        "colab": {
          "base_uri": "https://localhost:8080/"
        },
        "id": "a1yrTPgEsrBU",
        "outputId": "53b62e22-abdb-4e95-c5f9-e83b51297276"
      },
      "execution_count": 39,
      "outputs": [
        {
          "output_type": "execute_result",
          "data": {
            "text/plain": [
              "[2, 4, 1, 3, 5]"
            ]
          },
          "metadata": {},
          "execution_count": 39
        }
      ]
    },
    {
      "cell_type": "markdown",
      "source": [
        "### cartesian()\n",
        "- Devolva o produto cartesiano deste RDD e de outro, ou seja, o RDD de todos os pares de elementos (a, b)"
      ],
      "metadata": {
        "id": "oSenbfhcsrII"
      }
    },
    {
      "cell_type": "code",
      "source": [
        "cartesiano = numeros.cartesian(numeros2)\n",
        "cartesiano.collect()"
      ],
      "metadata": {
        "colab": {
          "base_uri": "https://localhost:8080/"
        },
        "id": "Jn4dBMB0srPC",
        "outputId": "c4e14635-09e8-4fd7-a639-ad84ef5ba90b"
      },
      "execution_count": 40,
      "outputs": [
        {
          "output_type": "execute_result",
          "data": {
            "text/plain": [
              "[(1, 6),\n",
              " (1, 7),\n",
              " (1, 8),\n",
              " (1, 9),\n",
              " (1, 10),\n",
              " (2, 6),\n",
              " (2, 7),\n",
              " (2, 8),\n",
              " (2, 9),\n",
              " (2, 10),\n",
              " (3, 6),\n",
              " (3, 7),\n",
              " (3, 8),\n",
              " (3, 9),\n",
              " (3, 10),\n",
              " (4, 6),\n",
              " (4, 7),\n",
              " (4, 8),\n",
              " (4, 9),\n",
              " (4, 10),\n",
              " (5, 6),\n",
              " (5, 7),\n",
              " (5, 8),\n",
              " (5, 9),\n",
              " (5, 10),\n",
              " (6, 6),\n",
              " (6, 7),\n",
              " (6, 8),\n",
              " (6, 9),\n",
              " (6, 10),\n",
              " (7, 6),\n",
              " (7, 7),\n",
              " (7, 8),\n",
              " (7, 9),\n",
              " (7, 10),\n",
              " (8, 6),\n",
              " (8, 7),\n",
              " (8, 8),\n",
              " (8, 9),\n",
              " (8, 10),\n",
              " (9, 6),\n",
              " (9, 7),\n",
              " (9, 8),\n",
              " (9, 9),\n",
              " (9, 10),\n",
              " (10, 6),\n",
              " (10, 7),\n",
              " (10, 8),\n",
              " (10, 9),\n",
              " (10, 10)]"
            ]
          },
          "metadata": {},
          "execution_count": 40
        }
      ]
    },
    {
      "cell_type": "markdown",
      "source": [
        "### countByValue()\n",
        "- Retorna a quantidade que cada valor aparece"
      ],
      "metadata": {
        "id": "kN7fu8DNsrVI"
      }
    },
    {
      "cell_type": "code",
      "source": [
        "numeros.countByValue()"
      ],
      "metadata": {
        "colab": {
          "base_uri": "https://localhost:8080/"
        },
        "id": "BrxYSUeqsrbz",
        "outputId": "c52f7011-c8f7-4533-bb43-46c1b56f3bc0"
      },
      "execution_count": 41,
      "outputs": [
        {
          "output_type": "execute_result",
          "data": {
            "text/plain": [
              "defaultdict(int, {1: 1, 2: 1, 3: 1, 4: 1, 5: 1, 6: 1, 7: 1, 8: 1, 9: 1, 10: 1})"
            ]
          },
          "metadata": {},
          "execution_count": 41
        }
      ]
    },
    {
      "cell_type": "markdown",
      "source": [
        "### RDD - Compras"
      ],
      "metadata": {
        "id": "2sXzinpDsrih"
      }
    },
    {
      "cell_type": "code",
      "source": [
        "data3 = [(1, 200), (2, 300), (3, 120), (4, 250), (5, 78)]\n",
        "compras = sc.parallelize(data3)\n",
        "compras.collect()"
      ],
      "metadata": {
        "colab": {
          "base_uri": "https://localhost:8080/"
        },
        "id": "pEUaXMJKsrpR",
        "outputId": "e474078e-2233-4218-bc09-e2eecd045f65"
      },
      "execution_count": 42,
      "outputs": [
        {
          "output_type": "execute_result",
          "data": {
            "text/plain": [
              "[(1, 200), (2, 300), (3, 120), (4, 250), (5, 78)]"
            ]
          },
          "metadata": {},
          "execution_count": 42
        }
      ]
    },
    {
      "cell_type": "markdown",
      "source": [
        "### Extraindo as keys"
      ],
      "metadata": {
        "id": "qJQg_7J4srws"
      }
    },
    {
      "cell_type": "code",
      "source": [
        "chaves = compras.keys()\n",
        "chaves.collect()"
      ],
      "metadata": {
        "colab": {
          "base_uri": "https://localhost:8080/"
        },
        "id": "8RSXY3dtsr3T",
        "outputId": "f903160c-bee7-4b32-eb1d-e4c917041e98"
      },
      "execution_count": 43,
      "outputs": [
        {
          "output_type": "execute_result",
          "data": {
            "text/plain": [
              "[1, 2, 3, 4, 5]"
            ]
          },
          "metadata": {},
          "execution_count": 43
        }
      ]
    },
    {
      "cell_type": "markdown",
      "source": [
        "### Extraindo os values"
      ],
      "metadata": {
        "id": "1tT87g77sr9u"
      }
    },
    {
      "cell_type": "code",
      "source": [
        "valores = compras.values()\n",
        "valores.collect()"
      ],
      "metadata": {
        "colab": {
          "base_uri": "https://localhost:8080/"
        },
        "id": "QRqBvJB8ssEG",
        "outputId": "418147fe-a071-41ae-a41b-99cf943d40c4"
      },
      "execution_count": 44,
      "outputs": [
        {
          "output_type": "execute_result",
          "data": {
            "text/plain": [
              "[200, 300, 120, 250, 78]"
            ]
          },
          "metadata": {},
          "execution_count": 44
        }
      ]
    },
    {
      "cell_type": "markdown",
      "source": [
        " ### countByKey()\n",
        " - Retorna a quantidade de vezes que a key aparece"
      ],
      "metadata": {
        "id": "2srLUbmywvnD"
      }
    },
    {
      "cell_type": "code",
      "source": [
        "compras.countByKey()"
      ],
      "metadata": {
        "colab": {
          "base_uri": "https://localhost:8080/"
        },
        "id": "UsIxKguSwn4b",
        "outputId": "67725e38-3bcf-4004-b00a-8754a2b840eb"
      },
      "execution_count": 47,
      "outputs": [
        {
          "output_type": "execute_result",
          "data": {
            "text/plain": [
              "defaultdict(int, {1: 1, 2: 1, 3: 1, 4: 1, 5: 1})"
            ]
          },
          "metadata": {},
          "execution_count": 47
        }
      ]
    },
    {
      "cell_type": "markdown",
      "source": [
        " ### countByValue()\n",
        " - Retorna a quantidade de vezes que o value aparece"
      ],
      "metadata": {
        "id": "iEFdb2vow6qt"
      }
    },
    {
      "cell_type": "code",
      "source": [
        "compras.countByValue()"
      ],
      "metadata": {
        "colab": {
          "base_uri": "https://localhost:8080/"
        },
        "id": "lt7Ja2wVw6wB",
        "outputId": "606915aa-8dae-4195-8b73-422503b52709"
      },
      "execution_count": 48,
      "outputs": [
        {
          "output_type": "execute_result",
          "data": {
            "text/plain": [
              "defaultdict(int,\n",
              "            {(1, 200): 1, (2, 300): 1, (3, 120): 1, (4, 250): 1, (5, 78): 1})"
            ]
          },
          "metadata": {},
          "execution_count": 48
        }
      ]
    },
    {
      "cell_type": "markdown",
      "source": [
        "### mapValues()\n",
        "- Para cadar valor do RDD faça alguma coisa"
      ],
      "metadata": {
        "id": "GV8DCckuxPJE"
      }
    },
    {
      "cell_type": "code",
      "source": [
        "# para cada elemento do RDD, acrescente + 1\n",
        "# [(1, 200), (2, 300), (3, 120), (4, 250), (5, 78)]\n",
        "soma = compras.mapValues(lambda soma: soma + 1)\n",
        "soma.collect()"
      ],
      "metadata": {
        "colab": {
          "base_uri": "https://localhost:8080/"
        },
        "id": "xufntjE-xPP_",
        "outputId": "10d91dec-1134-47e9-eb69-3ce3615d80cd"
      },
      "execution_count": 50,
      "outputs": [
        {
          "output_type": "execute_result",
          "data": {
            "text/plain": [
              "[(1, 201), (2, 301), (3, 121), (4, 251), (5, 79)]"
            ]
          },
          "metadata": {},
          "execution_count": 50
        }
      ]
    },
    {
      "cell_type": "markdown",
      "source": [
        "RDD - debitos"
      ],
      "metadata": {
        "id": "_wwDLRI9x9wu"
      }
    },
    {
      "cell_type": "code",
      "source": [
        "data4 = ([(1, 20), (2, 300)])\n",
        "debitos = sc.parallelize(data4)"
      ],
      "metadata": {
        "id": "LcM-A-zMx934"
      },
      "execution_count": 51,
      "outputs": []
    },
    {
      "cell_type": "markdown",
      "source": [
        "### inner join"
      ],
      "metadata": {
        "id": "0gQNEkZ_yTE2"
      }
    },
    {
      "cell_type": "code",
      "source": [
        "# (compras, debitos)\n",
        "inner_join = compras.join(debitos)\n",
        "inner_join.collect()"
      ],
      "metadata": {
        "colab": {
          "base_uri": "https://localhost:8080/"
        },
        "id": "pdwLcBVKyTLF",
        "outputId": "18a5ba08-601a-4fa6-f9ed-ef0362dc3b83"
      },
      "execution_count": 53,
      "outputs": [
        {
          "output_type": "execute_result",
          "data": {
            "text/plain": [
              "[(2, (300, 300)), (1, (200, 20))]"
            ]
          },
          "metadata": {},
          "execution_count": 53
        }
      ]
    },
    {
      "cell_type": "markdown",
      "source": [
        "### leftOuterJoin()\n",
        "- Retorna o rdd da esquerda mesmo que não tenha nenhuma correspondencia com o rdd da direita"
      ],
      "metadata": {
        "id": "XdNqd8JhzmEA"
      }
    },
    {
      "cell_type": "code",
      "source": [
        "left_join = compras.leftOuterJoin(debitos)\n",
        "left_join.collect()"
      ],
      "metadata": {
        "colab": {
          "base_uri": "https://localhost:8080/"
        },
        "id": "fdmPK41pzVgC",
        "outputId": "8c5122a6-9f23-4fef-8f08-52d1bafebd31"
      },
      "execution_count": 56,
      "outputs": [
        {
          "output_type": "execute_result",
          "data": {
            "text/plain": [
              "[(2, (300, 300)),\n",
              " (4, (250, None)),\n",
              " (1, (200, 20)),\n",
              " (3, (120, None)),\n",
              " (5, (78, None))]"
            ]
          },
          "metadata": {},
          "execution_count": 56
        }
      ]
    },
    {
      "cell_type": "markdown",
      "source": [
        "### rightOuterJoin()\n",
        "- Retorna o rdd da direita mesmo que não tenha nenhuma correspondencia com o rdd da esquerda"
      ],
      "metadata": {
        "id": "6TLuElSYzmi6"
      }
    },
    {
      "cell_type": "code",
      "source": [
        "rigth_join = compras.rightOuterJoin(debitos)\n",
        "rigth_join.collect()"
      ],
      "metadata": {
        "colab": {
          "base_uri": "https://localhost:8080/"
        },
        "id": "1jwAlU9EzmpX",
        "outputId": "9845698a-aaf5-44db-fce0-391d4a60e1ae"
      },
      "execution_count": 57,
      "outputs": [
        {
          "output_type": "execute_result",
          "data": {
            "text/plain": [
              "[(2, (300, 300)), (1, (200, 20))]"
            ]
          },
          "metadata": {},
          "execution_count": 57
        }
      ]
    },
    {
      "cell_type": "markdown",
      "source": [
        "### subtractByKey()\n",
        "- Retorna cada par (chave, valor) em self que não possui par com a chave correspondente em outro"
      ],
      "metadata": {
        "id": "YQv1EJjCyuCy"
      }
    },
    {
      "cell_type": "code",
      "source": [
        "semdebito = compras.subtractByKey(debitos)\n",
        "semdebito.collect()"
      ],
      "metadata": {
        "colab": {
          "base_uri": "https://localhost:8080/"
        },
        "id": "wvXU54jJyath",
        "outputId": "7f5510fc-5b49-4ae7-d48f-7aea56758b20"
      },
      "execution_count": 54,
      "outputs": [
        {
          "output_type": "execute_result",
          "data": {
            "text/plain": [
              "[(4, 250), (3, 120), (5, 78)]"
            ]
          },
          "metadata": {},
          "execution_count": 54
        }
      ]
    },
    {
      "cell_type": "markdown",
      "source": [
        "### flatMap()\n",
        "- Retorne um novo RDD aplicando primeiro uma função a todos os elementos desse RDD e, em seguida, nivelando os resultados."
      ],
      "metadata": {
        "id": "JYumVHOV0ZEU"
      }
    },
    {
      "cell_type": "code",
      "source": [
        "# [1, 2, 3, 4, 5, 6, 7, 8, 9, 10]\n",
        "flattMap = numeros.flatMap(lambda x: [(x, x * 10)])\n",
        "flattMap.collect()"
      ],
      "metadata": {
        "colab": {
          "base_uri": "https://localhost:8080/"
        },
        "id": "3_iSs7Sm0ZLI",
        "outputId": "5302eef9-8351-47bb-b958-fd5da39f93e0"
      },
      "execution_count": 71,
      "outputs": [
        {
          "output_type": "execute_result",
          "data": {
            "text/plain": [
              "[(1, 10),\n",
              " (2, 20),\n",
              " (3, 30),\n",
              " (4, 40),\n",
              " (5, 50),\n",
              " (6, 60),\n",
              " (7, 70),\n",
              " (8, 80),\n",
              " (9, 90),\n",
              " (10, 100)]"
            ]
          },
          "metadata": {},
          "execution_count": 71
        }
      ]
    }
  ]
}