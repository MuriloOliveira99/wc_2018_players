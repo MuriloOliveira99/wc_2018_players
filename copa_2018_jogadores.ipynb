{
  "nbformat": 4,
  "nbformat_minor": 0,
  "metadata": {
    "colab": {
      "provenance": [],
      "collapsed_sections": [
        "5gpLPBDcXtYi",
        "Ioc7gYgZaDj3",
        "GGMRCalobk11",
        "lYHPrfKRblaS",
        "av5y3hc7blmF",
        "VhV_MKCBbly6",
        "v40CpZZCRaiu",
        "862ywX_6q6tU",
        "ymhXdS6MsaZT",
        "YKxHjFOdxkw8",
        "XerFZ5nB7LWF",
        "a72_r0bV8bll",
        "8j91fdSt9ITo",
        "0XfjwGwg9mt3",
        "Gqd-rccFRav2",
        "0_xMFJEuXPJA",
        "YIveBziXNPw9",
        "E-VfVmVZPROV",
        "HEobfAvMPRxw",
        "EFr0_7qxPR-v",
        "e2mfFgzjPSNi",
        "Yqo3K_1UPSb-"
      ]
    },
    "kernelspec": {
      "name": "python3",
      "display_name": "Python 3"
    },
    "language_info": {
      "name": "python"
    }
  },
  "cells": [
    {
      "cell_type": "markdown",
      "source": [
        "# Análise - FIFA World Cup 2018\n",
        "-----\n",
        "# PySpark"
      ],
      "metadata": {
        "id": "Z21SQTs60KH3"
      }
    },
    {
      "cell_type": "markdown",
      "source": [
        "### Instalação das bibliotecas"
      ],
      "metadata": {
        "id": "1HEDGQAd0j9Y"
      }
    },
    {
      "cell_type": "code",
      "execution_count": 53,
      "metadata": {
        "colab": {
          "base_uri": "https://localhost:8080/"
        },
        "id": "u8z09m4KyiKp",
        "outputId": "70fef3b6-1683-47c3-9800-27b2afa784ad"
      },
      "outputs": [
        {
          "output_type": "stream",
          "name": "stdout",
          "text": [
            "Looking in indexes: https://pypi.org/simple, https://us-python.pkg.dev/colab-wheels/public/simple/\n",
            "Requirement already satisfied: spark in /usr/local/lib/python3.7/dist-packages (0.2.1)\n",
            "Looking in indexes: https://pypi.org/simple, https://us-python.pkg.dev/colab-wheels/public/simple/\n",
            "Requirement already satisfied: pyspark in /usr/local/lib/python3.7/dist-packages (3.3.0)\n",
            "Requirement already satisfied: py4j==0.10.9.5 in /usr/local/lib/python3.7/dist-packages (from pyspark) (0.10.9.5)\n"
          ]
        }
      ],
      "source": [
        "%%sh\n",
        "pip install spark\n",
        "pip install pyspark"
      ]
    },
    {
      "cell_type": "markdown",
      "source": [
        "### Importação das bibliotecas"
      ],
      "metadata": {
        "id": "JbcJPKn_1F8C"
      }
    },
    {
      "cell_type": "code",
      "source": [
        "import pyspark\n",
        "from pyspark.sql import SparkSession # conexão com o cluster Spark\n",
        "from pyspark.sql.functions import * # importação das funções do pyspark\n",
        "from pyspark.sql.types import * # importação dos tipos do pyspark\n",
        "from pyspark.sql.window import Window # importação das window functions"
      ],
      "metadata": {
        "id": "3VrO4_C61QJ1"
      },
      "execution_count": 110,
      "outputs": []
    },
    {
      "cell_type": "markdown",
      "source": [
        "### Criar / Iniciar Sessão PySpark"
      ],
      "metadata": {
        "id": "iMOZvuHD2oUS"
      }
    },
    {
      "cell_type": "code",
      "source": [
        "spark = (\n",
        "    SparkSession\\\n",
        "    .builder\\\n",
        "    .master('local')\\\n",
        "    .appName('pyspark_praticando')\\\n",
        "    .getOrCreate()\n",
        ")"
      ],
      "metadata": {
        "id": "6u1ap4Xe2oyo"
      },
      "execution_count": 111,
      "outputs": []
    },
    {
      "cell_type": "markdown",
      "source": [
        "### Criação do Schema"
      ],
      "metadata": {
        "id": "gf8gTxEU8Jlg"
      }
    },
    {
      "cell_type": "code",
      "source": [
        "# Exemplo 1:\n",
        "\n",
        "# 1º parametro: Nome da coluna\n",
        "# 2º parametro: Tipo de dado\n",
        "# 3º parametro: True/False para null\n",
        "\n",
        "wc_schema = StructType([\n",
        "    StructField('Team', StringType(), True),\\\n",
        "    StructField('#', IntegerType(), True),\\\n",
        "    StructField('Pos', StringType(), True),\\\n",
        "    StructField('FIFA Popular Name', StringType(), True),\\\n",
        "    StructField('Birth Date', StringType(), True),\\\n",
        "    StructField('Shirt Name', StringType(), True),\\\n",
        "    StructField('Club', StringType(), True),\\\n",
        "    StructField('Height', IntegerType(), True),\\\n",
        "    StructField('Weight', IntegerType(), True)\n",
        "])"
      ],
      "metadata": {
        "id": "q3GcQ-vHATfb"
      },
      "execution_count": 112,
      "outputs": []
    },
    {
      "cell_type": "code",
      "source": [
        "# ex2\n",
        "wc_schema2 = \"\"\"\n",
        "            selecao STRING,\n",
        "            num_camisa INT,\n",
        "            posicao STRING,\n",
        "            nome_fifa STRING,\n",
        "            data_nasc STRING,\n",
        "            nome_camisa STRING,\n",
        "            time STRING,\n",
        "            altura INT,\n",
        "            peso INT\n",
        "            \"\"\""
      ],
      "metadata": {
        "id": "JVSmta_P85ze"
      },
      "execution_count": 113,
      "outputs": []
    },
    {
      "cell_type": "markdown",
      "source": [
        "### Leitura do arquivo"
      ],
      "metadata": {
        "id": "bQsIhpFz2o4_"
      }
    },
    {
      "cell_type": "code",
      "source": [
        "# não é obrigatório a definição de um schema.\n",
        "# inferSchema para definir um schema automático\n",
        "# schema=wc_schema\n",
        "# .option('header','true') -> Esta opção é usada para ler a primeira linha do arquivo CSV como nomes de coluna, por padrão é False\n",
        "\n",
        "df = spark.read\\\n",
        "     .format('csv')\\\n",
        "     .option('header', 'true')\\\n",
        "     .schema(wc_schema)\\\n",
        "     .load('/content/wc2018-players.csv')\n",
        "df.show(5)"
      ],
      "metadata": {
        "colab": {
          "base_uri": "https://localhost:8080/"
        },
        "id": "kFFYNFrk2o-D",
        "outputId": "5dc0f6b7-62a8-4589-ab86-5ef7626a2bc9"
      },
      "execution_count": 114,
      "outputs": [
        {
          "output_type": "stream",
          "name": "stdout",
          "text": [
            "+---------+---+---+------------------+----------+----------+--------------------+------+------+\n",
            "|     Team|  #|Pos| FIFA Popular Name|Birth Date|Shirt Name|                Club|Height|Weight|\n",
            "+---------+---+---+------------------+----------+----------+--------------------+------+------+\n",
            "|Argentina|  3| DF|TAGLIAFICO Nicolas|31.08.1992|TAGLIAFICO|      AFC Ajax (NED)|   169|    65|\n",
            "|Argentina| 22| MF|    PAVON Cristian|21.01.1996|     PAVÓN|CA Boca Juniors (...|   169|    65|\n",
            "|Argentina| 15| MF|    LANZINI Manuel|15.02.1993|   LANZINI|West Ham United F...|   167|    66|\n",
            "|Argentina| 18| DF|    SALVIO Eduardo|13.07.1990|    SALVIO|    SL Benfica (POR)|   167|    69|\n",
            "|Argentina| 10| FW|      MESSI Lionel|24.06.1987|     MESSI|  FC Barcelona (ESP)|   170|    72|\n",
            "+---------+---+---+------------------+----------+----------+--------------------+------+------+\n",
            "only showing top 5 rows\n",
            "\n"
          ]
        }
      ]
    },
    {
      "cell_type": "markdown",
      "source": [
        "### Informações do Schema"
      ],
      "metadata": {
        "id": "bft0a5y92pEe"
      }
    },
    {
      "cell_type": "code",
      "source": [
        "df.printSchema()"
      ],
      "metadata": {
        "colab": {
          "base_uri": "https://localhost:8080/"
        },
        "id": "jQIRvFvJ2pK6",
        "outputId": "1e36aea4-8bc3-43b1-eba7-18aff90f4524"
      },
      "execution_count": 115,
      "outputs": [
        {
          "output_type": "stream",
          "name": "stdout",
          "text": [
            "root\n",
            " |-- Team: string (nullable = true)\n",
            " |-- #: integer (nullable = true)\n",
            " |-- Pos: string (nullable = true)\n",
            " |-- FIFA Popular Name: string (nullable = true)\n",
            " |-- Birth Date: string (nullable = true)\n",
            " |-- Shirt Name: string (nullable = true)\n",
            " |-- Club: string (nullable = true)\n",
            " |-- Height: integer (nullable = true)\n",
            " |-- Weight: integer (nullable = true)\n",
            "\n"
          ]
        }
      ]
    },
    {
      "cell_type": "markdown",
      "source": [
        "#### Alterações dos nomes das colunas"
      ],
      "metadata": {
        "id": "YouposxU2pRu"
      }
    },
    {
      "cell_type": "code",
      "source": [
        "# 1º parametro: nome da coluna\n",
        "# 2º parametro: nome novo da coluna \n",
        "\n",
        "df = df.withColumnRenamed('Team', 'selecao')\\\n",
        "       .withColumnRenamed('#', 'Numero camisa')\\\n",
        "       .withColumnRenamed('Pos', 'Posicao')\\\n",
        "       .withColumnRenamed('FIFA Popular Name', 'Nome Fifa')\\\n",
        "       .withColumnRenamed('Birth Date', 'Data Nascimento')\\\n",
        "       .withColumnRenamed('Shirt Name', 'nome camisa')\\\n",
        "       .withColumnRenamed('Club', 'Time')\\\n",
        "       .withColumnRenamed('Height', 'Altura')\\\n",
        "       .withColumnRenamed('Weight', 'Peso')\n",
        "\n",
        "df.show(5, truncate=False)"
      ],
      "metadata": {
        "colab": {
          "base_uri": "https://localhost:8080/"
        },
        "id": "NF-nAZI8D686",
        "outputId": "a1a5f014-e657-4eb4-ee66-d78cb96ddfbf"
      },
      "execution_count": 116,
      "outputs": [
        {
          "output_type": "stream",
          "name": "stdout",
          "text": [
            "+---------+-------------+-------+------------------+---------------+-----------+------------------------+------+----+\n",
            "|selecao  |Numero camisa|Posicao|Nome Fifa         |Data Nascimento|nome camisa|Time                    |Altura|Peso|\n",
            "+---------+-------------+-------+------------------+---------------+-----------+------------------------+------+----+\n",
            "|Argentina|3            |DF     |TAGLIAFICO Nicolas|31.08.1992     |TAGLIAFICO |AFC Ajax (NED)          |169   |65  |\n",
            "|Argentina|22           |MF     |PAVON Cristian    |21.01.1996     |PAVÓN      |CA Boca Juniors (ARG)   |169   |65  |\n",
            "|Argentina|15           |MF     |LANZINI Manuel    |15.02.1993     |LANZINI    |West Ham United FC (ENG)|167   |66  |\n",
            "|Argentina|18           |DF     |SALVIO Eduardo    |13.07.1990     |SALVIO     |SL Benfica (POR)        |167   |69  |\n",
            "|Argentina|10           |FW     |MESSI Lionel      |24.06.1987     |MESSI      |FC Barcelona (ESP)      |170   |72  |\n",
            "+---------+-------------+-------+------------------+---------------+-----------+------------------------+------+----+\n",
            "only showing top 5 rows\n",
            "\n"
          ]
        }
      ]
    },
    {
      "cell_type": "markdown",
      "source": [
        "### Alteração Coluna - Substituição do espaço por _ <br>e letra maiuscula por minuscula"
      ],
      "metadata": {
        "id": "k46neKejV46S"
      }
    },
    {
      "cell_type": "code",
      "source": [
        "df = df.select([col(nome).alias(nome.replace(' ', '_').replace(nome, nome.lower())) for nome in df.columns])\n",
        "df.show(1)"
      ],
      "metadata": {
        "colab": {
          "base_uri": "https://localhost:8080/"
        },
        "id": "oBskzKD4V5Ar",
        "outputId": "8f0494ac-e5f0-46f1-a3ce-50881edd5d5f"
      },
      "execution_count": 118,
      "outputs": [
        {
          "output_type": "stream",
          "name": "stdout",
          "text": [
            "+---------+-------------+-------+------------------+---------------+-----------+--------------+------+----+\n",
            "|  selecao|numero_camisa|posicao|         nome_fifa|data_nascimento|nome_camisa|          time|altura|peso|\n",
            "+---------+-------------+-------+------------------+---------------+-----------+--------------+------+----+\n",
            "|Argentina|            3|     DF|TAGLIAFICO Nicolas|     31.08.1992| TAGLIAFICO|AFC Ajax (NED)|   169|  65|\n",
            "+---------+-------------+-------+------------------+---------------+-----------+--------------+------+----+\n",
            "only showing top 1 row\n",
            "\n"
          ]
        }
      ]
    },
    {
      "cell_type": "markdown",
      "source": [
        "### Criação de novas colunas"
      ],
      "metadata": {
        "id": "yo_hIsICMn8E"
      }
    },
    {
      "cell_type": "code",
      "source": [
        "# Função lambda para dividir a data em dia, mes e ano\n",
        "\n",
        "# udf: Funções definidas pelo usuário\n",
        "# udf(): Este método usará a função lambda para fazer um loop sobre os dados, \n",
        "# e seu argumento aceitará a função lambda, e o valor lambda se tornará um argumento \n",
        "# para a função que queremos fazer como UDF. \n",
        "\n",
        "dia = udf(lambda data: data.split('.')[0])\n",
        "mes = udf(lambda data: data.split('.')[1])\n",
        "ano = udf(lambda data: data.split('.')[2])"
      ],
      "metadata": {
        "id": "MSgbmsdnMoBe"
      },
      "execution_count": 119,
      "outputs": []
    },
    {
      "cell_type": "code",
      "source": [
        "# Adicionando as novas colunas\n",
        "df = df.withColumn('dia', dia('data_nascimento'))\\\n",
        "       .withColumn('mes', mes('data_nascimento'))\\\n",
        "       .withColumn('ano', ano('data_nascimento'))\n",
        "df.show(1)"
      ],
      "metadata": {
        "colab": {
          "base_uri": "https://localhost:8080/"
        },
        "id": "8FIJr6V9Q0C0",
        "outputId": "1f748a60-edf4-4c7f-80ed-2ed056d0285f"
      },
      "execution_count": 120,
      "outputs": [
        {
          "output_type": "stream",
          "name": "stdout",
          "text": [
            "+---------+-------------+-------+------------------+---------------+-----------+--------------+------+----+---+---+----+\n",
            "|  selecao|numero_camisa|posicao|         nome_fifa|data_nascimento|nome_camisa|          time|altura|peso|dia|mes| ano|\n",
            "+---------+-------------+-------+------------------+---------------+-----------+--------------+------+----+---+---+----+\n",
            "|Argentina|            3|     DF|TAGLIAFICO Nicolas|     31.08.1992| TAGLIAFICO|AFC Ajax (NED)|   169|  65| 31| 08|1992|\n",
            "+---------+-------------+-------+------------------+---------------+-----------+--------------+------+----+---+---+----+\n",
            "only showing top 1 row\n",
            "\n"
          ]
        }
      ]
    },
    {
      "cell_type": "code",
      "source": [
        "# lit() e typedLit() são usadas para adicionar uma nova coluna ao DataFrame atribuindo um valor literal ou constante. \n",
        "# Ambas as funções retornam o tipo de coluna como tipo de retorno.\n",
        "df.withColumn('alt_peso', lit(col('altura') - col('peso'))).show(5)"
      ],
      "metadata": {
        "colab": {
          "base_uri": "https://localhost:8080/"
        },
        "id": "Jltx5MSPVOl2",
        "outputId": "0f70d496-53ee-4bc3-e106-b0c5f47775dd"
      },
      "execution_count": 121,
      "outputs": [
        {
          "output_type": "stream",
          "name": "stdout",
          "text": [
            "+---------+-------------+-------+------------------+---------------+-----------+--------------------+------+----+---+---+----+--------+\n",
            "|  selecao|numero_camisa|posicao|         nome_fifa|data_nascimento|nome_camisa|                time|altura|peso|dia|mes| ano|alt_peso|\n",
            "+---------+-------------+-------+------------------+---------------+-----------+--------------------+------+----+---+---+----+--------+\n",
            "|Argentina|            3|     DF|TAGLIAFICO Nicolas|     31.08.1992| TAGLIAFICO|      AFC Ajax (NED)|   169|  65| 31| 08|1992|     104|\n",
            "|Argentina|           22|     MF|    PAVON Cristian|     21.01.1996|      PAVÓN|CA Boca Juniors (...|   169|  65| 21| 01|1996|     104|\n",
            "|Argentina|           15|     MF|    LANZINI Manuel|     15.02.1993|    LANZINI|West Ham United F...|   167|  66| 15| 02|1993|     101|\n",
            "|Argentina|           18|     DF|    SALVIO Eduardo|     13.07.1990|     SALVIO|    SL Benfica (POR)|   167|  69| 13| 07|1990|      98|\n",
            "|Argentina|           10|     FW|      MESSI Lionel|     24.06.1987|      MESSI|  FC Barcelona (ESP)|   170|  72| 24| 06|1987|      98|\n",
            "+---------+-------------+-------+------------------+---------------+-----------+--------------------+------+----+---+---+----+--------+\n",
            "only showing top 5 rows\n",
            "\n"
          ]
        }
      ]
    },
    {
      "cell_type": "code",
      "source": [
        "# coluna condicional\n",
        "df.withColumn('sub', substring('selecao', -3, 3)).show(5)"
      ],
      "metadata": {
        "colab": {
          "base_uri": "https://localhost:8080/"
        },
        "id": "dHIBCnSuVeLu",
        "outputId": "9f665142-bcfc-47ad-9359-c5a221f17499"
      },
      "execution_count": 122,
      "outputs": [
        {
          "output_type": "stream",
          "name": "stdout",
          "text": [
            "+---------+-------------+-------+------------------+---------------+-----------+--------------------+------+----+---+---+----+---+\n",
            "|  selecao|numero_camisa|posicao|         nome_fifa|data_nascimento|nome_camisa|                time|altura|peso|dia|mes| ano|sub|\n",
            "+---------+-------------+-------+------------------+---------------+-----------+--------------------+------+----+---+---+----+---+\n",
            "|Argentina|            3|     DF|TAGLIAFICO Nicolas|     31.08.1992| TAGLIAFICO|      AFC Ajax (NED)|   169|  65| 31| 08|1992|ina|\n",
            "|Argentina|           22|     MF|    PAVON Cristian|     21.01.1996|      PAVÓN|CA Boca Juniors (...|   169|  65| 21| 01|1996|ina|\n",
            "|Argentina|           15|     MF|    LANZINI Manuel|     15.02.1993|    LANZINI|West Ham United F...|   167|  66| 15| 02|1993|ina|\n",
            "|Argentina|           18|     DF|    SALVIO Eduardo|     13.07.1990|     SALVIO|    SL Benfica (POR)|   167|  69| 13| 07|1990|ina|\n",
            "|Argentina|           10|     FW|      MESSI Lionel|     24.06.1987|      MESSI|  FC Barcelona (ESP)|   170|  72| 24| 06|1987|ina|\n",
            "+---------+-------------+-------+------------------+---------------+-----------+--------------------+------+----+---+---+----+---+\n",
            "only showing top 5 rows\n",
            "\n"
          ]
        }
      ]
    },
    {
      "cell_type": "markdown",
      "source": [
        "### Concatenação e criação de uma nova coluna"
      ],
      "metadata": {
        "id": "BQOY4OZCaPCj"
      }
    },
    {
      "cell_type": "code",
      "source": [
        "df = df.withColumn('data_nascimento', concat_ws('-', 'ano', 'mes', 'dia').cast(DateType()))\n",
        "df.show(1)"
      ],
      "metadata": {
        "colab": {
          "base_uri": "https://localhost:8080/"
        },
        "id": "XU9bnLfcXlvA",
        "outputId": "578b3815-6816-4e8e-ca3a-283c5e1ae7b4"
      },
      "execution_count": 123,
      "outputs": [
        {
          "output_type": "stream",
          "name": "stdout",
          "text": [
            "+---------+-------------+-------+------------------+---------------+-----------+--------------+------+----+---+---+----+\n",
            "|  selecao|numero_camisa|posicao|         nome_fifa|data_nascimento|nome_camisa|          time|altura|peso|dia|mes| ano|\n",
            "+---------+-------------+-------+------------------+---------------+-----------+--------------+------+----+---+---+----+\n",
            "|Argentina|            3|     DF|TAGLIAFICO Nicolas|     1992-08-31| TAGLIAFICO|AFC Ajax (NED)|   169|  65| 31| 08|1992|\n",
            "+---------+-------------+-------+------------------+---------------+-----------+--------------+------+----+---+---+----+\n",
            "only showing top 1 row\n",
            "\n"
          ]
        }
      ]
    },
    {
      "cell_type": "markdown",
      "source": [
        "### Exclusão de coluna"
      ],
      "metadata": {
        "id": "9Yk6sXQJa3dT"
      }
    },
    {
      "cell_type": "code",
      "source": [
        "df = df.drop('data_nasc')\n",
        "df.show(1)"
      ],
      "metadata": {
        "colab": {
          "base_uri": "https://localhost:8080/"
        },
        "id": "Sm03dE3ja3jO",
        "outputId": "9a2246eb-5d92-43dc-f568-b8760c2cde18"
      },
      "execution_count": 124,
      "outputs": [
        {
          "output_type": "stream",
          "name": "stdout",
          "text": [
            "+---------+-------------+-------+------------------+---------------+-----------+--------------+------+----+---+---+----+\n",
            "|  selecao|numero_camisa|posicao|         nome_fifa|data_nascimento|nome_camisa|          time|altura|peso|dia|mes| ano|\n",
            "+---------+-------------+-------+------------------+---------------+-----------+--------------+------+----+---+---+----+\n",
            "|Argentina|            3|     DF|TAGLIAFICO Nicolas|     1992-08-31| TAGLIAFICO|AFC Ajax (NED)|   169|  65| 31| 08|1992|\n",
            "+---------+-------------+-------+------------------+---------------+-----------+--------------+------+----+---+---+----+\n",
            "only showing top 1 row\n",
            "\n"
          ]
        }
      ]
    },
    {
      "cell_type": "markdown",
      "source": [
        "### Simples backup"
      ],
      "metadata": {
        "id": "TnS1GL-ya3re"
      }
    },
    {
      "cell_type": "code",
      "source": [
        "df2 = df"
      ],
      "metadata": {
        "id": "R3kzbrdea3yE"
      },
      "execution_count": 125,
      "outputs": []
    },
    {
      "cell_type": "markdown",
      "source": [
        "### Seleção de colunas"
      ],
      "metadata": {
        "id": "77ssRHmXa34I"
      }
    },
    {
      "cell_type": "code",
      "source": [
        "# Exemplo 1 de seleção\n",
        "df.select('selecao', 'nome_camisa', 'numero_camisa').show(1)"
      ],
      "metadata": {
        "colab": {
          "base_uri": "https://localhost:8080/"
        },
        "id": "Q_TYqYM4a3_J",
        "outputId": "37b5978a-12b7-47d2-b7dc-477127dc8214"
      },
      "execution_count": 126,
      "outputs": [
        {
          "output_type": "stream",
          "name": "stdout",
          "text": [
            "+---------+-----------+-------------+\n",
            "|  selecao|nome_camisa|numero_camisa|\n",
            "+---------+-----------+-------------+\n",
            "|Argentina| TAGLIAFICO|            3|\n",
            "+---------+-----------+-------------+\n",
            "only showing top 1 row\n",
            "\n"
          ]
        }
      ]
    },
    {
      "cell_type": "code",
      "source": [
        "# Exemplo 2 de seleção\n",
        "df.select(col('nome_fifa'), col('selecao'), col('time')).show(1)"
      ],
      "metadata": {
        "colab": {
          "base_uri": "https://localhost:8080/"
        },
        "id": "5K77sUX5a4K0",
        "outputId": "b10e4c23-e741-470e-f2c6-13b45659ca94"
      },
      "execution_count": 127,
      "outputs": [
        {
          "output_type": "stream",
          "name": "stdout",
          "text": [
            "+------------------+---------+--------------+\n",
            "|         nome_fifa|  selecao|          time|\n",
            "+------------------+---------+--------------+\n",
            "|TAGLIAFICO Nicolas|Argentina|AFC Ajax (NED)|\n",
            "+------------------+---------+--------------+\n",
            "only showing top 1 row\n",
            "\n"
          ]
        }
      ]
    },
    {
      "cell_type": "code",
      "source": [
        "# Exemplo 3 de seleção\n",
        "df.select(df['posicao'], df['nome_fifa']).show(1)"
      ],
      "metadata": {
        "colab": {
          "base_uri": "https://localhost:8080/"
        },
        "id": "XxdrNpEaat1a",
        "outputId": "07f87b99-a5d0-4cd5-ad70-e354f2f36b2f"
      },
      "execution_count": 128,
      "outputs": [
        {
          "output_type": "stream",
          "name": "stdout",
          "text": [
            "+-------+------------------+\n",
            "|posicao|         nome_fifa|\n",
            "+-------+------------------+\n",
            "|     DF|TAGLIAFICO Nicolas|\n",
            "+-------+------------------+\n",
            "only showing top 1 row\n",
            "\n"
          ]
        }
      ]
    },
    {
      "cell_type": "code",
      "source": [
        "# Exemplo 4 de seleção\n",
        "df.select('nome_fifa selecao time'.split()).show(2)"
      ],
      "metadata": {
        "colab": {
          "base_uri": "https://localhost:8080/"
        },
        "id": "zJH4_kopcjcs",
        "outputId": "c6f17730-b238-4502-d5d7-f5e61f041184"
      },
      "execution_count": 129,
      "outputs": [
        {
          "output_type": "stream",
          "name": "stdout",
          "text": [
            "+------------------+---------+--------------------+\n",
            "|         nome_fifa|  selecao|                time|\n",
            "+------------------+---------+--------------------+\n",
            "|TAGLIAFICO Nicolas|Argentina|      AFC Ajax (NED)|\n",
            "|    PAVON Cristian|Argentina|CA Boca Juniors (...|\n",
            "+------------------+---------+--------------------+\n",
            "only showing top 2 rows\n",
            "\n"
          ]
        }
      ]
    },
    {
      "cell_type": "code",
      "source": [
        "# Exemplo 5 de seleção\n",
        "df.select(col('selecao').alias('selecao_copa'), \n",
        "          col('nome_fifa').alias('nome')\n",
        "         ).show(2)"
      ],
      "metadata": {
        "colab": {
          "base_uri": "https://localhost:8080/"
        },
        "id": "T0AAdK6GcjfV",
        "outputId": "28fea81b-be30-4467-bf73-c25406c73a3e"
      },
      "execution_count": 130,
      "outputs": [
        {
          "output_type": "stream",
          "name": "stdout",
          "text": [
            "+------------+------------------+\n",
            "|selecao_copa|              nome|\n",
            "+------------+------------------+\n",
            "|   Argentina|TAGLIAFICO Nicolas|\n",
            "|   Argentina|    PAVON Cristian|\n",
            "+------------+------------------+\n",
            "only showing top 2 rows\n",
            "\n"
          ]
        }
      ]
    },
    {
      "cell_type": "markdown",
      "source": [
        "### Filtrando DataFrame do PySpark"
      ],
      "metadata": {
        "id": "Ch9BX-noa4Eg"
      }
    },
    {
      "cell_type": "code",
      "source": [
        "# Retorna somente os dados da seleção brasileira\n",
        "# exemplo 1\n",
        "df.filter(\"selecao = 'Brazil'\").show(2)"
      ],
      "metadata": {
        "colab": {
          "base_uri": "https://localhost:8080/"
        },
        "id": "QxzcGDoOeFUK",
        "outputId": "99c8bfb5-02d8-4a56-bbf8-7cd3d7a7e061"
      },
      "execution_count": 131,
      "outputs": [
        {
          "output_type": "stream",
          "name": "stdout",
          "text": [
            "+-------+-------------+-------+---------+---------------+-----------+--------------------+------+----+---+---+----+\n",
            "|selecao|numero_camisa|posicao|nome_fifa|data_nascimento|nome_camisa|                time|altura|peso|dia|mes| ano|\n",
            "+-------+-------------+-------+---------+---------------+-----------+--------------------+------+----+---+---+----+\n",
            "| Brazil|           18|     MF|     FRED|     1993-03-05|       FRED|FC Shakhtar Donet...|   169|  64| 05| 03|1993|\n",
            "| Brazil|           21|     FW|   TAISON|     1988-01-13|     TAISON|FC Shakhtar Donet...|   172|  64| 13| 01|1988|\n",
            "+-------+-------------+-------+---------+---------------+-----------+--------------------+------+----+---+---+----+\n",
            "only showing top 2 rows\n",
            "\n"
          ]
        }
      ]
    },
    {
      "cell_type": "code",
      "source": [
        "# Retorna somente os dados da seleção brasileira\n",
        "# exemplo 2\n",
        "df.filter(col('selecao') == 'Brazil').show(2)"
      ],
      "metadata": {
        "colab": {
          "base_uri": "https://localhost:8080/"
        },
        "id": "17RESCtRdwmV",
        "outputId": "c7cb53ea-c624-4f39-f783-69b36fab813e"
      },
      "execution_count": 132,
      "outputs": [
        {
          "output_type": "stream",
          "name": "stdout",
          "text": [
            "+-------+-------------+-------+---------+---------------+-----------+--------------------+------+----+---+---+----+\n",
            "|selecao|numero_camisa|posicao|nome_fifa|data_nascimento|nome_camisa|                time|altura|peso|dia|mes| ano|\n",
            "+-------+-------------+-------+---------+---------------+-----------+--------------------+------+----+---+---+----+\n",
            "| Brazil|           18|     MF|     FRED|     1993-03-05|       FRED|FC Shakhtar Donet...|   169|  64| 05| 03|1993|\n",
            "| Brazil|           21|     FW|   TAISON|     1988-01-13|     TAISON|FC Shakhtar Donet...|   172|  64| 13| 01|1988|\n",
            "+-------+-------------+-------+---------+---------------+-----------+--------------------+------+----+---+---+----+\n",
            "only showing top 2 rows\n",
            "\n"
          ]
        }
      ]
    },
    {
      "cell_type": "markdown",
      "source": [
        "### Filtrar DataFrame do PySpark com AND (&)"
      ],
      "metadata": {
        "id": "RtqLzCOvefmG"
      }
    },
    {
      "cell_type": "code",
      "source": [
        "# AND com 2 condições\n",
        "df.filter((col('selecao') == 'Argentina') & \n",
        "          (col('altura') > 169)).show(5)     "
      ],
      "metadata": {
        "id": "3xzygqo7efti",
        "colab": {
          "base_uri": "https://localhost:8080/"
        },
        "outputId": "6cdef066-cb16-48b0-e567-cfa9afe3b22e"
      },
      "execution_count": 133,
      "outputs": [
        {
          "output_type": "stream",
          "name": "stdout",
          "text": [
            "+---------+-------------+-------+-----------------+---------------+-----------+--------------------+------+----+---+---+----+\n",
            "|  selecao|numero_camisa|posicao|        nome_fifa|data_nascimento|nome_camisa|                time|altura|peso|dia|mes| ano|\n",
            "+---------+-------------+-------+-----------------+---------------+-----------+--------------------+------+----+---+---+----+\n",
            "|Argentina|           10|     FW|     MESSI Lionel|     1987-06-24|      MESSI|  FC Barcelona (ESP)|   170|  72| 24| 06|1987|\n",
            "|Argentina|            4|     DF| ANSALDI Cristian|     1986-09-20|    ANSALDI|     Torino FC (ITA)|   181|  73| 20| 09|1986|\n",
            "|Argentina|            5|     MF|     BIGLIA Lucas|     1986-01-30|     BIGLIA|      AC Milan (ITA)|   175|  73| 30| 01|1986|\n",
            "|Argentina|            7|     MF|      BANEGA Ever|     1988-06-29|     BANEGA|    Sevilla FC (ESP)|   175|  73| 29| 06|1988|\n",
            "|Argentina|           14|     DF|MASCHERANO Javier|     1984-06-08| MASCHERANO|Hebei China Fortu...|   174|  73| 08| 06|1984|\n",
            "+---------+-------------+-------+-----------------+---------------+-----------+--------------------+------+----+---+---+----+\n",
            "only showing top 5 rows\n",
            "\n"
          ]
        }
      ]
    },
    {
      "cell_type": "code",
      "source": [
        "df.filter((col('selecao') == 'Brazil') & \n",
        "          (col('peso') > 80)).show(5)"
      ],
      "metadata": {
        "id": "UF2yit_HeYbJ",
        "colab": {
          "base_uri": "https://localhost:8080/"
        },
        "outputId": "ce2ad680-8329-4ae8-f59a-129a9276f3a7"
      },
      "execution_count": 134,
      "outputs": [
        {
          "output_type": "stream",
          "name": "stdout",
          "text": [
            "+-------+-------------+-------+--------------+---------------+-----------+--------------------+------+----+---+---+----+\n",
            "|selecao|numero_camisa|posicao|     nome_fifa|data_nascimento|nome_camisa|                time|altura|peso|dia|mes| ano|\n",
            "+-------+-------------+-------+--------------+---------------+-----------+--------------------+------+----+---+---+----+\n",
            "| Brazil|           15|     MF|      PAULINHO|     1988-07-25|   PAULINHO|  FC Barcelona (ESP)|   181|  81| 25| 07|1988|\n",
            "| Brazil|            4|     DF| PEDRO GEROMEL|     1985-09-21|    GEROMEL|   Grêmio FBPA (BRA)|   190|  84| 21| 09|1985|\n",
            "| Brazil|            5|     MF|      CASEMIRO|     1992-02-23|   CASEMIRO|Real Madrid CF (ESP)|   185|  84| 23| 02|1992|\n",
            "| Brazil|            8|     MF|RENATO AUGUSTO|     1988-02-08| R. AUGUSTO| Beijing Guoan (CHN)|   186|  86| 08| 02|1988|\n",
            "| Brazil|           23|     GK|       EDERSON|     1993-08-17|    EDERSON|Manchester City F...|   188|  86| 17| 08|1993|\n",
            "+-------+-------------+-------+--------------+---------------+-----------+--------------------+------+----+---+---+----+\n",
            "only showing top 5 rows\n",
            "\n"
          ]
        }
      ]
    },
    {
      "cell_type": "code",
      "source": [
        "# outra forma\n",
        "df.filter(\"selecao = 'Brazil'\")\\\n",
        "  .filter(\"peso > 80\").show(5)"
      ],
      "metadata": {
        "colab": {
          "base_uri": "https://localhost:8080/"
        },
        "id": "qdLY8l_G0NbA",
        "outputId": "1dc5b8a0-a746-45e2-b03f-69b2dbfa424f"
      },
      "execution_count": 135,
      "outputs": [
        {
          "output_type": "stream",
          "name": "stdout",
          "text": [
            "+-------+-------------+-------+--------------+---------------+-----------+--------------------+------+----+---+---+----+\n",
            "|selecao|numero_camisa|posicao|     nome_fifa|data_nascimento|nome_camisa|                time|altura|peso|dia|mes| ano|\n",
            "+-------+-------------+-------+--------------+---------------+-----------+--------------------+------+----+---+---+----+\n",
            "| Brazil|           15|     MF|      PAULINHO|     1988-07-25|   PAULINHO|  FC Barcelona (ESP)|   181|  81| 25| 07|1988|\n",
            "| Brazil|            4|     DF| PEDRO GEROMEL|     1985-09-21|    GEROMEL|   Grêmio FBPA (BRA)|   190|  84| 21| 09|1985|\n",
            "| Brazil|            5|     MF|      CASEMIRO|     1992-02-23|   CASEMIRO|Real Madrid CF (ESP)|   185|  84| 23| 02|1992|\n",
            "| Brazil|            8|     MF|RENATO AUGUSTO|     1988-02-08| R. AUGUSTO| Beijing Guoan (CHN)|   186|  86| 08| 02|1988|\n",
            "| Brazil|           23|     GK|       EDERSON|     1993-08-17|    EDERSON|Manchester City F...|   188|  86| 17| 08|1993|\n",
            "+-------+-------------+-------+--------------+---------------+-----------+--------------------+------+----+---+---+----+\n",
            "only showing top 5 rows\n",
            "\n"
          ]
        }
      ]
    },
    {
      "cell_type": "markdown",
      "source": [
        "### Filtrar DataFrame do PySpark com OR (|)"
      ],
      "metadata": {
        "id": "OuVZ-xOI0Cas"
      }
    },
    {
      "cell_type": "code",
      "source": [
        "df.filter(\n",
        "    (col('nome_fifa') == 'MESSI Lionel') |\n",
        "    (col('nome_fifa') == 'CRISTIANO RONALDO') |\n",
        "    (col('nome_fifa') == 'NEYMAR') |\n",
        "    (col('altura') == 190)\n",
        ").show(5)"
      ],
      "metadata": {
        "colab": {
          "base_uri": "https://localhost:8080/"
        },
        "id": "KP4tmY4Zx7x2",
        "outputId": "50c79b77-1386-407b-f98b-55326735b009"
      },
      "execution_count": 136,
      "outputs": [
        {
          "output_type": "stream",
          "name": "stdout",
          "text": [
            "+---------+-------------+-------+---------------+---------------+-----------+--------------------+------+----+---+---+----+\n",
            "|  selecao|numero_camisa|posicao|      nome_fifa|data_nascimento|nome_camisa|                time|altura|peso|dia|mes| ano|\n",
            "+---------+-------------+-------+---------------+---------------+-----------+--------------------+------+----+---+---+----+\n",
            "|Argentina|           10|     FW|   MESSI Lionel|     1987-06-24|      MESSI|  FC Barcelona (ESP)|   170|  72| 24| 06|1987|\n",
            "|Australia|            9|     FW|     JURIC Tomi|     1991-07-22|      JURIC|     FC Luzern (SUI)|   190|  80| 22| 07|1991|\n",
            "|Australia|            6|     DF| JURMAN Matthew|     1989-12-08|     JURMAN|Suwon Samsung Blu...|   190|  83| 08| 12|1989|\n",
            "|  Belgium|            4|     DF|KOMPANY Vincent|     1986-04-10|    KOMPANY|Manchester City F...|   190|  85| 10| 04|1986|\n",
            "|  Belgium|           15|     DF| MEUNIER Thomas|     1991-09-12|    MEUNIER|Paris Saint-Germa...|   190|  88| 12| 09|1991|\n",
            "+---------+-------------+-------+---------------+---------------+-----------+--------------------+------+----+---+---+----+\n",
            "only showing top 5 rows\n",
            "\n"
          ]
        }
      ]
    },
    {
      "cell_type": "markdown",
      "source": [
        "### Filtrar DataFrame do PySpark com AND(&) e OR(|) "
      ],
      "metadata": {
        "id": "Dk_D5jhX4Iu2"
      }
    },
    {
      "cell_type": "code",
      "source": [
        "df.filter(\n",
        "    (col('selecao') == 'Brazil') &\n",
        "    (col('posicao') == 'DF') |\n",
        "    (col('nome_fifa') == 'MESSI Lionel') \n",
        ").show(5)"
      ],
      "metadata": {
        "colab": {
          "base_uri": "https://localhost:8080/"
        },
        "id": "dUMIHb4H1eU_",
        "outputId": "cb6b7c6a-aa4d-4b30-8701-faee8545629c"
      },
      "execution_count": 137,
      "outputs": [
        {
          "output_type": "stream",
          "name": "stdout",
          "text": [
            "+---------+-------------+-------+------------+---------------+-----------+--------------------+------+----+---+---+----+\n",
            "|  selecao|numero_camisa|posicao|   nome_fifa|data_nascimento|nome_camisa|                time|altura|peso|dia|mes| ano|\n",
            "+---------+-------------+-------+------------+---------------+-----------+--------------------+------+----+---+---+----+\n",
            "|Argentina|           10|     FW|MESSI Lionel|     1987-06-24|      MESSI|  FC Barcelona (ESP)|   170|  72| 24| 06|1987|\n",
            "|   Brazil|           22|     DF|      FAGNER|     1989-06-11|     FAGNER|SC Corinthians (BRA)|   168|  67| 11| 06|1989|\n",
            "|   Brazil|            6|     DF| FILIPE LUIS|     1985-08-09|FILIPE LUIS|Atletico Madrid (...|   182|  73| 09| 08|1985|\n",
            "|   Brazil|           13|     DF|  MARQUINHOS|     1994-05-14| MARQUINHOS|Paris Saint-Germa...|   183|  75| 14| 05|1994|\n",
            "|   Brazil|            3|     DF|     MIRANDA|     1984-09-07|    MIRANDA|FC Internazionale...|   186|  78| 07| 09|1984|\n",
            "+---------+-------------+-------+------------+---------------+-----------+--------------------+------+----+---+---+----+\n",
            "only showing top 5 rows\n",
            "\n"
          ]
        }
      ]
    },
    {
      "cell_type": "code",
      "source": [
        "df.filter(\n",
        "    (col('selecao') == 'Brazil') &\n",
        "    (col('posicao') == 'DF') |\n",
        "    (col('altura') > 190) &\n",
        "    (col('selecao') == 'Belgium')\n",
        ").show()"
      ],
      "metadata": {
        "colab": {
          "base_uri": "https://localhost:8080/"
        },
        "id": "0wViGJKj53pg",
        "outputId": "15016f4a-1652-4eca-f99f-f36111a7f19e"
      },
      "execution_count": 138,
      "outputs": [
        {
          "output_type": "stream",
          "name": "stdout",
          "text": [
            "+-------+-------------+-------+-----------------+---------------+-----------+--------------------+------+----+---+---+----+\n",
            "|selecao|numero_camisa|posicao|        nome_fifa|data_nascimento|nome_camisa|                time|altura|peso|dia|mes| ano|\n",
            "+-------+-------------+-------+-----------------+---------------+-----------+--------------------+------+----+---+---+----+\n",
            "|Belgium|            8|     MF|FELLAINI Marouane|     1987-11-22|   FELLAINI|Manchester United...|   194|  85| 22| 11|1987|\n",
            "|Belgium|           13|     GK|    CASTEELS Koen|     1992-06-25|   CASTEELS| VfL Wolfsburg (GER)|   197|  86| 25| 06|1992|\n",
            "|Belgium|           12|     GK|   MIGNOLET Simon|     1988-03-06|   MIGNOLET|  Liverpool FC (ENG)|   193|  87| 06| 03|1988|\n",
            "|Belgium|            1|     GK| COURTOIS Thibaut|     1992-05-11|   COURTOIS|    Chelsea FC (ENG)|   199|  91| 11| 05|1992|\n",
            "| Brazil|           22|     DF|           FAGNER|     1989-06-11|     FAGNER|SC Corinthians (BRA)|   168|  67| 11| 06|1989|\n",
            "| Brazil|            6|     DF|      FILIPE LUIS|     1985-08-09|FILIPE LUIS|Atletico Madrid (...|   182|  73| 09| 08|1985|\n",
            "| Brazil|           13|     DF|       MARQUINHOS|     1994-05-14| MARQUINHOS|Paris Saint-Germa...|   183|  75| 14| 05|1994|\n",
            "| Brazil|            3|     DF|          MIRANDA|     1984-09-07|    MIRANDA|FC Internazionale...|   186|  78| 07| 09|1984|\n",
            "| Brazil|           14|     DF|           DANILO|     1991-07-15|     DANILO|Manchester City F...|   184|  78| 15| 07|1991|\n",
            "| Brazil|            2|     DF|     THIAGO SILVA|     1984-09-22|   T. SILVA|Paris Saint-Germa...|   183|  79| 22| 09|1984|\n",
            "| Brazil|           12|     DF|          MARCELO|     1988-05-12|    MARCELO|Real Madrid CF (ESP)|   174|  80| 12| 05|1988|\n",
            "| Brazil|            4|     DF|    PEDRO GEROMEL|     1985-09-21|    GEROMEL|   Grêmio FBPA (BRA)|   190|  84| 21| 09|1985|\n",
            "+-------+-------------+-------+-----------------+---------------+-----------+--------------------+------+----+---+---+----+\n",
            "\n"
          ]
        }
      ]
    },
    {
      "cell_type": "markdown",
      "source": [
        "# Window Function "
      ],
      "metadata": {
        "id": "-XIkcmDGVOIg"
      }
    },
    {
      "cell_type": "markdown",
      "source": [
        "### row_number() - Número de linhas "
      ],
      "metadata": {
        "id": "kUjee_rfXBMq"
      }
    },
    {
      "cell_type": "code",
      "source": [
        "# contagem por seleção, ordenado pela altura\n",
        "num_linha = Window.partitionBy('selecao').orderBy(desc('altura'))\n",
        "df.withColumn('cont_selecao', row_number().over(num_linha)).show(30)"
      ],
      "metadata": {
        "colab": {
          "base_uri": "https://localhost:8080/"
        },
        "id": "qPOcTkPNVS3E",
        "outputId": "92133637-0b36-42c2-ec00-2cb1b1b197ac"
      },
      "execution_count": 139,
      "outputs": [
        {
          "output_type": "stream",
          "name": "stdout",
          "text": [
            "+---------+-------------+-------+------------------+---------------+-----------+--------------------+------+----+---+---+----+------------+\n",
            "|  selecao|numero_camisa|posicao|         nome_fifa|data_nascimento|nome_camisa|                time|altura|peso|dia|mes| ano|cont_selecao|\n",
            "+---------+-------------+-------+------------------+---------------+-----------+--------------------+------+----+---+---+----+------------+\n",
            "|Argentina|            6|     DF|    FAZIO Federico|     1987-03-17|      FAZIO|       AS Roma (ITA)|   199|  85| 17| 03|1987|           1|\n",
            "|Argentina|            1|     GK|     GUZMAN Nahuel|     1986-02-10|     GUZMÁN|   Tigres UANL (MEX)|   192|  90| 10| 02|1986|           2|\n",
            "|Argentina|           16|     DF|       ROJO Marcos|     1990-03-20|       ROJO|Manchester United...|   189|  82| 20| 03|1990|           3|\n",
            "|Argentina|           12|     GK|     ARMANI Franco|     1986-10-16|     ARMANI|CA River Plate (ARG)|   189|  85| 16| 10|1986|           4|\n",
            "|Argentina|           23|     GK|CABALLERO Wilfredo|     1981-09-28|  CABALLERO|    Chelsea FC (ENG)|   186|  80| 28| 09|1981|           5|\n",
            "|Argentina|            9|     FW|   HIGUAIN Gonzalo|     1987-12-10|    HIGUAÍN|   Juventus FC (ITA)|   184|  75| 10| 12|1987|           6|\n",
            "|Argentina|            4|     DF|  ANSALDI Cristian|     1986-09-20|    ANSALDI|     Torino FC (ITA)|   181|  73| 20| 09|1986|           7|\n",
            "|Argentina|            2|     DF|   MERCADO Gabriel|     1987-03-18|    MERCADO|    Sevilla FC (ESP)|   181|  81| 18| 03|1987|           8|\n",
            "|Argentina|           17|     DF|  OTAMENDI Nicolas|     1988-02-12|   OTAMENDI|Manchester City F...|   181|  81| 12| 02|1988|           9|\n",
            "|Argentina|           13|     MF|  MEZA Maximiliano|     1992-12-15|       MEZA|CA Independiente ...|   180|  76| 15| 12|1992|          10|\n",
            "|Argentina|           11|     MF|    DI MARIA Angel|     1988-02-14|   DI MARÍA|Paris Saint-Germa...|   178|  75| 14| 02|1988|          11|\n",
            "|Argentina|           21|     FW|      DYBALA Paulo|     1993-11-15|     DYBALA|   Juventus FC (ITA)|   177|  73| 15| 11|1993|          12|\n",
            "|Argentina|           20|     MF|  LO CELSO Giovani|     1996-04-09|   LO CELSO|Paris Saint-Germa...|   177|  75| 09| 04|1996|          13|\n",
            "|Argentina|            5|     MF|      BIGLIA Lucas|     1986-01-30|     BIGLIA|      AC Milan (ITA)|   175|  73| 30| 01|1986|          14|\n",
            "|Argentina|            7|     MF|       BANEGA Ever|     1988-06-29|     BANEGA|    Sevilla FC (ESP)|   175|  73| 29| 06|1988|          15|\n",
            "|Argentina|           14|     DF| MASCHERANO Javier|     1984-06-08| MASCHERANO|Hebei China Fortu...|   174|  73| 08| 06|1984|          16|\n",
            "|Argentina|           19|     FW|     AGUERO Sergio|     1988-06-02|     AGÜERO|Manchester City F...|   172|  74| 02| 06|1988|          17|\n",
            "|Argentina|            8|     DF|      ACUNA Marcos|     1991-10-28|      ACUÑA|   Sporting CP (POR)|   172|  77| 28| 10|1991|          18|\n",
            "|Argentina|           10|     FW|      MESSI Lionel|     1987-06-24|      MESSI|  FC Barcelona (ESP)|   170|  72| 24| 06|1987|          19|\n",
            "|Argentina|            3|     DF|TAGLIAFICO Nicolas|     1992-08-31| TAGLIAFICO|      AFC Ajax (NED)|   169|  65| 31| 08|1992|          20|\n",
            "|Argentina|           22|     MF|    PAVON Cristian|     1996-01-21|      PAVÓN|CA Boca Juniors (...|   169|  65| 21| 01|1996|          21|\n",
            "|Argentina|           15|     MF|    LANZINI Manuel|     1993-02-15|    LANZINI|West Ham United F...|   167|  66| 15| 02|1993|          22|\n",
            "|Argentina|           18|     DF|    SALVIO Eduardo|     1990-07-13|     SALVIO|    SL Benfica (POR)|   167|  69| 13| 07|1990|          23|\n",
            "|Australia|           12|     GK|        JONES Brad|     1982-03-19|      JONES|Feyenoord Rotterd...|   193|  87| 19| 03|1982|           1|\n",
            "|Australia|            9|     FW|        JURIC Tomi|     1991-07-22|      JURIC|     FC Luzern (SUI)|   190|  80| 22| 07|1991|           2|\n",
            "|Australia|            6|     DF|    JURMAN Matthew|     1989-12-08|     JURMAN|Suwon Samsung Blu...|   190|  83| 08| 12|1989|           3|\n",
            "|Australia|           23|     MF|         ROGIC Tom|     1992-12-16|      ROGIC|     Celtic FC (SCO)|   189|  88| 16| 12|1992|           4|\n",
            "|Australia|           15|     MF|      JEDINAK Mile|     1984-08-03|    JEDINAK|Aston Villa FC (ENG)|   188|  78| 03| 08|1984|           5|\n",
            "|Australia|            2|     DF|     DEGENEK Milos|     1994-04-28|    DEGENEK|Yokohama F-Marino...|   187|  85| 28| 04|1994|           6|\n",
            "|Australia|           18|     GK|     VUKOVIC Danny|     1985-03-27|    VUKOVIC|      KRC Genk (BEL)|   187|  94| 27| 03|1985|           7|\n",
            "+---------+-------------+-------+------------------+---------------+-----------+--------------------+------+----+---+---+----+------------+\n",
            "only showing top 30 rows\n",
            "\n"
          ]
        }
      ]
    },
    {
      "cell_type": "markdown",
      "source": [
        "### rank()"
      ],
      "metadata": {
        "id": "O3Bkc_h0XIpu"
      }
    },
    {
      "cell_type": "code",
      "source": [
        "# jogadores com a mesma altura, fica com o mesmo ranking.\n",
        "# além disso, ele pula ranking\n",
        "# ex: 1, 2, 3, 3, 5, 6, 7, 7, 7, 10\n",
        "num_rank1 = Window.partitionBy('selecao').orderBy(desc('altura'))\n",
        "df.withColumn('rank1', rank().over(num_rank1)).show()"
      ],
      "metadata": {
        "colab": {
          "base_uri": "https://localhost:8080/"
        },
        "id": "7euX4j9LW742",
        "outputId": "1d87ffa0-9b9f-49d6-8d4d-417ca075c426"
      },
      "execution_count": 140,
      "outputs": [
        {
          "output_type": "stream",
          "name": "stdout",
          "text": [
            "+---------+-------------+-------+------------------+---------------+-----------+--------------------+------+----+---+---+----+-----+\n",
            "|  selecao|numero_camisa|posicao|         nome_fifa|data_nascimento|nome_camisa|                time|altura|peso|dia|mes| ano|rank1|\n",
            "+---------+-------------+-------+------------------+---------------+-----------+--------------------+------+----+---+---+----+-----+\n",
            "|Argentina|            6|     DF|    FAZIO Federico|     1987-03-17|      FAZIO|       AS Roma (ITA)|   199|  85| 17| 03|1987|    1|\n",
            "|Argentina|            1|     GK|     GUZMAN Nahuel|     1986-02-10|     GUZMÁN|   Tigres UANL (MEX)|   192|  90| 10| 02|1986|    2|\n",
            "|Argentina|           16|     DF|       ROJO Marcos|     1990-03-20|       ROJO|Manchester United...|   189|  82| 20| 03|1990|    3|\n",
            "|Argentina|           12|     GK|     ARMANI Franco|     1986-10-16|     ARMANI|CA River Plate (ARG)|   189|  85| 16| 10|1986|    3|\n",
            "|Argentina|           23|     GK|CABALLERO Wilfredo|     1981-09-28|  CABALLERO|    Chelsea FC (ENG)|   186|  80| 28| 09|1981|    5|\n",
            "|Argentina|            9|     FW|   HIGUAIN Gonzalo|     1987-12-10|    HIGUAÍN|   Juventus FC (ITA)|   184|  75| 10| 12|1987|    6|\n",
            "|Argentina|            4|     DF|  ANSALDI Cristian|     1986-09-20|    ANSALDI|     Torino FC (ITA)|   181|  73| 20| 09|1986|    7|\n",
            "|Argentina|            2|     DF|   MERCADO Gabriel|     1987-03-18|    MERCADO|    Sevilla FC (ESP)|   181|  81| 18| 03|1987|    7|\n",
            "|Argentina|           17|     DF|  OTAMENDI Nicolas|     1988-02-12|   OTAMENDI|Manchester City F...|   181|  81| 12| 02|1988|    7|\n",
            "|Argentina|           13|     MF|  MEZA Maximiliano|     1992-12-15|       MEZA|CA Independiente ...|   180|  76| 15| 12|1992|   10|\n",
            "|Argentina|           11|     MF|    DI MARIA Angel|     1988-02-14|   DI MARÍA|Paris Saint-Germa...|   178|  75| 14| 02|1988|   11|\n",
            "|Argentina|           21|     FW|      DYBALA Paulo|     1993-11-15|     DYBALA|   Juventus FC (ITA)|   177|  73| 15| 11|1993|   12|\n",
            "|Argentina|           20|     MF|  LO CELSO Giovani|     1996-04-09|   LO CELSO|Paris Saint-Germa...|   177|  75| 09| 04|1996|   12|\n",
            "|Argentina|            5|     MF|      BIGLIA Lucas|     1986-01-30|     BIGLIA|      AC Milan (ITA)|   175|  73| 30| 01|1986|   14|\n",
            "|Argentina|            7|     MF|       BANEGA Ever|     1988-06-29|     BANEGA|    Sevilla FC (ESP)|   175|  73| 29| 06|1988|   14|\n",
            "|Argentina|           14|     DF| MASCHERANO Javier|     1984-06-08| MASCHERANO|Hebei China Fortu...|   174|  73| 08| 06|1984|   16|\n",
            "|Argentina|           19|     FW|     AGUERO Sergio|     1988-06-02|     AGÜERO|Manchester City F...|   172|  74| 02| 06|1988|   17|\n",
            "|Argentina|            8|     DF|      ACUNA Marcos|     1991-10-28|      ACUÑA|   Sporting CP (POR)|   172|  77| 28| 10|1991|   17|\n",
            "|Argentina|           10|     FW|      MESSI Lionel|     1987-06-24|      MESSI|  FC Barcelona (ESP)|   170|  72| 24| 06|1987|   19|\n",
            "|Argentina|            3|     DF|TAGLIAFICO Nicolas|     1992-08-31| TAGLIAFICO|      AFC Ajax (NED)|   169|  65| 31| 08|1992|   20|\n",
            "+---------+-------------+-------+------------------+---------------+-----------+--------------------+------+----+---+---+----+-----+\n",
            "only showing top 20 rows\n",
            "\n"
          ]
        }
      ]
    },
    {
      "cell_type": "markdown",
      "source": [
        "### dense_rank()"
      ],
      "metadata": {
        "id": "5gpLPBDcXtYi"
      }
    },
    {
      "cell_type": "code",
      "source": [
        "# cria um rank sem pular números\n",
        "# ex: 1, 2, 3, 4...\n",
        "num_rank2 = Window.partitionBy('selecao').orderBy(desc('altura'))\n",
        "df.withColumn('dense_rank', dense_rank().over(num_rank2)).show(25)"
      ],
      "metadata": {
        "colab": {
          "base_uri": "https://localhost:8080/"
        },
        "id": "rpgZd6fSXaUY",
        "outputId": "ea3b198c-3260-45f5-905a-84e2ea2980e5"
      },
      "execution_count": 141,
      "outputs": [
        {
          "output_type": "stream",
          "name": "stdout",
          "text": [
            "+---------+-------------+-------+------------------+---------------+-----------+--------------------+------+----+---+---+----+----------+\n",
            "|  selecao|numero_camisa|posicao|         nome_fifa|data_nascimento|nome_camisa|                time|altura|peso|dia|mes| ano|dense_rank|\n",
            "+---------+-------------+-------+------------------+---------------+-----------+--------------------+------+----+---+---+----+----------+\n",
            "|Argentina|            6|     DF|    FAZIO Federico|     1987-03-17|      FAZIO|       AS Roma (ITA)|   199|  85| 17| 03|1987|         1|\n",
            "|Argentina|            1|     GK|     GUZMAN Nahuel|     1986-02-10|     GUZMÁN|   Tigres UANL (MEX)|   192|  90| 10| 02|1986|         2|\n",
            "|Argentina|           16|     DF|       ROJO Marcos|     1990-03-20|       ROJO|Manchester United...|   189|  82| 20| 03|1990|         3|\n",
            "|Argentina|           12|     GK|     ARMANI Franco|     1986-10-16|     ARMANI|CA River Plate (ARG)|   189|  85| 16| 10|1986|         3|\n",
            "|Argentina|           23|     GK|CABALLERO Wilfredo|     1981-09-28|  CABALLERO|    Chelsea FC (ENG)|   186|  80| 28| 09|1981|         4|\n",
            "|Argentina|            9|     FW|   HIGUAIN Gonzalo|     1987-12-10|    HIGUAÍN|   Juventus FC (ITA)|   184|  75| 10| 12|1987|         5|\n",
            "|Argentina|            4|     DF|  ANSALDI Cristian|     1986-09-20|    ANSALDI|     Torino FC (ITA)|   181|  73| 20| 09|1986|         6|\n",
            "|Argentina|            2|     DF|   MERCADO Gabriel|     1987-03-18|    MERCADO|    Sevilla FC (ESP)|   181|  81| 18| 03|1987|         6|\n",
            "|Argentina|           17|     DF|  OTAMENDI Nicolas|     1988-02-12|   OTAMENDI|Manchester City F...|   181|  81| 12| 02|1988|         6|\n",
            "|Argentina|           13|     MF|  MEZA Maximiliano|     1992-12-15|       MEZA|CA Independiente ...|   180|  76| 15| 12|1992|         7|\n",
            "|Argentina|           11|     MF|    DI MARIA Angel|     1988-02-14|   DI MARÍA|Paris Saint-Germa...|   178|  75| 14| 02|1988|         8|\n",
            "|Argentina|           21|     FW|      DYBALA Paulo|     1993-11-15|     DYBALA|   Juventus FC (ITA)|   177|  73| 15| 11|1993|         9|\n",
            "|Argentina|           20|     MF|  LO CELSO Giovani|     1996-04-09|   LO CELSO|Paris Saint-Germa...|   177|  75| 09| 04|1996|         9|\n",
            "|Argentina|            5|     MF|      BIGLIA Lucas|     1986-01-30|     BIGLIA|      AC Milan (ITA)|   175|  73| 30| 01|1986|        10|\n",
            "|Argentina|            7|     MF|       BANEGA Ever|     1988-06-29|     BANEGA|    Sevilla FC (ESP)|   175|  73| 29| 06|1988|        10|\n",
            "|Argentina|           14|     DF| MASCHERANO Javier|     1984-06-08| MASCHERANO|Hebei China Fortu...|   174|  73| 08| 06|1984|        11|\n",
            "|Argentina|           19|     FW|     AGUERO Sergio|     1988-06-02|     AGÜERO|Manchester City F...|   172|  74| 02| 06|1988|        12|\n",
            "|Argentina|            8|     DF|      ACUNA Marcos|     1991-10-28|      ACUÑA|   Sporting CP (POR)|   172|  77| 28| 10|1991|        12|\n",
            "|Argentina|           10|     FW|      MESSI Lionel|     1987-06-24|      MESSI|  FC Barcelona (ESP)|   170|  72| 24| 06|1987|        13|\n",
            "|Argentina|            3|     DF|TAGLIAFICO Nicolas|     1992-08-31| TAGLIAFICO|      AFC Ajax (NED)|   169|  65| 31| 08|1992|        14|\n",
            "|Argentina|           22|     MF|    PAVON Cristian|     1996-01-21|      PAVÓN|CA Boca Juniors (...|   169|  65| 21| 01|1996|        14|\n",
            "|Argentina|           15|     MF|    LANZINI Manuel|     1993-02-15|    LANZINI|West Ham United F...|   167|  66| 15| 02|1993|        15|\n",
            "|Argentina|           18|     DF|    SALVIO Eduardo|     1990-07-13|     SALVIO|    SL Benfica (POR)|   167|  69| 13| 07|1990|        15|\n",
            "|Australia|           12|     GK|        JONES Brad|     1982-03-19|      JONES|Feyenoord Rotterd...|   193|  87| 19| 03|1982|         1|\n",
            "|Australia|            9|     FW|        JURIC Tomi|     1991-07-22|      JURIC|     FC Luzern (SUI)|   190|  80| 22| 07|1991|         2|\n",
            "+---------+-------------+-------+------------------+---------------+-----------+--------------------+------+----+---+---+----+----------+\n",
            "only showing top 25 rows\n",
            "\n"
          ]
        }
      ]
    },
    {
      "cell_type": "markdown",
      "source": [
        "### percent_rank()"
      ],
      "metadata": {
        "id": "Ioc7gYgZaDj3"
      }
    },
    {
      "cell_type": "code",
      "source": [
        "# Calcula a classificação percentual de dada linha (0 e 1).\n",
        "# O valor percentual é calculado por \n",
        "# (classificação determinada pela função RANK - 1) / (número de linhas de destino - 1) \n",
        "# e a primeira linha é sempre 0.\n",
        "\n",
        "porcentagem = Window.partitionBy('selecao').orderBy(desc('altura'))\n",
        "df.withColumn('%', percent_rank().over(porcentagem)).show(25)"
      ],
      "metadata": {
        "colab": {
          "base_uri": "https://localhost:8080/"
        },
        "id": "uGt6MdK6YL3z",
        "outputId": "5cdc6e31-5c3d-48d2-d67c-5eb7c377a0ba"
      },
      "execution_count": 142,
      "outputs": [
        {
          "output_type": "stream",
          "name": "stdout",
          "text": [
            "+---------+-------------+-------+------------------+---------------+-----------+--------------------+------+----+---+---+----+--------------------+\n",
            "|  selecao|numero_camisa|posicao|         nome_fifa|data_nascimento|nome_camisa|                time|altura|peso|dia|mes| ano|                   %|\n",
            "+---------+-------------+-------+------------------+---------------+-----------+--------------------+------+----+---+---+----+--------------------+\n",
            "|Argentina|            6|     DF|    FAZIO Federico|     1987-03-17|      FAZIO|       AS Roma (ITA)|   199|  85| 17| 03|1987|                 0.0|\n",
            "|Argentina|            1|     GK|     GUZMAN Nahuel|     1986-02-10|     GUZMÁN|   Tigres UANL (MEX)|   192|  90| 10| 02|1986|0.045454545454545456|\n",
            "|Argentina|           16|     DF|       ROJO Marcos|     1990-03-20|       ROJO|Manchester United...|   189|  82| 20| 03|1990| 0.09090909090909091|\n",
            "|Argentina|           12|     GK|     ARMANI Franco|     1986-10-16|     ARMANI|CA River Plate (ARG)|   189|  85| 16| 10|1986| 0.09090909090909091|\n",
            "|Argentina|           23|     GK|CABALLERO Wilfredo|     1981-09-28|  CABALLERO|    Chelsea FC (ENG)|   186|  80| 28| 09|1981| 0.18181818181818182|\n",
            "|Argentina|            9|     FW|   HIGUAIN Gonzalo|     1987-12-10|    HIGUAÍN|   Juventus FC (ITA)|   184|  75| 10| 12|1987| 0.22727272727272727|\n",
            "|Argentina|            4|     DF|  ANSALDI Cristian|     1986-09-20|    ANSALDI|     Torino FC (ITA)|   181|  73| 20| 09|1986|  0.2727272727272727|\n",
            "|Argentina|            2|     DF|   MERCADO Gabriel|     1987-03-18|    MERCADO|    Sevilla FC (ESP)|   181|  81| 18| 03|1987|  0.2727272727272727|\n",
            "|Argentina|           17|     DF|  OTAMENDI Nicolas|     1988-02-12|   OTAMENDI|Manchester City F...|   181|  81| 12| 02|1988|  0.2727272727272727|\n",
            "|Argentina|           13|     MF|  MEZA Maximiliano|     1992-12-15|       MEZA|CA Independiente ...|   180|  76| 15| 12|1992|  0.4090909090909091|\n",
            "|Argentina|           11|     MF|    DI MARIA Angel|     1988-02-14|   DI MARÍA|Paris Saint-Germa...|   178|  75| 14| 02|1988| 0.45454545454545453|\n",
            "|Argentina|           21|     FW|      DYBALA Paulo|     1993-11-15|     DYBALA|   Juventus FC (ITA)|   177|  73| 15| 11|1993|                 0.5|\n",
            "|Argentina|           20|     MF|  LO CELSO Giovani|     1996-04-09|   LO CELSO|Paris Saint-Germa...|   177|  75| 09| 04|1996|                 0.5|\n",
            "|Argentina|            5|     MF|      BIGLIA Lucas|     1986-01-30|     BIGLIA|      AC Milan (ITA)|   175|  73| 30| 01|1986|  0.5909090909090909|\n",
            "|Argentina|            7|     MF|       BANEGA Ever|     1988-06-29|     BANEGA|    Sevilla FC (ESP)|   175|  73| 29| 06|1988|  0.5909090909090909|\n",
            "|Argentina|           14|     DF| MASCHERANO Javier|     1984-06-08| MASCHERANO|Hebei China Fortu...|   174|  73| 08| 06|1984|  0.6818181818181818|\n",
            "|Argentina|           19|     FW|     AGUERO Sergio|     1988-06-02|     AGÜERO|Manchester City F...|   172|  74| 02| 06|1988|  0.7272727272727273|\n",
            "|Argentina|            8|     DF|      ACUNA Marcos|     1991-10-28|      ACUÑA|   Sporting CP (POR)|   172|  77| 28| 10|1991|  0.7272727272727273|\n",
            "|Argentina|           10|     FW|      MESSI Lionel|     1987-06-24|      MESSI|  FC Barcelona (ESP)|   170|  72| 24| 06|1987|  0.8181818181818182|\n",
            "|Argentina|            3|     DF|TAGLIAFICO Nicolas|     1992-08-31| TAGLIAFICO|      AFC Ajax (NED)|   169|  65| 31| 08|1992|  0.8636363636363636|\n",
            "|Argentina|           22|     MF|    PAVON Cristian|     1996-01-21|      PAVÓN|CA Boca Juniors (...|   169|  65| 21| 01|1996|  0.8636363636363636|\n",
            "|Argentina|           15|     MF|    LANZINI Manuel|     1993-02-15|    LANZINI|West Ham United F...|   167|  66| 15| 02|1993|  0.9545454545454546|\n",
            "|Argentina|           18|     DF|    SALVIO Eduardo|     1990-07-13|     SALVIO|    SL Benfica (POR)|   167|  69| 13| 07|1990|  0.9545454545454546|\n",
            "|Australia|           12|     GK|        JONES Brad|     1982-03-19|      JONES|Feyenoord Rotterd...|   193|  87| 19| 03|1982|                 0.0|\n",
            "|Australia|            9|     FW|        JURIC Tomi|     1991-07-22|      JURIC|     FC Luzern (SUI)|   190|  80| 22| 07|1991|0.045454545454545456|\n",
            "+---------+-------------+-------+------------------+---------------+-----------+--------------------+------+----+---+---+----+--------------------+\n",
            "only showing top 25 rows\n",
            "\n"
          ]
        }
      ]
    },
    {
      "cell_type": "markdown",
      "source": [
        "### ntile()"
      ],
      "metadata": {
        "id": "GGMRCalobk11"
      }
    },
    {
      "cell_type": "code",
      "source": [
        "# A função de janela NTILE divide as linhas ordenadas na partição no número especificado de \n",
        "# grupos classificados de tamanho o mais igual possível e \n",
        "# retorna o grupo em que dada linha se encontra.\n",
        "# ntile() -> recebe como parametro a qtd de grupos q deseja criar\n",
        "parte = Window.partitionBy('selecao').orderBy(desc('altura'))\n",
        "df.withColumn('partes', ntile(5).over(parte)).show(25)"
      ],
      "metadata": {
        "colab": {
          "base_uri": "https://localhost:8080/"
        },
        "id": "AeNCzV-AaoFa",
        "outputId": "1b32433f-a27e-4c6d-f1ed-be31434e544c"
      },
      "execution_count": 143,
      "outputs": [
        {
          "output_type": "stream",
          "name": "stdout",
          "text": [
            "+---------+-------------+-------+------------------+---------------+-----------+--------------------+------+----+---+---+----+------+\n",
            "|  selecao|numero_camisa|posicao|         nome_fifa|data_nascimento|nome_camisa|                time|altura|peso|dia|mes| ano|partes|\n",
            "+---------+-------------+-------+------------------+---------------+-----------+--------------------+------+----+---+---+----+------+\n",
            "|Argentina|            6|     DF|    FAZIO Federico|     1987-03-17|      FAZIO|       AS Roma (ITA)|   199|  85| 17| 03|1987|     1|\n",
            "|Argentina|            1|     GK|     GUZMAN Nahuel|     1986-02-10|     GUZMÁN|   Tigres UANL (MEX)|   192|  90| 10| 02|1986|     1|\n",
            "|Argentina|           16|     DF|       ROJO Marcos|     1990-03-20|       ROJO|Manchester United...|   189|  82| 20| 03|1990|     1|\n",
            "|Argentina|           12|     GK|     ARMANI Franco|     1986-10-16|     ARMANI|CA River Plate (ARG)|   189|  85| 16| 10|1986|     1|\n",
            "|Argentina|           23|     GK|CABALLERO Wilfredo|     1981-09-28|  CABALLERO|    Chelsea FC (ENG)|   186|  80| 28| 09|1981|     1|\n",
            "|Argentina|            9|     FW|   HIGUAIN Gonzalo|     1987-12-10|    HIGUAÍN|   Juventus FC (ITA)|   184|  75| 10| 12|1987|     2|\n",
            "|Argentina|            4|     DF|  ANSALDI Cristian|     1986-09-20|    ANSALDI|     Torino FC (ITA)|   181|  73| 20| 09|1986|     2|\n",
            "|Argentina|            2|     DF|   MERCADO Gabriel|     1987-03-18|    MERCADO|    Sevilla FC (ESP)|   181|  81| 18| 03|1987|     2|\n",
            "|Argentina|           17|     DF|  OTAMENDI Nicolas|     1988-02-12|   OTAMENDI|Manchester City F...|   181|  81| 12| 02|1988|     2|\n",
            "|Argentina|           13|     MF|  MEZA Maximiliano|     1992-12-15|       MEZA|CA Independiente ...|   180|  76| 15| 12|1992|     2|\n",
            "|Argentina|           11|     MF|    DI MARIA Angel|     1988-02-14|   DI MARÍA|Paris Saint-Germa...|   178|  75| 14| 02|1988|     3|\n",
            "|Argentina|           21|     FW|      DYBALA Paulo|     1993-11-15|     DYBALA|   Juventus FC (ITA)|   177|  73| 15| 11|1993|     3|\n",
            "|Argentina|           20|     MF|  LO CELSO Giovani|     1996-04-09|   LO CELSO|Paris Saint-Germa...|   177|  75| 09| 04|1996|     3|\n",
            "|Argentina|            5|     MF|      BIGLIA Lucas|     1986-01-30|     BIGLIA|      AC Milan (ITA)|   175|  73| 30| 01|1986|     3|\n",
            "|Argentina|            7|     MF|       BANEGA Ever|     1988-06-29|     BANEGA|    Sevilla FC (ESP)|   175|  73| 29| 06|1988|     3|\n",
            "|Argentina|           14|     DF| MASCHERANO Javier|     1984-06-08| MASCHERANO|Hebei China Fortu...|   174|  73| 08| 06|1984|     4|\n",
            "|Argentina|           19|     FW|     AGUERO Sergio|     1988-06-02|     AGÜERO|Manchester City F...|   172|  74| 02| 06|1988|     4|\n",
            "|Argentina|            8|     DF|      ACUNA Marcos|     1991-10-28|      ACUÑA|   Sporting CP (POR)|   172|  77| 28| 10|1991|     4|\n",
            "|Argentina|           10|     FW|      MESSI Lionel|     1987-06-24|      MESSI|  FC Barcelona (ESP)|   170|  72| 24| 06|1987|     4|\n",
            "|Argentina|            3|     DF|TAGLIAFICO Nicolas|     1992-08-31| TAGLIAFICO|      AFC Ajax (NED)|   169|  65| 31| 08|1992|     5|\n",
            "|Argentina|           22|     MF|    PAVON Cristian|     1996-01-21|      PAVÓN|CA Boca Juniors (...|   169|  65| 21| 01|1996|     5|\n",
            "|Argentina|           15|     MF|    LANZINI Manuel|     1993-02-15|    LANZINI|West Ham United F...|   167|  66| 15| 02|1993|     5|\n",
            "|Argentina|           18|     DF|    SALVIO Eduardo|     1990-07-13|     SALVIO|    SL Benfica (POR)|   167|  69| 13| 07|1990|     5|\n",
            "|Australia|           12|     GK|        JONES Brad|     1982-03-19|      JONES|Feyenoord Rotterd...|   193|  87| 19| 03|1982|     1|\n",
            "|Australia|            9|     FW|        JURIC Tomi|     1991-07-22|      JURIC|     FC Luzern (SUI)|   190|  80| 22| 07|1991|     1|\n",
            "+---------+-------------+-------+------------------+---------------+-----------+--------------------+------+----+---+---+----+------+\n",
            "only showing top 25 rows\n",
            "\n"
          ]
        }
      ]
    },
    {
      "cell_type": "markdown",
      "source": [
        "### lag()"
      ],
      "metadata": {
        "id": "lYHPrfKRblaS"
      }
    },
    {
      "cell_type": "code",
      "source": [
        "# A função LAG retorna os valores para uma linha em determinado \n",
        "# deslocamento acima (antes) da linha atual na partição.\n",
        "# lag() recebe como parametro aonde ele vai fazer o degrau\n",
        "# cria uma coluna nova baseada no peso anterior\n",
        "degrau = Window.partitionBy('selecao').orderBy(desc('altura'))\n",
        "df.withColumn('lag', lag('peso').over(degrau)).show(25)"
      ],
      "metadata": {
        "colab": {
          "base_uri": "https://localhost:8080/"
        },
        "id": "HWbTJ2g6blf4",
        "outputId": "c4f119e7-8b15-42e9-d29b-056e07c6e219"
      },
      "execution_count": 144,
      "outputs": [
        {
          "output_type": "stream",
          "name": "stdout",
          "text": [
            "+---------+-------------+-------+------------------+---------------+-----------+--------------------+------+----+---+---+----+----+\n",
            "|  selecao|numero_camisa|posicao|         nome_fifa|data_nascimento|nome_camisa|                time|altura|peso|dia|mes| ano| lag|\n",
            "+---------+-------------+-------+------------------+---------------+-----------+--------------------+------+----+---+---+----+----+\n",
            "|Argentina|            6|     DF|    FAZIO Federico|     1987-03-17|      FAZIO|       AS Roma (ITA)|   199|  85| 17| 03|1987|null|\n",
            "|Argentina|            1|     GK|     GUZMAN Nahuel|     1986-02-10|     GUZMÁN|   Tigres UANL (MEX)|   192|  90| 10| 02|1986|  85|\n",
            "|Argentina|           16|     DF|       ROJO Marcos|     1990-03-20|       ROJO|Manchester United...|   189|  82| 20| 03|1990|  90|\n",
            "|Argentina|           12|     GK|     ARMANI Franco|     1986-10-16|     ARMANI|CA River Plate (ARG)|   189|  85| 16| 10|1986|  82|\n",
            "|Argentina|           23|     GK|CABALLERO Wilfredo|     1981-09-28|  CABALLERO|    Chelsea FC (ENG)|   186|  80| 28| 09|1981|  85|\n",
            "|Argentina|            9|     FW|   HIGUAIN Gonzalo|     1987-12-10|    HIGUAÍN|   Juventus FC (ITA)|   184|  75| 10| 12|1987|  80|\n",
            "|Argentina|            4|     DF|  ANSALDI Cristian|     1986-09-20|    ANSALDI|     Torino FC (ITA)|   181|  73| 20| 09|1986|  75|\n",
            "|Argentina|            2|     DF|   MERCADO Gabriel|     1987-03-18|    MERCADO|    Sevilla FC (ESP)|   181|  81| 18| 03|1987|  73|\n",
            "|Argentina|           17|     DF|  OTAMENDI Nicolas|     1988-02-12|   OTAMENDI|Manchester City F...|   181|  81| 12| 02|1988|  81|\n",
            "|Argentina|           13|     MF|  MEZA Maximiliano|     1992-12-15|       MEZA|CA Independiente ...|   180|  76| 15| 12|1992|  81|\n",
            "|Argentina|           11|     MF|    DI MARIA Angel|     1988-02-14|   DI MARÍA|Paris Saint-Germa...|   178|  75| 14| 02|1988|  76|\n",
            "|Argentina|           21|     FW|      DYBALA Paulo|     1993-11-15|     DYBALA|   Juventus FC (ITA)|   177|  73| 15| 11|1993|  75|\n",
            "|Argentina|           20|     MF|  LO CELSO Giovani|     1996-04-09|   LO CELSO|Paris Saint-Germa...|   177|  75| 09| 04|1996|  73|\n",
            "|Argentina|            5|     MF|      BIGLIA Lucas|     1986-01-30|     BIGLIA|      AC Milan (ITA)|   175|  73| 30| 01|1986|  75|\n",
            "|Argentina|            7|     MF|       BANEGA Ever|     1988-06-29|     BANEGA|    Sevilla FC (ESP)|   175|  73| 29| 06|1988|  73|\n",
            "|Argentina|           14|     DF| MASCHERANO Javier|     1984-06-08| MASCHERANO|Hebei China Fortu...|   174|  73| 08| 06|1984|  73|\n",
            "|Argentina|           19|     FW|     AGUERO Sergio|     1988-06-02|     AGÜERO|Manchester City F...|   172|  74| 02| 06|1988|  73|\n",
            "|Argentina|            8|     DF|      ACUNA Marcos|     1991-10-28|      ACUÑA|   Sporting CP (POR)|   172|  77| 28| 10|1991|  74|\n",
            "|Argentina|           10|     FW|      MESSI Lionel|     1987-06-24|      MESSI|  FC Barcelona (ESP)|   170|  72| 24| 06|1987|  77|\n",
            "|Argentina|            3|     DF|TAGLIAFICO Nicolas|     1992-08-31| TAGLIAFICO|      AFC Ajax (NED)|   169|  65| 31| 08|1992|  72|\n",
            "|Argentina|           22|     MF|    PAVON Cristian|     1996-01-21|      PAVÓN|CA Boca Juniors (...|   169|  65| 21| 01|1996|  65|\n",
            "|Argentina|           15|     MF|    LANZINI Manuel|     1993-02-15|    LANZINI|West Ham United F...|   167|  66| 15| 02|1993|  65|\n",
            "|Argentina|           18|     DF|    SALVIO Eduardo|     1990-07-13|     SALVIO|    SL Benfica (POR)|   167|  69| 13| 07|1990|  66|\n",
            "|Australia|           12|     GK|        JONES Brad|     1982-03-19|      JONES|Feyenoord Rotterd...|   193|  87| 19| 03|1982|null|\n",
            "|Australia|            9|     FW|        JURIC Tomi|     1991-07-22|      JURIC|     FC Luzern (SUI)|   190|  80| 22| 07|1991|  87|\n",
            "+---------+-------------+-------+------------------+---------------+-----------+--------------------+------+----+---+---+----+----+\n",
            "only showing top 25 rows\n",
            "\n"
          ]
        }
      ]
    },
    {
      "cell_type": "markdown",
      "source": [
        "### lead()"
      ],
      "metadata": {
        "id": "av5y3hc7blmF"
      }
    },
    {
      "cell_type": "code",
      "source": [
        "degrau = Window.partitionBy('selecao').orderBy(desc('altura'))\n",
        "df.withColumn('lead', lead('peso').over(degrau)).show(25)"
      ],
      "metadata": {
        "colab": {
          "base_uri": "https://localhost:8080/"
        },
        "id": "Xfngoay6blst",
        "outputId": "e7540027-4a95-4781-c1e8-a88f96bb5c70"
      },
      "execution_count": 145,
      "outputs": [
        {
          "output_type": "stream",
          "name": "stdout",
          "text": [
            "+---------+-------------+-------+------------------+---------------+-----------+--------------------+------+----+---+---+----+----+\n",
            "|  selecao|numero_camisa|posicao|         nome_fifa|data_nascimento|nome_camisa|                time|altura|peso|dia|mes| ano|lead|\n",
            "+---------+-------------+-------+------------------+---------------+-----------+--------------------+------+----+---+---+----+----+\n",
            "|Argentina|            6|     DF|    FAZIO Federico|     1987-03-17|      FAZIO|       AS Roma (ITA)|   199|  85| 17| 03|1987|  90|\n",
            "|Argentina|            1|     GK|     GUZMAN Nahuel|     1986-02-10|     GUZMÁN|   Tigres UANL (MEX)|   192|  90| 10| 02|1986|  82|\n",
            "|Argentina|           16|     DF|       ROJO Marcos|     1990-03-20|       ROJO|Manchester United...|   189|  82| 20| 03|1990|  85|\n",
            "|Argentina|           12|     GK|     ARMANI Franco|     1986-10-16|     ARMANI|CA River Plate (ARG)|   189|  85| 16| 10|1986|  80|\n",
            "|Argentina|           23|     GK|CABALLERO Wilfredo|     1981-09-28|  CABALLERO|    Chelsea FC (ENG)|   186|  80| 28| 09|1981|  75|\n",
            "|Argentina|            9|     FW|   HIGUAIN Gonzalo|     1987-12-10|    HIGUAÍN|   Juventus FC (ITA)|   184|  75| 10| 12|1987|  73|\n",
            "|Argentina|            4|     DF|  ANSALDI Cristian|     1986-09-20|    ANSALDI|     Torino FC (ITA)|   181|  73| 20| 09|1986|  81|\n",
            "|Argentina|            2|     DF|   MERCADO Gabriel|     1987-03-18|    MERCADO|    Sevilla FC (ESP)|   181|  81| 18| 03|1987|  81|\n",
            "|Argentina|           17|     DF|  OTAMENDI Nicolas|     1988-02-12|   OTAMENDI|Manchester City F...|   181|  81| 12| 02|1988|  76|\n",
            "|Argentina|           13|     MF|  MEZA Maximiliano|     1992-12-15|       MEZA|CA Independiente ...|   180|  76| 15| 12|1992|  75|\n",
            "|Argentina|           11|     MF|    DI MARIA Angel|     1988-02-14|   DI MARÍA|Paris Saint-Germa...|   178|  75| 14| 02|1988|  73|\n",
            "|Argentina|           21|     FW|      DYBALA Paulo|     1993-11-15|     DYBALA|   Juventus FC (ITA)|   177|  73| 15| 11|1993|  75|\n",
            "|Argentina|           20|     MF|  LO CELSO Giovani|     1996-04-09|   LO CELSO|Paris Saint-Germa...|   177|  75| 09| 04|1996|  73|\n",
            "|Argentina|            5|     MF|      BIGLIA Lucas|     1986-01-30|     BIGLIA|      AC Milan (ITA)|   175|  73| 30| 01|1986|  73|\n",
            "|Argentina|            7|     MF|       BANEGA Ever|     1988-06-29|     BANEGA|    Sevilla FC (ESP)|   175|  73| 29| 06|1988|  73|\n",
            "|Argentina|           14|     DF| MASCHERANO Javier|     1984-06-08| MASCHERANO|Hebei China Fortu...|   174|  73| 08| 06|1984|  74|\n",
            "|Argentina|           19|     FW|     AGUERO Sergio|     1988-06-02|     AGÜERO|Manchester City F...|   172|  74| 02| 06|1988|  77|\n",
            "|Argentina|            8|     DF|      ACUNA Marcos|     1991-10-28|      ACUÑA|   Sporting CP (POR)|   172|  77| 28| 10|1991|  72|\n",
            "|Argentina|           10|     FW|      MESSI Lionel|     1987-06-24|      MESSI|  FC Barcelona (ESP)|   170|  72| 24| 06|1987|  65|\n",
            "|Argentina|            3|     DF|TAGLIAFICO Nicolas|     1992-08-31| TAGLIAFICO|      AFC Ajax (NED)|   169|  65| 31| 08|1992|  65|\n",
            "|Argentina|           22|     MF|    PAVON Cristian|     1996-01-21|      PAVÓN|CA Boca Juniors (...|   169|  65| 21| 01|1996|  66|\n",
            "|Argentina|           15|     MF|    LANZINI Manuel|     1993-02-15|    LANZINI|West Ham United F...|   167|  66| 15| 02|1993|  69|\n",
            "|Argentina|           18|     DF|    SALVIO Eduardo|     1990-07-13|     SALVIO|    SL Benfica (POR)|   167|  69| 13| 07|1990|null|\n",
            "|Australia|           12|     GK|        JONES Brad|     1982-03-19|      JONES|Feyenoord Rotterd...|   193|  87| 19| 03|1982|  80|\n",
            "|Australia|            9|     FW|        JURIC Tomi|     1991-07-22|      JURIC|     FC Luzern (SUI)|   190|  80| 22| 07|1991|  83|\n",
            "+---------+-------------+-------+------------------+---------------+-----------+--------------------+------+----+---+---+----+----+\n",
            "only showing top 25 rows\n",
            "\n"
          ]
        }
      ]
    },
    {
      "cell_type": "markdown",
      "source": [
        "# AGREGAÇÕES"
      ],
      "metadata": {
        "id": "VhV_MKCBbly6"
      }
    },
    {
      "cell_type": "markdown",
      "source": [
        "### GroupBy + AGG 1"
      ],
      "metadata": {
        "id": "6gV6D5TzfJ-i"
      }
    },
    {
      "cell_type": "code",
      "source": [
        "# Média da altura de cada seleção\n",
        "# https://sparkbyexamples.com/pyspark/pyspark-aggregate-functions/\n",
        "df.groupBy('selecao')\\\n",
        "  .agg({'altura': 'avg'})\\\n",
        "  .orderBy('avg(altura)', ascending=False)\\\n",
        "  .show()"
      ],
      "metadata": {
        "colab": {
          "base_uri": "https://localhost:8080/"
        },
        "id": "oAPeugvvbl5E",
        "outputId": "dc17760a-ce75-4bee-a9a5-ad5690d0f343"
      },
      "execution_count": 146,
      "outputs": [
        {
          "output_type": "stream",
          "name": "stdout",
          "text": [
            "+--------------+------------------+\n",
            "|       selecao|       avg(altura)|\n",
            "+--------------+------------------+\n",
            "|        Serbia|186.69565217391303|\n",
            "|       Denmark| 186.6086956521739|\n",
            "|       Germany| 185.7826086956522|\n",
            "|        Sweden| 185.7391304347826|\n",
            "|       Iceland|185.52173913043478|\n",
            "|       Belgium|185.34782608695653|\n",
            "|       Croatia| 185.2608695652174|\n",
            "|       Nigeria|184.52173913043478|\n",
            "|       IR Iran|184.47826086956522|\n",
            "|        Russia| 184.3913043478261|\n",
            "|       Senegal|183.65217391304347|\n",
            "|        France|183.30434782608697|\n",
            "|        Poland|183.17391304347825|\n",
            "|       Tunisia|183.08695652173913|\n",
            "|   Switzerland|182.91304347826087|\n",
            "|       England| 182.7391304347826|\n",
            "|       Morocco|182.69565217391303|\n",
            "|        Panama|182.17391304347825|\n",
            "|Korea Republic| 181.8695652173913|\n",
            "|       Uruguay|181.04347826086956|\n",
            "+--------------+------------------+\n",
            "only showing top 20 rows\n",
            "\n"
          ]
        }
      ]
    },
    {
      "cell_type": "markdown",
      "source": [
        "### GroupBy + AGG 2"
      ],
      "metadata": {
        "id": "V0gTtHJZfKce"
      }
    },
    {
      "cell_type": "code",
      "source": [
        "df.groupBy('selecao')\\\n",
        "  .agg(avg('altura'))\\\n",
        "  .orderBy('avg(altura)', ascending=False)\\\n",
        "  .show()"
      ],
      "metadata": {
        "colab": {
          "base_uri": "https://localhost:8080/"
        },
        "id": "3yj0QHB-fKiG",
        "outputId": "2bd49a9a-52b7-4cf6-cf98-13f5bd0a1887"
      },
      "execution_count": 147,
      "outputs": [
        {
          "output_type": "stream",
          "name": "stdout",
          "text": [
            "+--------------+------------------+\n",
            "|       selecao|       avg(altura)|\n",
            "+--------------+------------------+\n",
            "|        Serbia|186.69565217391303|\n",
            "|       Denmark| 186.6086956521739|\n",
            "|       Germany| 185.7826086956522|\n",
            "|        Sweden| 185.7391304347826|\n",
            "|       Iceland|185.52173913043478|\n",
            "|       Belgium|185.34782608695653|\n",
            "|       Croatia| 185.2608695652174|\n",
            "|       Nigeria|184.52173913043478|\n",
            "|       IR Iran|184.47826086956522|\n",
            "|        Russia| 184.3913043478261|\n",
            "|       Senegal|183.65217391304347|\n",
            "|        France|183.30434782608697|\n",
            "|        Poland|183.17391304347825|\n",
            "|       Tunisia|183.08695652173913|\n",
            "|   Switzerland|182.91304347826087|\n",
            "|       England| 182.7391304347826|\n",
            "|       Morocco|182.69565217391303|\n",
            "|        Panama|182.17391304347825|\n",
            "|Korea Republic| 181.8695652173913|\n",
            "|       Uruguay|181.04347826086956|\n",
            "+--------------+------------------+\n",
            "only showing top 20 rows\n",
            "\n"
          ]
        }
      ]
    },
    {
      "cell_type": "markdown",
      "source": [
        "# Manipulações"
      ],
      "metadata": {
        "id": "v40CpZZCRaiu"
      }
    },
    {
      "cell_type": "markdown",
      "source": [
        "### where"
      ],
      "metadata": {
        "id": "Q6ke5SGkiEPM"
      }
    },
    {
      "cell_type": "code",
      "source": [
        "# é a mesma coisa que o filter\n",
        "df.where(\"selecao = 'Brazil'\")\\\n",
        "  .where(\"posicao = 'DF'\").show()"
      ],
      "metadata": {
        "colab": {
          "base_uri": "https://localhost:8080/"
        },
        "id": "b9NMG1FeiEft",
        "outputId": "35b1f524-e2af-4073-eb30-af8bffe5dd5b"
      },
      "execution_count": 148,
      "outputs": [
        {
          "output_type": "stream",
          "name": "stdout",
          "text": [
            "+-------+-------------+-------+-------------+---------------+-----------+--------------------+------+----+---+---+----+\n",
            "|selecao|numero_camisa|posicao|    nome_fifa|data_nascimento|nome_camisa|                time|altura|peso|dia|mes| ano|\n",
            "+-------+-------------+-------+-------------+---------------+-----------+--------------------+------+----+---+---+----+\n",
            "| Brazil|           22|     DF|       FAGNER|     1989-06-11|     FAGNER|SC Corinthians (BRA)|   168|  67| 11| 06|1989|\n",
            "| Brazil|            6|     DF|  FILIPE LUIS|     1985-08-09|FILIPE LUIS|Atletico Madrid (...|   182|  73| 09| 08|1985|\n",
            "| Brazil|           13|     DF|   MARQUINHOS|     1994-05-14| MARQUINHOS|Paris Saint-Germa...|   183|  75| 14| 05|1994|\n",
            "| Brazil|            3|     DF|      MIRANDA|     1984-09-07|    MIRANDA|FC Internazionale...|   186|  78| 07| 09|1984|\n",
            "| Brazil|           14|     DF|       DANILO|     1991-07-15|     DANILO|Manchester City F...|   184|  78| 15| 07|1991|\n",
            "| Brazil|            2|     DF| THIAGO SILVA|     1984-09-22|   T. SILVA|Paris Saint-Germa...|   183|  79| 22| 09|1984|\n",
            "| Brazil|           12|     DF|      MARCELO|     1988-05-12|    MARCELO|Real Madrid CF (ESP)|   174|  80| 12| 05|1988|\n",
            "| Brazil|            4|     DF|PEDRO GEROMEL|     1985-09-21|    GEROMEL|   Grêmio FBPA (BRA)|   190|  84| 21| 09|1985|\n",
            "+-------+-------------+-------+-------------+---------------+-----------+--------------------+------+----+---+---+----+\n",
            "\n"
          ]
        }
      ]
    },
    {
      "cell_type": "markdown",
      "source": [
        "### describe()"
      ],
      "metadata": {
        "id": "rEVYWSZziqg3"
      }
    },
    {
      "cell_type": "code",
      "source": [
        "df.describe().show()"
      ],
      "metadata": {
        "colab": {
          "base_uri": "https://localhost:8080/"
        },
        "id": "4KiobdcjigRB",
        "outputId": "25724ac1-8b4c-48e2-87f7-435d653a689c"
      },
      "execution_count": 149,
      "outputs": [
        {
          "output_type": "stream",
          "name": "stdout",
          "text": [
            "+-------+---------+-----------------+-------+------------+-----------+--------------------+-----------------+-----------------+------------------+------------------+------------------+\n",
            "|summary|  selecao|    numero_camisa|posicao|   nome_fifa|nome_camisa|                time|           altura|             peso|               dia|               mes|               ano|\n",
            "+-------+---------+-----------------+-------+------------+-----------+--------------------+-----------------+-----------------+------------------+------------------+------------------+\n",
            "|  count|      736|              736|    736|         736|        736|                 736|              736|              736|               736|               736|               736|\n",
            "|   mean|     null|             12.0|   null|        null|       null|                null|182.4076086956522|77.18885869565217|15.793478260869565|5.8790760869565215| 1990.110054347826|\n",
            "| stddev|     null|6.637760461599851|   null|        null|       null|                null|6.930924233929302|7.233778346883639| 8.761123828732469|3.3782493094684387|3.9074472063626775|\n",
            "|    min|Argentina|                1|     DF|ABDALLA SAID|  A. ASHRAF|    1. FC Köln (GER)|              165|               59|                01|                01|              1973|\n",
            "|    max|  Uruguay|               23|     MF|ZUBER Steven|   ŽIVKOVIĆ|Étoile du Sahel (...|              201|               99|                31|                12|              1999|\n",
            "+-------+---------+-----------------+-------+------------+-----------+--------------------+-----------------+-----------------+------------------+------------------+------------------+\n",
            "\n"
          ]
        }
      ]
    },
    {
      "cell_type": "code",
      "source": [
        "df.where(\"selecao = 'Brazil'\").describe().show()"
      ],
      "metadata": {
        "colab": {
          "base_uri": "https://localhost:8080/"
        },
        "id": "A9Rd_xWMiyh4",
        "outputId": "ff05a48d-30b4-416d-d465-0bb20ce74dac"
      },
      "execution_count": 150,
      "outputs": [
        {
          "output_type": "stream",
          "name": "stdout",
          "text": [
            "+-------+-------+-----------------+-------+---------+-----------+--------------------+-----------------+-----------------+-----------------+-----------------+-----------------+\n",
            "|summary|selecao|    numero_camisa|posicao|nome_fifa|nome_camisa|                time|           altura|             peso|              dia|              mes|              ano|\n",
            "+-------+-------+-----------------+-------+---------+-----------+--------------------+-----------------+-----------------+-----------------+-----------------+-----------------+\n",
            "|  count|     23|               23|     23|       23|         23|                  23|               23|               23|               23|               23|               23|\n",
            "|   mean|   null|             12.0|   null|     null|       null|                null|180.7826086956522|76.56521739130434|11.26086956521739|6.130434782608695|1989.391304347826|\n",
            "| stddev|   null|6.782329983125267|   null|     null|       null|                null|7.354383490255254|8.239737898283606|6.876953549252538|2.784769418006175|3.499858833968506|\n",
            "|    min| Brazil|                1|     DF|  ALISSON|  A. BECKER|       AS Roma (ITA)|              168|               64|               02|               01|             1984|\n",
            "|    max| Brazil|               23|     MF|  WILLIAN|    WILLIAN|SC Corinthians (BRA)|              195|               92|               25|               10|             1997|\n",
            "+-------+-------+-----------------+-------+---------+-----------+--------------------+-----------------+-----------------+-----------------+-----------------+-----------------+\n",
            "\n"
          ]
        }
      ]
    },
    {
      "cell_type": "markdown",
      "source": [
        "### distinct()"
      ],
      "metadata": {
        "id": "n3s7fbisi_GU"
      }
    },
    {
      "cell_type": "code",
      "source": [
        "# retorna os valores não repetidos\n",
        "df.select(col('selecao')).distinct().show()"
      ],
      "metadata": {
        "colab": {
          "base_uri": "https://localhost:8080/"
        },
        "id": "cO7PFZWei-J1",
        "outputId": "137dba9f-9216-46ea-958c-ef56e75f2587"
      },
      "execution_count": 151,
      "outputs": [
        {
          "output_type": "stream",
          "name": "stdout",
          "text": [
            "+--------------+\n",
            "|       selecao|\n",
            "+--------------+\n",
            "|        Russia|\n",
            "|       Senegal|\n",
            "|        Sweden|\n",
            "|       IR Iran|\n",
            "|       Germany|\n",
            "|        France|\n",
            "|     Argentina|\n",
            "|       Belgium|\n",
            "|          Peru|\n",
            "|       Croatia|\n",
            "|       Nigeria|\n",
            "|Korea Republic|\n",
            "|         Spain|\n",
            "|       Denmark|\n",
            "|       Morocco|\n",
            "|        Panama|\n",
            "|       Iceland|\n",
            "|       Uruguay|\n",
            "|        Mexico|\n",
            "|       Tunisia|\n",
            "+--------------+\n",
            "only showing top 20 rows\n",
            "\n"
          ]
        }
      ]
    },
    {
      "cell_type": "markdown",
      "source": [
        "### collect()"
      ],
      "metadata": {
        "id": "ZTwtgJUdkGfM"
      }
    },
    {
      "cell_type": "code",
      "source": [
        "# retorna em formato de lista\n",
        "lista = df.select(col('selecao')).distinct().collect()\n",
        "lista"
      ],
      "metadata": {
        "colab": {
          "base_uri": "https://localhost:8080/"
        },
        "id": "cl-vmpy4j7Ez",
        "outputId": "1d9a71e1-9109-4f7f-deb6-3ece30b62e26"
      },
      "execution_count": 152,
      "outputs": [
        {
          "output_type": "execute_result",
          "data": {
            "text/plain": [
              "[Row(selecao='Russia'),\n",
              " Row(selecao='Senegal'),\n",
              " Row(selecao='Sweden'),\n",
              " Row(selecao='IR Iran'),\n",
              " Row(selecao='Germany'),\n",
              " Row(selecao='France'),\n",
              " Row(selecao='Argentina'),\n",
              " Row(selecao='Belgium'),\n",
              " Row(selecao='Peru'),\n",
              " Row(selecao='Croatia'),\n",
              " Row(selecao='Nigeria'),\n",
              " Row(selecao='Korea Republic'),\n",
              " Row(selecao='Spain'),\n",
              " Row(selecao='Denmark'),\n",
              " Row(selecao='Morocco'),\n",
              " Row(selecao='Panama'),\n",
              " Row(selecao='Iceland'),\n",
              " Row(selecao='Uruguay'),\n",
              " Row(selecao='Mexico'),\n",
              " Row(selecao='Tunisia'),\n",
              " Row(selecao='Saudi Arabia'),\n",
              " Row(selecao='Switzerland'),\n",
              " Row(selecao='Brazil'),\n",
              " Row(selecao='Japan'),\n",
              " Row(selecao='England'),\n",
              " Row(selecao='Poland'),\n",
              " Row(selecao='Portugal'),\n",
              " Row(selecao='Australia'),\n",
              " Row(selecao='Costa Rica'),\n",
              " Row(selecao='Egypt'),\n",
              " Row(selecao='Serbia'),\n",
              " Row(selecao='Colombia')]"
            ]
          },
          "metadata": {},
          "execution_count": 152
        }
      ]
    },
    {
      "cell_type": "code",
      "source": [
        "paises = [pais[0] for pais in lista]\n",
        "paises"
      ],
      "metadata": {
        "colab": {
          "base_uri": "https://localhost:8080/"
        },
        "id": "kp8um2uuk6J6",
        "outputId": "3d833fc5-d03f-4bd4-f719-8f767154fb03"
      },
      "execution_count": 153,
      "outputs": [
        {
          "output_type": "execute_result",
          "data": {
            "text/plain": [
              "['Russia',\n",
              " 'Senegal',\n",
              " 'Sweden',\n",
              " 'IR Iran',\n",
              " 'Germany',\n",
              " 'France',\n",
              " 'Argentina',\n",
              " 'Belgium',\n",
              " 'Peru',\n",
              " 'Croatia',\n",
              " 'Nigeria',\n",
              " 'Korea Republic',\n",
              " 'Spain',\n",
              " 'Denmark',\n",
              " 'Morocco',\n",
              " 'Panama',\n",
              " 'Iceland',\n",
              " 'Uruguay',\n",
              " 'Mexico',\n",
              " 'Tunisia',\n",
              " 'Saudi Arabia',\n",
              " 'Switzerland',\n",
              " 'Brazil',\n",
              " 'Japan',\n",
              " 'England',\n",
              " 'Poland',\n",
              " 'Portugal',\n",
              " 'Australia',\n",
              " 'Costa Rica',\n",
              " 'Egypt',\n",
              " 'Serbia',\n",
              " 'Colombia']"
            ]
          },
          "metadata": {},
          "execution_count": 153
        }
      ]
    },
    {
      "cell_type": "markdown",
      "source": [
        "### when() / otherwhise()\n",
        "- if / else"
      ],
      "metadata": {
        "id": "LGn025JtmJtS"
      }
    },
    {
      "cell_type": "code",
      "source": [
        "df.withColumn(\n",
        "    'if_else',\\\n",
        "    when(col('selecao') == 'Argentina', 'manitos')\\\n",
        "    .otherwise('outros')\n",
        ").show(25)"
      ],
      "metadata": {
        "colab": {
          "base_uri": "https://localhost:8080/"
        },
        "id": "HXV1jA6HltOQ",
        "outputId": "f3c624e6-207a-48ec-8516-72fa009ef85f"
      },
      "execution_count": 154,
      "outputs": [
        {
          "output_type": "stream",
          "name": "stdout",
          "text": [
            "+---------+-------------+-------+------------------+---------------+-----------+--------------------+------+----+---+---+----+-------+\n",
            "|  selecao|numero_camisa|posicao|         nome_fifa|data_nascimento|nome_camisa|                time|altura|peso|dia|mes| ano|if_else|\n",
            "+---------+-------------+-------+------------------+---------------+-----------+--------------------+------+----+---+---+----+-------+\n",
            "|Argentina|            3|     DF|TAGLIAFICO Nicolas|     1992-08-31| TAGLIAFICO|      AFC Ajax (NED)|   169|  65| 31| 08|1992|manitos|\n",
            "|Argentina|           22|     MF|    PAVON Cristian|     1996-01-21|      PAVÓN|CA Boca Juniors (...|   169|  65| 21| 01|1996|manitos|\n",
            "|Argentina|           15|     MF|    LANZINI Manuel|     1993-02-15|    LANZINI|West Ham United F...|   167|  66| 15| 02|1993|manitos|\n",
            "|Argentina|           18|     DF|    SALVIO Eduardo|     1990-07-13|     SALVIO|    SL Benfica (POR)|   167|  69| 13| 07|1990|manitos|\n",
            "|Argentina|           10|     FW|      MESSI Lionel|     1987-06-24|      MESSI|  FC Barcelona (ESP)|   170|  72| 24| 06|1987|manitos|\n",
            "|Argentina|            4|     DF|  ANSALDI Cristian|     1986-09-20|    ANSALDI|     Torino FC (ITA)|   181|  73| 20| 09|1986|manitos|\n",
            "|Argentina|            5|     MF|      BIGLIA Lucas|     1986-01-30|     BIGLIA|      AC Milan (ITA)|   175|  73| 30| 01|1986|manitos|\n",
            "|Argentina|            7|     MF|       BANEGA Ever|     1988-06-29|     BANEGA|    Sevilla FC (ESP)|   175|  73| 29| 06|1988|manitos|\n",
            "|Argentina|           14|     DF| MASCHERANO Javier|     1984-06-08| MASCHERANO|Hebei China Fortu...|   174|  73| 08| 06|1984|manitos|\n",
            "|Argentina|           21|     FW|      DYBALA Paulo|     1993-11-15|     DYBALA|   Juventus FC (ITA)|   177|  73| 15| 11|1993|manitos|\n",
            "|Argentina|           19|     FW|     AGUERO Sergio|     1988-06-02|     AGÜERO|Manchester City F...|   172|  74| 02| 06|1988|manitos|\n",
            "|Argentina|            9|     FW|   HIGUAIN Gonzalo|     1987-12-10|    HIGUAÍN|   Juventus FC (ITA)|   184|  75| 10| 12|1987|manitos|\n",
            "|Argentina|           11|     MF|    DI MARIA Angel|     1988-02-14|   DI MARÍA|Paris Saint-Germa...|   178|  75| 14| 02|1988|manitos|\n",
            "|Argentina|           20|     MF|  LO CELSO Giovani|     1996-04-09|   LO CELSO|Paris Saint-Germa...|   177|  75| 09| 04|1996|manitos|\n",
            "|Argentina|           13|     MF|  MEZA Maximiliano|     1992-12-15|       MEZA|CA Independiente ...|   180|  76| 15| 12|1992|manitos|\n",
            "|Argentina|            8|     DF|      ACUNA Marcos|     1991-10-28|      ACUÑA|   Sporting CP (POR)|   172|  77| 28| 10|1991|manitos|\n",
            "|Argentina|           23|     GK|CABALLERO Wilfredo|     1981-09-28|  CABALLERO|    Chelsea FC (ENG)|   186|  80| 28| 09|1981|manitos|\n",
            "|Argentina|            2|     DF|   MERCADO Gabriel|     1987-03-18|    MERCADO|    Sevilla FC (ESP)|   181|  81| 18| 03|1987|manitos|\n",
            "|Argentina|           17|     DF|  OTAMENDI Nicolas|     1988-02-12|   OTAMENDI|Manchester City F...|   181|  81| 12| 02|1988|manitos|\n",
            "|Argentina|           16|     DF|       ROJO Marcos|     1990-03-20|       ROJO|Manchester United...|   189|  82| 20| 03|1990|manitos|\n",
            "|Argentina|            6|     DF|    FAZIO Federico|     1987-03-17|      FAZIO|       AS Roma (ITA)|   199|  85| 17| 03|1987|manitos|\n",
            "|Argentina|           12|     GK|     ARMANI Franco|     1986-10-16|     ARMANI|CA River Plate (ARG)|   189|  85| 16| 10|1986|manitos|\n",
            "|Argentina|            1|     GK|     GUZMAN Nahuel|     1986-02-10|     GUZMÁN|   Tigres UANL (MEX)|   192|  90| 10| 02|1986|manitos|\n",
            "|Australia|           16|     DF|       BEHICH Aziz|     1990-12-16|     BEHICH|     Bursaspor (TUR)|   170|  63| 16| 12|1990| outros|\n",
            "|Australia|           10|     FW|      KRUSE Robbie|     1988-10-05|      KRUSE|    VfL Bochum (GER)|   180|  66| 05| 10|1988| outros|\n",
            "+---------+-------------+-------+------------------+---------------+-----------+--------------------+------+----+---+---+----+-------+\n",
            "only showing top 25 rows\n",
            "\n"
          ]
        }
      ]
    },
    {
      "cell_type": "markdown",
      "source": [
        "### concat()\n"
      ],
      "metadata": {
        "id": "cUNn2kFQoas4"
      }
    },
    {
      "cell_type": "code",
      "source": [
        "df_brazil = df.filter(\"selecao = 'Brazil'\")\n",
        "df_brazil.show(1)\n",
        "print(df_brazil.count())"
      ],
      "metadata": {
        "colab": {
          "base_uri": "https://localhost:8080/"
        },
        "id": "Cv0lpM_1ofV1",
        "outputId": "01c97b81-6df7-4cf7-8e35-3b9d91ddb051"
      },
      "execution_count": 155,
      "outputs": [
        {
          "output_type": "stream",
          "name": "stdout",
          "text": [
            "+-------+-------------+-------+---------+---------------+-----------+--------------------+------+----+---+---+----+\n",
            "|selecao|numero_camisa|posicao|nome_fifa|data_nascimento|nome_camisa|                time|altura|peso|dia|mes| ano|\n",
            "+-------+-------------+-------+---------+---------------+-----------+--------------------+------+----+---+---+----+\n",
            "| Brazil|           18|     MF|     FRED|     1993-03-05|       FRED|FC Shakhtar Donet...|   169|  64| 05| 03|1993|\n",
            "+-------+-------------+-------+---------+---------------+-----------+--------------------+------+----+---+---+----+\n",
            "only showing top 1 row\n",
            "\n",
            "23\n"
          ]
        }
      ]
    },
    {
      "cell_type": "code",
      "source": [
        "df_argentina = df.filter(\"selecao = 'Argentina'\")\n",
        "df_argentina.show(1)\n",
        "print(df_argentina.count())"
      ],
      "metadata": {
        "colab": {
          "base_uri": "https://localhost:8080/"
        },
        "id": "UO_OIiJro5V_",
        "outputId": "89106099-949b-4607-a0a7-ca49eaf60863"
      },
      "execution_count": 156,
      "outputs": [
        {
          "output_type": "stream",
          "name": "stdout",
          "text": [
            "+---------+-------------+-------+------------------+---------------+-----------+--------------+------+----+---+---+----+\n",
            "|  selecao|numero_camisa|posicao|         nome_fifa|data_nascimento|nome_camisa|          time|altura|peso|dia|mes| ano|\n",
            "+---------+-------------+-------+------------------+---------------+-----------+--------------+------+----+---+---+----+\n",
            "|Argentina|            3|     DF|TAGLIAFICO Nicolas|     1992-08-31| TAGLIAFICO|AFC Ajax (NED)|   169|  65| 31| 08|1992|\n",
            "+---------+-------------+-------+------------------+---------------+-----------+--------------+------+----+---+---+----+\n",
            "only showing top 1 row\n",
            "\n",
            "23\n"
          ]
        }
      ]
    },
    {
      "cell_type": "code",
      "source": [
        "df_bra_arg = df_brazil.union(df_argentina)\n",
        "df_bra_arg.show(50)\n",
        "print(df_bra_arg.count())"
      ],
      "metadata": {
        "colab": {
          "base_uri": "https://localhost:8080/"
        },
        "id": "-yoM_uV7pB8d",
        "outputId": "53c8d97a-3719-4db9-a029-1bd744bd8d5a"
      },
      "execution_count": 157,
      "outputs": [
        {
          "output_type": "stream",
          "name": "stdout",
          "text": [
            "+---------+-------------+-------+------------------+---------------+-----------+--------------------+------+----+---+---+----+\n",
            "|  selecao|numero_camisa|posicao|         nome_fifa|data_nascimento|nome_camisa|                time|altura|peso|dia|mes| ano|\n",
            "+---------+-------------+-------+------------------+---------------+-----------+--------------------+------+----+---+---+----+\n",
            "|   Brazil|           18|     MF|              FRED|     1993-03-05|       FRED|FC Shakhtar Donet...|   169|  64| 05| 03|1993|\n",
            "|   Brazil|           21|     FW|            TAISON|     1988-01-13|     TAISON|FC Shakhtar Donet...|   172|  64| 13| 01|1988|\n",
            "|   Brazil|           17|     MF|       FERNANDINHO|     1985-05-04|FERNANDINHO|Manchester City F...|   179|  67| 04| 05|1985|\n",
            "|   Brazil|           22|     DF|            FAGNER|     1989-06-11|     FAGNER|SC Corinthians (BRA)|   168|  67| 11| 06|1989|\n",
            "|   Brazil|           10|     FW|            NEYMAR|     1992-02-05|  NEYMAR JR|Paris Saint-Germa...|   175|  68| 05| 02|1992|\n",
            "|   Brazil|           11|     MF| PHILIPPE COUTINHO|     1992-06-12|P. COUTINHO|  FC Barcelona (ESP)|   172|  68| 12| 06|1992|\n",
            "|   Brazil|            7|     FW|     DOUGLAS COSTA|     1990-09-14|   D. COSTA|   Juventus FC (ITA)|   182|  70| 14| 09|1990|\n",
            "|   Brazil|            6|     DF|       FILIPE LUIS|     1985-08-09|FILIPE LUIS|Atletico Madrid (...|   182|  73| 09| 08|1985|\n",
            "|   Brazil|            9|     FW|     GABRIEL JESUS|     1997-04-03|   G. JESUS|Manchester City F...|   175|  73| 03| 04|1997|\n",
            "|   Brazil|           13|     DF|        MARQUINHOS|     1994-05-14| MARQUINHOS|Paris Saint-Germa...|   183|  75| 14| 05|1994|\n",
            "|   Brazil|           20|     FW|   ROBERTO FIRMINO|     1991-10-02|    FIRMINO|  Liverpool FC (ENG)|   181|  76| 02| 10|1991|\n",
            "|   Brazil|           19|     MF|           WILLIAN|     1988-08-09|    WILLIAN|    Chelsea FC (ENG)|   175|  77| 09| 08|1988|\n",
            "|   Brazil|            3|     DF|           MIRANDA|     1984-09-07|    MIRANDA|FC Internazionale...|   186|  78| 07| 09|1984|\n",
            "|   Brazil|           14|     DF|            DANILO|     1991-07-15|     DANILO|Manchester City F...|   184|  78| 15| 07|1991|\n",
            "|   Brazil|            2|     DF|      THIAGO SILVA|     1984-09-22|   T. SILVA|Paris Saint-Germa...|   183|  79| 22| 09|1984|\n",
            "|   Brazil|           12|     DF|           MARCELO|     1988-05-12|    MARCELO|Real Madrid CF (ESP)|   174|  80| 12| 05|1988|\n",
            "|   Brazil|           15|     MF|          PAULINHO|     1988-07-25|   PAULINHO|  FC Barcelona (ESP)|   181|  81| 25| 07|1988|\n",
            "|   Brazil|            4|     DF|     PEDRO GEROMEL|     1985-09-21|    GEROMEL|   Grêmio FBPA (BRA)|   190|  84| 21| 09|1985|\n",
            "|   Brazil|            5|     MF|          CASEMIRO|     1992-02-23|   CASEMIRO|Real Madrid CF (ESP)|   185|  84| 23| 02|1992|\n",
            "|   Brazil|            8|     MF|    RENATO AUGUSTO|     1988-02-08| R. AUGUSTO| Beijing Guoan (CHN)|   186|  86| 08| 02|1988|\n",
            "|   Brazil|           23|     GK|           EDERSON|     1993-08-17|    EDERSON|Manchester City F...|   188|  86| 17| 08|1993|\n",
            "|   Brazil|            1|     GK|           ALISSON|     1992-10-02|  A. BECKER|       AS Roma (ITA)|   193|  91| 02| 10|1992|\n",
            "|   Brazil|           16|     GK|            CASSIO|     1987-06-06|     CASSIO|SC Corinthians (BRA)|   195|  92| 06| 06|1987|\n",
            "|Argentina|            3|     DF|TAGLIAFICO Nicolas|     1992-08-31| TAGLIAFICO|      AFC Ajax (NED)|   169|  65| 31| 08|1992|\n",
            "|Argentina|           22|     MF|    PAVON Cristian|     1996-01-21|      PAVÓN|CA Boca Juniors (...|   169|  65| 21| 01|1996|\n",
            "|Argentina|           15|     MF|    LANZINI Manuel|     1993-02-15|    LANZINI|West Ham United F...|   167|  66| 15| 02|1993|\n",
            "|Argentina|           18|     DF|    SALVIO Eduardo|     1990-07-13|     SALVIO|    SL Benfica (POR)|   167|  69| 13| 07|1990|\n",
            "|Argentina|           10|     FW|      MESSI Lionel|     1987-06-24|      MESSI|  FC Barcelona (ESP)|   170|  72| 24| 06|1987|\n",
            "|Argentina|            4|     DF|  ANSALDI Cristian|     1986-09-20|    ANSALDI|     Torino FC (ITA)|   181|  73| 20| 09|1986|\n",
            "|Argentina|            5|     MF|      BIGLIA Lucas|     1986-01-30|     BIGLIA|      AC Milan (ITA)|   175|  73| 30| 01|1986|\n",
            "|Argentina|            7|     MF|       BANEGA Ever|     1988-06-29|     BANEGA|    Sevilla FC (ESP)|   175|  73| 29| 06|1988|\n",
            "|Argentina|           14|     DF| MASCHERANO Javier|     1984-06-08| MASCHERANO|Hebei China Fortu...|   174|  73| 08| 06|1984|\n",
            "|Argentina|           21|     FW|      DYBALA Paulo|     1993-11-15|     DYBALA|   Juventus FC (ITA)|   177|  73| 15| 11|1993|\n",
            "|Argentina|           19|     FW|     AGUERO Sergio|     1988-06-02|     AGÜERO|Manchester City F...|   172|  74| 02| 06|1988|\n",
            "|Argentina|            9|     FW|   HIGUAIN Gonzalo|     1987-12-10|    HIGUAÍN|   Juventus FC (ITA)|   184|  75| 10| 12|1987|\n",
            "|Argentina|           11|     MF|    DI MARIA Angel|     1988-02-14|   DI MARÍA|Paris Saint-Germa...|   178|  75| 14| 02|1988|\n",
            "|Argentina|           20|     MF|  LO CELSO Giovani|     1996-04-09|   LO CELSO|Paris Saint-Germa...|   177|  75| 09| 04|1996|\n",
            "|Argentina|           13|     MF|  MEZA Maximiliano|     1992-12-15|       MEZA|CA Independiente ...|   180|  76| 15| 12|1992|\n",
            "|Argentina|            8|     DF|      ACUNA Marcos|     1991-10-28|      ACUÑA|   Sporting CP (POR)|   172|  77| 28| 10|1991|\n",
            "|Argentina|           23|     GK|CABALLERO Wilfredo|     1981-09-28|  CABALLERO|    Chelsea FC (ENG)|   186|  80| 28| 09|1981|\n",
            "|Argentina|            2|     DF|   MERCADO Gabriel|     1987-03-18|    MERCADO|    Sevilla FC (ESP)|   181|  81| 18| 03|1987|\n",
            "|Argentina|           17|     DF|  OTAMENDI Nicolas|     1988-02-12|   OTAMENDI|Manchester City F...|   181|  81| 12| 02|1988|\n",
            "|Argentina|           16|     DF|       ROJO Marcos|     1990-03-20|       ROJO|Manchester United...|   189|  82| 20| 03|1990|\n",
            "|Argentina|            6|     DF|    FAZIO Federico|     1987-03-17|      FAZIO|       AS Roma (ITA)|   199|  85| 17| 03|1987|\n",
            "|Argentina|           12|     GK|     ARMANI Franco|     1986-10-16|     ARMANI|CA River Plate (ARG)|   189|  85| 16| 10|1986|\n",
            "|Argentina|            1|     GK|     GUZMAN Nahuel|     1986-02-10|     GUZMÁN|   Tigres UANL (MEX)|   192|  90| 10| 02|1986|\n",
            "+---------+-------------+-------+------------------+---------------+-----------+--------------------+------+----+---+---+----+\n",
            "\n",
            "46\n"
          ]
        }
      ]
    },
    {
      "cell_type": "markdown",
      "source": [
        "# JOINS"
      ],
      "metadata": {
        "id": "862ywX_6q6tU"
      }
    },
    {
      "cell_type": "code",
      "source": [
        "df_arg = df.filter('Selecao = \"Argentina\"')\n",
        "df_bra = df.filter('Selecao = \"Brazil\"')"
      ],
      "metadata": {
        "id": "uk3p2kikqdnF"
      },
      "execution_count": 158,
      "outputs": []
    },
    {
      "cell_type": "code",
      "source": [
        "# Dropando algumas cols. para uma melhor visualização \n",
        "df_arg = df_arg.drop('time', 'dia', 'mes', 'ano', 'peso', 'data_nascimento')\n",
        "df_bra = df_bra.drop('time', 'dia', 'mes', 'ano', 'peso', 'data_nascimento')"
      ],
      "metadata": {
        "id": "pEMswo1S5zRS"
      },
      "execution_count": 159,
      "outputs": []
    },
    {
      "cell_type": "code",
      "source": [
        "df_bra = df_bra.withColumn(\"numero_camisa\", when(df_bra.numero_camisa == 23, 80).otherwise(df_bra.numero_camisa))\n",
        "df_arg = df_arg.withColumn(\"numero_camisa\", when(df_arg.numero_camisa == 6, 99).otherwise(df_arg.numero_camisa))"
      ],
      "metadata": {
        "id": "THSuEWH171Fa"
      },
      "execution_count": 160,
      "outputs": []
    },
    {
      "cell_type": "markdown",
      "source": [
        "### inner join\n",
        "- retorna os dados que tem correspondências"
      ],
      "metadata": {
        "id": "ymhXdS6MsaZT"
      }
    },
    {
      "cell_type": "code",
      "source": [
        "df_arg.join(\n",
        "    df_bra, \n",
        "    df_arg['numero_camisa'] == df_bra['numero_camisa'], \n",
        "    'inner'\n",
        ").show(25)"
      ],
      "metadata": {
        "colab": {
          "base_uri": "https://localhost:8080/"
        },
        "id": "GlaAAzBG6--C",
        "outputId": "f2a36874-9a3c-43a8-f0ff-8945e8c45e21"
      },
      "execution_count": 161,
      "outputs": [
        {
          "output_type": "stream",
          "name": "stdout",
          "text": [
            "+---------+-------------+-------+------------------+-----------+------+-------+-------------+-------+-----------------+-----------+------+\n",
            "|  selecao|numero_camisa|posicao|         nome_fifa|nome_camisa|altura|selecao|numero_camisa|posicao|        nome_fifa|nome_camisa|altura|\n",
            "+---------+-------------+-------+------------------+-----------+------+-------+-------------+-------+-----------------+-----------+------+\n",
            "|Argentina|            3|     DF|TAGLIAFICO Nicolas| TAGLIAFICO|   169| Brazil|            3|     DF|          MIRANDA|    MIRANDA|   186|\n",
            "|Argentina|           22|     MF|    PAVON Cristian|      PAVÓN|   169| Brazil|           22|     DF|           FAGNER|     FAGNER|   168|\n",
            "|Argentina|           15|     MF|    LANZINI Manuel|    LANZINI|   167| Brazil|           15|     MF|         PAULINHO|   PAULINHO|   181|\n",
            "|Argentina|           18|     DF|    SALVIO Eduardo|     SALVIO|   167| Brazil|           18|     MF|             FRED|       FRED|   169|\n",
            "|Argentina|           10|     FW|      MESSI Lionel|      MESSI|   170| Brazil|           10|     FW|           NEYMAR|  NEYMAR JR|   175|\n",
            "|Argentina|            4|     DF|  ANSALDI Cristian|    ANSALDI|   181| Brazil|            4|     DF|    PEDRO GEROMEL|    GEROMEL|   190|\n",
            "|Argentina|            5|     MF|      BIGLIA Lucas|     BIGLIA|   175| Brazil|            5|     MF|         CASEMIRO|   CASEMIRO|   185|\n",
            "|Argentina|            7|     MF|       BANEGA Ever|     BANEGA|   175| Brazil|            7|     FW|    DOUGLAS COSTA|   D. COSTA|   182|\n",
            "|Argentina|           14|     DF| MASCHERANO Javier| MASCHERANO|   174| Brazil|           14|     DF|           DANILO|     DANILO|   184|\n",
            "|Argentina|           21|     FW|      DYBALA Paulo|     DYBALA|   177| Brazil|           21|     FW|           TAISON|     TAISON|   172|\n",
            "|Argentina|           19|     FW|     AGUERO Sergio|     AGÜERO|   172| Brazil|           19|     MF|          WILLIAN|    WILLIAN|   175|\n",
            "|Argentina|            9|     FW|   HIGUAIN Gonzalo|    HIGUAÍN|   184| Brazil|            9|     FW|    GABRIEL JESUS|   G. JESUS|   175|\n",
            "|Argentina|           11|     MF|    DI MARIA Angel|   DI MARÍA|   178| Brazil|           11|     MF|PHILIPPE COUTINHO|P. COUTINHO|   172|\n",
            "|Argentina|           20|     MF|  LO CELSO Giovani|   LO CELSO|   177| Brazil|           20|     FW|  ROBERTO FIRMINO|    FIRMINO|   181|\n",
            "|Argentina|           13|     MF|  MEZA Maximiliano|       MEZA|   180| Brazil|           13|     DF|       MARQUINHOS| MARQUINHOS|   183|\n",
            "|Argentina|            8|     DF|      ACUNA Marcos|      ACUÑA|   172| Brazil|            8|     MF|   RENATO AUGUSTO| R. AUGUSTO|   186|\n",
            "|Argentina|            2|     DF|   MERCADO Gabriel|    MERCADO|   181| Brazil|            2|     DF|     THIAGO SILVA|   T. SILVA|   183|\n",
            "|Argentina|           17|     DF|  OTAMENDI Nicolas|   OTAMENDI|   181| Brazil|           17|     MF|      FERNANDINHO|FERNANDINHO|   179|\n",
            "|Argentina|           16|     DF|       ROJO Marcos|       ROJO|   189| Brazil|           16|     GK|           CASSIO|     CASSIO|   195|\n",
            "|Argentina|           12|     GK|     ARMANI Franco|     ARMANI|   189| Brazil|           12|     DF|          MARCELO|    MARCELO|   174|\n",
            "|Argentina|            1|     GK|     GUZMAN Nahuel|     GUZMÁN|   192| Brazil|            1|     GK|          ALISSON|  A. BECKER|   193|\n",
            "+---------+-------------+-------+------------------+-----------+------+-------+-------------+-------+-----------------+-----------+------+\n",
            "\n"
          ]
        }
      ]
    },
    {
      "cell_type": "markdown",
      "source": [
        "### left join\n",
        "- retorna todas as linhas do df da esquerda, tendo ou não correspondencia com o df da direita"
      ],
      "metadata": {
        "id": "YKxHjFOdxkw8"
      }
    },
    {
      "cell_type": "code",
      "source": [
        "df_novo = df_arg.join(df_bra, df_arg['numero_camisa'] == df_bra['numero_camisa'], 'left')\n",
        "df_novo.show(25)"
      ],
      "metadata": {
        "colab": {
          "base_uri": "https://localhost:8080/"
        },
        "id": "UKK0EOfDyAQk",
        "outputId": "0767a4bf-dc10-4641-f386-f699dfb66158"
      },
      "execution_count": 162,
      "outputs": [
        {
          "output_type": "stream",
          "name": "stdout",
          "text": [
            "+---------+-------------+-------+------------------+-----------+------+-------+-------------+-------+-----------------+-----------+------+\n",
            "|  selecao|numero_camisa|posicao|         nome_fifa|nome_camisa|altura|selecao|numero_camisa|posicao|        nome_fifa|nome_camisa|altura|\n",
            "+---------+-------------+-------+------------------+-----------+------+-------+-------------+-------+-----------------+-----------+------+\n",
            "|Argentina|            3|     DF|TAGLIAFICO Nicolas| TAGLIAFICO|   169| Brazil|            3|     DF|          MIRANDA|    MIRANDA|   186|\n",
            "|Argentina|           22|     MF|    PAVON Cristian|      PAVÓN|   169| Brazil|           22|     DF|           FAGNER|     FAGNER|   168|\n",
            "|Argentina|           15|     MF|    LANZINI Manuel|    LANZINI|   167| Brazil|           15|     MF|         PAULINHO|   PAULINHO|   181|\n",
            "|Argentina|           18|     DF|    SALVIO Eduardo|     SALVIO|   167| Brazil|           18|     MF|             FRED|       FRED|   169|\n",
            "|Argentina|           10|     FW|      MESSI Lionel|      MESSI|   170| Brazil|           10|     FW|           NEYMAR|  NEYMAR JR|   175|\n",
            "|Argentina|            4|     DF|  ANSALDI Cristian|    ANSALDI|   181| Brazil|            4|     DF|    PEDRO GEROMEL|    GEROMEL|   190|\n",
            "|Argentina|            5|     MF|      BIGLIA Lucas|     BIGLIA|   175| Brazil|            5|     MF|         CASEMIRO|   CASEMIRO|   185|\n",
            "|Argentina|            7|     MF|       BANEGA Ever|     BANEGA|   175| Brazil|            7|     FW|    DOUGLAS COSTA|   D. COSTA|   182|\n",
            "|Argentina|           14|     DF| MASCHERANO Javier| MASCHERANO|   174| Brazil|           14|     DF|           DANILO|     DANILO|   184|\n",
            "|Argentina|           21|     FW|      DYBALA Paulo|     DYBALA|   177| Brazil|           21|     FW|           TAISON|     TAISON|   172|\n",
            "|Argentina|           19|     FW|     AGUERO Sergio|     AGÜERO|   172| Brazil|           19|     MF|          WILLIAN|    WILLIAN|   175|\n",
            "|Argentina|            9|     FW|   HIGUAIN Gonzalo|    HIGUAÍN|   184| Brazil|            9|     FW|    GABRIEL JESUS|   G. JESUS|   175|\n",
            "|Argentina|           11|     MF|    DI MARIA Angel|   DI MARÍA|   178| Brazil|           11|     MF|PHILIPPE COUTINHO|P. COUTINHO|   172|\n",
            "|Argentina|           20|     MF|  LO CELSO Giovani|   LO CELSO|   177| Brazil|           20|     FW|  ROBERTO FIRMINO|    FIRMINO|   181|\n",
            "|Argentina|           13|     MF|  MEZA Maximiliano|       MEZA|   180| Brazil|           13|     DF|       MARQUINHOS| MARQUINHOS|   183|\n",
            "|Argentina|            8|     DF|      ACUNA Marcos|      ACUÑA|   172| Brazil|            8|     MF|   RENATO AUGUSTO| R. AUGUSTO|   186|\n",
            "|Argentina|           23|     GK|CABALLERO Wilfredo|  CABALLERO|   186|   null|         null|   null|             null|       null|  null|\n",
            "|Argentina|            2|     DF|   MERCADO Gabriel|    MERCADO|   181| Brazil|            2|     DF|     THIAGO SILVA|   T. SILVA|   183|\n",
            "|Argentina|           17|     DF|  OTAMENDI Nicolas|   OTAMENDI|   181| Brazil|           17|     MF|      FERNANDINHO|FERNANDINHO|   179|\n",
            "|Argentina|           16|     DF|       ROJO Marcos|       ROJO|   189| Brazil|           16|     GK|           CASSIO|     CASSIO|   195|\n",
            "|Argentina|           99|     DF|    FAZIO Federico|      FAZIO|   199|   null|         null|   null|             null|       null|  null|\n",
            "|Argentina|           12|     GK|     ARMANI Franco|     ARMANI|   189| Brazil|           12|     DF|          MARCELO|    MARCELO|   174|\n",
            "|Argentina|            1|     GK|     GUZMAN Nahuel|     GUZMÁN|   192| Brazil|            1|     GK|          ALISSON|  A. BECKER|   193|\n",
            "+---------+-------------+-------+------------------+-----------+------+-------+-------------+-------+-----------------+-----------+------+\n",
            "\n"
          ]
        }
      ]
    },
    {
      "cell_type": "markdown",
      "source": [
        "### right join\n",
        "- retorna todas as linhas do df da direita, tendo ou não correspondencia com o df da esquerda"
      ],
      "metadata": {
        "id": "XerFZ5nB7LWF"
      }
    },
    {
      "cell_type": "code",
      "source": [
        "df_arg.join(\n",
        "    df_bra, \n",
        "    df_arg['numero_camisa'] == df_bra['numero_camisa'], \n",
        "    'right'\n",
        ").show(25)\n"
      ],
      "metadata": {
        "colab": {
          "base_uri": "https://localhost:8080/"
        },
        "id": "4BN9bJrf7Phs",
        "outputId": "510feef3-52c3-4709-9489-12430857001f"
      },
      "execution_count": 163,
      "outputs": [
        {
          "output_type": "stream",
          "name": "stdout",
          "text": [
            "+---------+-------------+-------+------------------+-----------+------+-------+-------------+-------+-----------------+-----------+------+\n",
            "|  selecao|numero_camisa|posicao|         nome_fifa|nome_camisa|altura|selecao|numero_camisa|posicao|        nome_fifa|nome_camisa|altura|\n",
            "+---------+-------------+-------+------------------+-----------+------+-------+-------------+-------+-----------------+-----------+------+\n",
            "|Argentina|           18|     DF|    SALVIO Eduardo|     SALVIO|   167| Brazil|           18|     MF|             FRED|       FRED|   169|\n",
            "|Argentina|           21|     FW|      DYBALA Paulo|     DYBALA|   177| Brazil|           21|     FW|           TAISON|     TAISON|   172|\n",
            "|Argentina|           17|     DF|  OTAMENDI Nicolas|   OTAMENDI|   181| Brazil|           17|     MF|      FERNANDINHO|FERNANDINHO|   179|\n",
            "|Argentina|           22|     MF|    PAVON Cristian|      PAVÓN|   169| Brazil|           22|     DF|           FAGNER|     FAGNER|   168|\n",
            "|Argentina|           10|     FW|      MESSI Lionel|      MESSI|   170| Brazil|           10|     FW|           NEYMAR|  NEYMAR JR|   175|\n",
            "|Argentina|           11|     MF|    DI MARIA Angel|   DI MARÍA|   178| Brazil|           11|     MF|PHILIPPE COUTINHO|P. COUTINHO|   172|\n",
            "|Argentina|            7|     MF|       BANEGA Ever|     BANEGA|   175| Brazil|            7|     FW|    DOUGLAS COSTA|   D. COSTA|   182|\n",
            "|     null|         null|   null|              null|       null|  null| Brazil|            6|     DF|      FILIPE LUIS|FILIPE LUIS|   182|\n",
            "|Argentina|            9|     FW|   HIGUAIN Gonzalo|    HIGUAÍN|   184| Brazil|            9|     FW|    GABRIEL JESUS|   G. JESUS|   175|\n",
            "|Argentina|           13|     MF|  MEZA Maximiliano|       MEZA|   180| Brazil|           13|     DF|       MARQUINHOS| MARQUINHOS|   183|\n",
            "|Argentina|           20|     MF|  LO CELSO Giovani|   LO CELSO|   177| Brazil|           20|     FW|  ROBERTO FIRMINO|    FIRMINO|   181|\n",
            "|Argentina|           19|     FW|     AGUERO Sergio|     AGÜERO|   172| Brazil|           19|     MF|          WILLIAN|    WILLIAN|   175|\n",
            "|Argentina|            3|     DF|TAGLIAFICO Nicolas| TAGLIAFICO|   169| Brazil|            3|     DF|          MIRANDA|    MIRANDA|   186|\n",
            "|Argentina|           14|     DF| MASCHERANO Javier| MASCHERANO|   174| Brazil|           14|     DF|           DANILO|     DANILO|   184|\n",
            "|Argentina|            2|     DF|   MERCADO Gabriel|    MERCADO|   181| Brazil|            2|     DF|     THIAGO SILVA|   T. SILVA|   183|\n",
            "|Argentina|           12|     GK|     ARMANI Franco|     ARMANI|   189| Brazil|           12|     DF|          MARCELO|    MARCELO|   174|\n",
            "|Argentina|           15|     MF|    LANZINI Manuel|    LANZINI|   167| Brazil|           15|     MF|         PAULINHO|   PAULINHO|   181|\n",
            "|Argentina|            4|     DF|  ANSALDI Cristian|    ANSALDI|   181| Brazil|            4|     DF|    PEDRO GEROMEL|    GEROMEL|   190|\n",
            "|Argentina|            5|     MF|      BIGLIA Lucas|     BIGLIA|   175| Brazil|            5|     MF|         CASEMIRO|   CASEMIRO|   185|\n",
            "|Argentina|            8|     DF|      ACUNA Marcos|      ACUÑA|   172| Brazil|            8|     MF|   RENATO AUGUSTO| R. AUGUSTO|   186|\n",
            "|     null|         null|   null|              null|       null|  null| Brazil|           80|     GK|          EDERSON|    EDERSON|   188|\n",
            "|Argentina|            1|     GK|     GUZMAN Nahuel|     GUZMÁN|   192| Brazil|            1|     GK|          ALISSON|  A. BECKER|   193|\n",
            "|Argentina|           16|     DF|       ROJO Marcos|       ROJO|   189| Brazil|           16|     GK|           CASSIO|     CASSIO|   195|\n",
            "+---------+-------------+-------+------------------+-----------+------+-------+-------------+-------+-----------------+-----------+------+\n",
            "\n"
          ]
        }
      ]
    },
    {
      "cell_type": "markdown",
      "source": [
        "### full join\n",
        "- junção do left + right join"
      ],
      "metadata": {
        "id": "a72_r0bV8bll"
      }
    },
    {
      "cell_type": "code",
      "source": [
        "df_arg.join(\n",
        "    df_bra, \n",
        "    df_arg['numero_camisa'] == df_bra['numero_camisa'], \n",
        "    'full'\n",
        ").show(25)"
      ],
      "metadata": {
        "colab": {
          "base_uri": "https://localhost:8080/"
        },
        "id": "6VtifoYl8bsb",
        "outputId": "aebf8081-6cca-498b-acf5-d2a4eccd86c9"
      },
      "execution_count": 164,
      "outputs": [
        {
          "output_type": "stream",
          "name": "stdout",
          "text": [
            "+---------+-------------+-------+------------------+-----------+------+-------+-------------+-------+-----------------+-----------+------+\n",
            "|  selecao|numero_camisa|posicao|         nome_fifa|nome_camisa|altura|selecao|numero_camisa|posicao|        nome_fifa|nome_camisa|altura|\n",
            "+---------+-------------+-------+------------------+-----------+------+-------+-------------+-------+-----------------+-----------+------+\n",
            "|Argentina|            1|     GK|     GUZMAN Nahuel|     GUZMÁN|   192| Brazil|            1|     GK|          ALISSON|  A. BECKER|   193|\n",
            "|Argentina|            2|     DF|   MERCADO Gabriel|    MERCADO|   181| Brazil|            2|     DF|     THIAGO SILVA|   T. SILVA|   183|\n",
            "|Argentina|            3|     DF|TAGLIAFICO Nicolas| TAGLIAFICO|   169| Brazil|            3|     DF|          MIRANDA|    MIRANDA|   186|\n",
            "|Argentina|            4|     DF|  ANSALDI Cristian|    ANSALDI|   181| Brazil|            4|     DF|    PEDRO GEROMEL|    GEROMEL|   190|\n",
            "|Argentina|            5|     MF|      BIGLIA Lucas|     BIGLIA|   175| Brazil|            5|     MF|         CASEMIRO|   CASEMIRO|   185|\n",
            "|     null|         null|   null|              null|       null|  null| Brazil|            6|     DF|      FILIPE LUIS|FILIPE LUIS|   182|\n",
            "|Argentina|            7|     MF|       BANEGA Ever|     BANEGA|   175| Brazil|            7|     FW|    DOUGLAS COSTA|   D. COSTA|   182|\n",
            "|Argentina|            8|     DF|      ACUNA Marcos|      ACUÑA|   172| Brazil|            8|     MF|   RENATO AUGUSTO| R. AUGUSTO|   186|\n",
            "|Argentina|            9|     FW|   HIGUAIN Gonzalo|    HIGUAÍN|   184| Brazil|            9|     FW|    GABRIEL JESUS|   G. JESUS|   175|\n",
            "|Argentina|           10|     FW|      MESSI Lionel|      MESSI|   170| Brazil|           10|     FW|           NEYMAR|  NEYMAR JR|   175|\n",
            "|Argentina|           11|     MF|    DI MARIA Angel|   DI MARÍA|   178| Brazil|           11|     MF|PHILIPPE COUTINHO|P. COUTINHO|   172|\n",
            "|Argentina|           12|     GK|     ARMANI Franco|     ARMANI|   189| Brazil|           12|     DF|          MARCELO|    MARCELO|   174|\n",
            "|Argentina|           13|     MF|  MEZA Maximiliano|       MEZA|   180| Brazil|           13|     DF|       MARQUINHOS| MARQUINHOS|   183|\n",
            "|Argentina|           14|     DF| MASCHERANO Javier| MASCHERANO|   174| Brazil|           14|     DF|           DANILO|     DANILO|   184|\n",
            "|Argentina|           15|     MF|    LANZINI Manuel|    LANZINI|   167| Brazil|           15|     MF|         PAULINHO|   PAULINHO|   181|\n",
            "|Argentina|           16|     DF|       ROJO Marcos|       ROJO|   189| Brazil|           16|     GK|           CASSIO|     CASSIO|   195|\n",
            "|Argentina|           17|     DF|  OTAMENDI Nicolas|   OTAMENDI|   181| Brazil|           17|     MF|      FERNANDINHO|FERNANDINHO|   179|\n",
            "|Argentina|           18|     DF|    SALVIO Eduardo|     SALVIO|   167| Brazil|           18|     MF|             FRED|       FRED|   169|\n",
            "|Argentina|           19|     FW|     AGUERO Sergio|     AGÜERO|   172| Brazil|           19|     MF|          WILLIAN|    WILLIAN|   175|\n",
            "|Argentina|           20|     MF|  LO CELSO Giovani|   LO CELSO|   177| Brazil|           20|     FW|  ROBERTO FIRMINO|    FIRMINO|   181|\n",
            "|Argentina|           21|     FW|      DYBALA Paulo|     DYBALA|   177| Brazil|           21|     FW|           TAISON|     TAISON|   172|\n",
            "|Argentina|           22|     MF|    PAVON Cristian|      PAVÓN|   169| Brazil|           22|     DF|           FAGNER|     FAGNER|   168|\n",
            "|Argentina|           23|     GK|CABALLERO Wilfredo|  CABALLERO|   186|   null|         null|   null|             null|       null|  null|\n",
            "|     null|         null|   null|              null|       null|  null| Brazil|           80|     GK|          EDERSON|    EDERSON|   188|\n",
            "|Argentina|           99|     DF|    FAZIO Federico|      FAZIO|   199|   null|         null|   null|             null|       null|  null|\n",
            "+---------+-------------+-------+------------------+-----------+------+-------+-------------+-------+-----------------+-----------+------+\n",
            "\n"
          ]
        }
      ]
    },
    {
      "cell_type": "markdown",
      "source": [
        "### semi join\n",
        "- similar ao inner join, porém apenas os dados do df esquerdo é mostrado"
      ],
      "metadata": {
        "id": "8j91fdSt9ITo"
      }
    },
    {
      "cell_type": "code",
      "source": [
        "df_arg.join(\n",
        "    df_bra, \n",
        "    df_arg['numero_camisa'] == df_bra['numero_camisa'], \n",
        "    'semi'\n",
        ").show(25)"
      ],
      "metadata": {
        "colab": {
          "base_uri": "https://localhost:8080/"
        },
        "id": "fForBxE49Ibz",
        "outputId": "5f996618-1c4f-47ff-a095-9beb64fc2586"
      },
      "execution_count": 165,
      "outputs": [
        {
          "output_type": "stream",
          "name": "stdout",
          "text": [
            "+---------+-------------+-------+------------------+-----------+------+\n",
            "|  selecao|numero_camisa|posicao|         nome_fifa|nome_camisa|altura|\n",
            "+---------+-------------+-------+------------------+-----------+------+\n",
            "|Argentina|            3|     DF|TAGLIAFICO Nicolas| TAGLIAFICO|   169|\n",
            "|Argentina|           22|     MF|    PAVON Cristian|      PAVÓN|   169|\n",
            "|Argentina|           15|     MF|    LANZINI Manuel|    LANZINI|   167|\n",
            "|Argentina|           18|     DF|    SALVIO Eduardo|     SALVIO|   167|\n",
            "|Argentina|           10|     FW|      MESSI Lionel|      MESSI|   170|\n",
            "|Argentina|            4|     DF|  ANSALDI Cristian|    ANSALDI|   181|\n",
            "|Argentina|            5|     MF|      BIGLIA Lucas|     BIGLIA|   175|\n",
            "|Argentina|            7|     MF|       BANEGA Ever|     BANEGA|   175|\n",
            "|Argentina|           14|     DF| MASCHERANO Javier| MASCHERANO|   174|\n",
            "|Argentina|           21|     FW|      DYBALA Paulo|     DYBALA|   177|\n",
            "|Argentina|           19|     FW|     AGUERO Sergio|     AGÜERO|   172|\n",
            "|Argentina|            9|     FW|   HIGUAIN Gonzalo|    HIGUAÍN|   184|\n",
            "|Argentina|           11|     MF|    DI MARIA Angel|   DI MARÍA|   178|\n",
            "|Argentina|           20|     MF|  LO CELSO Giovani|   LO CELSO|   177|\n",
            "|Argentina|           13|     MF|  MEZA Maximiliano|       MEZA|   180|\n",
            "|Argentina|            8|     DF|      ACUNA Marcos|      ACUÑA|   172|\n",
            "|Argentina|            2|     DF|   MERCADO Gabriel|    MERCADO|   181|\n",
            "|Argentina|           17|     DF|  OTAMENDI Nicolas|   OTAMENDI|   181|\n",
            "|Argentina|           16|     DF|       ROJO Marcos|       ROJO|   189|\n",
            "|Argentina|           12|     GK|     ARMANI Franco|     ARMANI|   189|\n",
            "|Argentina|            1|     GK|     GUZMAN Nahuel|     GUZMÁN|   192|\n",
            "+---------+-------------+-------+------------------+-----------+------+\n",
            "\n"
          ]
        }
      ]
    },
    {
      "cell_type": "markdown",
      "source": [
        "### anti join\n",
        "- mostra os dados do df do lado esquerdo não possuem correspondencias"
      ],
      "metadata": {
        "id": "0XfjwGwg9mt3"
      }
    },
    {
      "cell_type": "code",
      "source": [
        "df_arg.join(\n",
        "    df_bra, \n",
        "    df_arg['numero_camisa'] == df_bra['numero_camisa'], \n",
        "    'anti'\n",
        ").show(25)"
      ],
      "metadata": {
        "colab": {
          "base_uri": "https://localhost:8080/"
        },
        "id": "O4bJbu4R9m1y",
        "outputId": "037c1950-f600-4793-bde2-02f0c78f7967"
      },
      "execution_count": 166,
      "outputs": [
        {
          "output_type": "stream",
          "name": "stdout",
          "text": [
            "+---------+-------------+-------+------------------+-----------+------+\n",
            "|  selecao|numero_camisa|posicao|         nome_fifa|nome_camisa|altura|\n",
            "+---------+-------------+-------+------------------+-----------+------+\n",
            "|Argentina|           23|     GK|CABALLERO Wilfredo|  CABALLERO|   186|\n",
            "|Argentina|           99|     DF|    FAZIO Federico|      FAZIO|   199|\n",
            "+---------+-------------+-------+------------------+-----------+------+\n",
            "\n"
          ]
        }
      ]
    },
    {
      "cell_type": "markdown",
      "source": [
        "# Spark SQL"
      ],
      "metadata": {
        "id": "eCGNMicQKlC5"
      }
    },
    {
      "cell_type": "markdown",
      "source": [
        "### Criando um banco de dados"
      ],
      "metadata": {
        "id": "Gqd-rccFRav2"
      }
    },
    {
      "cell_type": "code",
      "source": [
        "spark.sql('CREATE DATABASE wc_2018').show()"
      ],
      "metadata": {
        "colab": {
          "base_uri": "https://localhost:8080/"
        },
        "id": "Za02_f1URa5B",
        "outputId": "a8fdadee-97ac-41a7-a2e1-759bd58a23f7"
      },
      "execution_count": 167,
      "outputs": [
        {
          "output_type": "stream",
          "name": "stdout",
          "text": [
            "++\n",
            "||\n",
            "++\n",
            "++\n",
            "\n"
          ]
        }
      ]
    },
    {
      "cell_type": "markdown",
      "source": [
        "### Conectando-se no banco"
      ],
      "metadata": {
        "id": "0_xMFJEuXPJA"
      }
    },
    {
      "cell_type": "code",
      "source": [
        "spark.sql('USE wc_2018').show()"
      ],
      "metadata": {
        "colab": {
          "base_uri": "https://localhost:8080/"
        },
        "id": "nT3YQrf0XPTD",
        "outputId": "475e7ac3-5a27-48a4-c6cd-5659e1a9cc77"
      },
      "execution_count": 168,
      "outputs": [
        {
          "output_type": "stream",
          "name": "stdout",
          "text": [
            "++\n",
            "||\n",
            "++\n",
            "++\n",
            "\n"
          ]
        }
      ]
    },
    {
      "cell_type": "markdown",
      "source": [
        "### Transformando o DataFrame do PySpark em uma tabela"
      ],
      "metadata": {
        "id": "YIveBziXNPw9"
      }
    },
    {
      "cell_type": "code",
      "source": [
        "# df.saveAsTable('myTable') -> Salva a tabela no armazenamento (HDFS/S3)\n",
        "# df.createOrReplaceTempView(\"my_temp_table\") -> É apenas um identificador a ser usado para o DAG de df. \n",
        "# Nada é realmente armazenado na memória ou no disco.\n",
        "df.write.saveAsTable('wc_players')"
      ],
      "metadata": {
        "id": "unvR0BcVMnNf"
      },
      "execution_count": 169,
      "outputs": []
    },
    {
      "cell_type": "markdown",
      "source": [
        "### Verificando se a tabela foi criada"
      ],
      "metadata": {
        "id": "E-VfVmVZPROV"
      }
    },
    {
      "cell_type": "code",
      "source": [
        "# select na tabela wc_players\n",
        "spark.sql('SHOW TABLES').show()"
      ],
      "metadata": {
        "colab": {
          "base_uri": "https://localhost:8080/"
        },
        "id": "VLRdRTV4O5My",
        "outputId": "be139868-308b-4a72-9dec-aef608ec43f0"
      },
      "execution_count": 170,
      "outputs": [
        {
          "output_type": "stream",
          "name": "stdout",
          "text": [
            "+---------+----------+-----------+\n",
            "|namespace| tableName|isTemporary|\n",
            "+---------+----------+-----------+\n",
            "|  wc_2018|wc_players|      false|\n",
            "+---------+----------+-----------+\n",
            "\n"
          ]
        }
      ]
    },
    {
      "cell_type": "code",
      "source": [
        "spark.sql('SELECT * FROM wc_players').show(5)"
      ],
      "metadata": {
        "colab": {
          "base_uri": "https://localhost:8080/"
        },
        "id": "odNUezaZPhUi",
        "outputId": "2d2a1a99-6028-4a6a-d37c-d79bc94eb7ce"
      },
      "execution_count": 171,
      "outputs": [
        {
          "output_type": "stream",
          "name": "stdout",
          "text": [
            "+---------+-------------+-------+------------------+---------------+-----------+--------------------+------+----+---+---+----+\n",
            "|  selecao|numero_camisa|posicao|         nome_fifa|data_nascimento|nome_camisa|                time|altura|peso|dia|mes| ano|\n",
            "+---------+-------------+-------+------------------+---------------+-----------+--------------------+------+----+---+---+----+\n",
            "|Argentina|            3|     DF|TAGLIAFICO Nicolas|     1992-08-31| TAGLIAFICO|      AFC Ajax (NED)|   169|  65| 31| 08|1992|\n",
            "|Argentina|           22|     MF|    PAVON Cristian|     1996-01-21|      PAVÓN|CA Boca Juniors (...|   169|  65| 21| 01|1996|\n",
            "|Argentina|           15|     MF|    LANZINI Manuel|     1993-02-15|    LANZINI|West Ham United F...|   167|  66| 15| 02|1993|\n",
            "|Argentina|           18|     DF|    SALVIO Eduardo|     1990-07-13|     SALVIO|    SL Benfica (POR)|   167|  69| 13| 07|1990|\n",
            "|Argentina|           10|     FW|      MESSI Lionel|     1987-06-24|      MESSI|  FC Barcelona (ESP)|   170|  72| 24| 06|1987|\n",
            "+---------+-------------+-------+------------------+---------------+-----------+--------------------+------+----+---+---+----+\n",
            "only showing top 5 rows\n",
            "\n"
          ]
        }
      ]
    },
    {
      "cell_type": "markdown",
      "source": [
        "### Criando e salvando um arquivo Parquet"
      ],
      "metadata": {
        "id": "HEobfAvMPRxw"
      }
    },
    {
      "cell_type": "code",
      "source": [
        "df.write.format('parquet').save('/content/wc_players_parquet')"
      ],
      "metadata": {
        "id": "7GQ4ipKWPR4R"
      },
      "execution_count": 172,
      "outputs": []
    },
    {
      "cell_type": "markdown",
      "source": [
        "### Criando uma tabela externa"
      ],
      "metadata": {
        "id": "EFr0_7qxPR-v"
      }
    },
    {
      "cell_type": "code",
      "source": [
        "df.write.option('path', '/content/wc_players_parquet/part-00000-f98f9150-2ec6-4ad8-8ae3-c79219415a4f-c000.snappy.parquet').saveAsTable('wc_players_parquet')"
      ],
      "metadata": {
        "id": "ebOZqv5JPSFs"
      },
      "execution_count": 173,
      "outputs": []
    },
    {
      "cell_type": "code",
      "source": [
        "spark.sql('SELECT * FROM wc_players_parquet').show(5)"
      ],
      "metadata": {
        "colab": {
          "base_uri": "https://localhost:8080/"
        },
        "id": "JjGgqcJbU5B3",
        "outputId": "39113ee5-b1fb-438f-d5b5-774d04172648"
      },
      "execution_count": 174,
      "outputs": [
        {
          "output_type": "stream",
          "name": "stdout",
          "text": [
            "+---------+-------------+-------+------------------+---------------+-----------+--------------------+------+----+---+---+----+\n",
            "|  selecao|numero_camisa|posicao|         nome_fifa|data_nascimento|nome_camisa|                time|altura|peso|dia|mes| ano|\n",
            "+---------+-------------+-------+------------------+---------------+-----------+--------------------+------+----+---+---+----+\n",
            "|Argentina|            3|     DF|TAGLIAFICO Nicolas|     1992-08-31| TAGLIAFICO|      AFC Ajax (NED)|   169|  65| 31| 08|1992|\n",
            "|Argentina|           22|     MF|    PAVON Cristian|     1996-01-21|      PAVÓN|CA Boca Juniors (...|   169|  65| 21| 01|1996|\n",
            "|Argentina|           15|     MF|    LANZINI Manuel|     1993-02-15|    LANZINI|West Ham United F...|   167|  66| 15| 02|1993|\n",
            "|Argentina|           18|     DF|    SALVIO Eduardo|     1990-07-13|     SALVIO|    SL Benfica (POR)|   167|  69| 13| 07|1990|\n",
            "|Argentina|           10|     FW|      MESSI Lionel|     1987-06-24|      MESSI|  FC Barcelona (ESP)|   170|  72| 24| 06|1987|\n",
            "+---------+-------------+-------+------------------+---------------+-----------+--------------------+------+----+---+---+----+\n",
            "only showing top 5 rows\n",
            "\n"
          ]
        }
      ]
    },
    {
      "cell_type": "markdown",
      "source": [
        "### Verificando se existe um caminho fisico da tabela\n",
        "- Se existir significa que ela é uma tabela externa (não gerenciada)\n",
        "- Se não existir significa que ela é uma tabela gerenciada"
      ],
      "metadata": {
        "id": "e2mfFgzjPSNi"
      }
    },
    {
      "cell_type": "code",
      "source": [
        "spark.sql('SHOW CREATE TABLE wc_players').show(truncate=False)"
      ],
      "metadata": {
        "colab": {
          "base_uri": "https://localhost:8080/"
        },
        "id": "v6W7NBmQPSVS",
        "outputId": "491e7b3f-7189-4f24-a0d5-93c86ca6f3cc"
      },
      "execution_count": 175,
      "outputs": [
        {
          "output_type": "stream",
          "name": "stdout",
          "text": [
            "+----------------------------------------------------------------------------------------------------------------------------------------------------------------------------------------------------------------------------------------------------------------------------+\n",
            "|createtab_stmt                                                                                                                                                                                                                                                              |\n",
            "+----------------------------------------------------------------------------------------------------------------------------------------------------------------------------------------------------------------------------------------------------------------------------+\n",
            "|CREATE TABLE wc_2018.wc_players (\\n  selecao STRING,\\n  numero_camisa INT,\\n  posicao STRING,\\n  nome_fifa STRING,\\n  data_nascimento DATE,\\n  nome_camisa STRING,\\n  time STRING,\\n  altura INT,\\n  peso INT,\\n  dia STRING,\\n  mes STRING,\\n  ano STRING)\\nUSING parquet\\n|\n",
            "+----------------------------------------------------------------------------------------------------------------------------------------------------------------------------------------------------------------------------------------------------------------------------+\n",
            "\n"
          ]
        }
      ]
    },
    {
      "cell_type": "code",
      "source": [
        "# externa pq tem um local\n",
        "spark.sql('SHOW CREATE TABLE wc_players_parquet').show(truncate=False)"
      ],
      "metadata": {
        "colab": {
          "base_uri": "https://localhost:8080/"
        },
        "id": "norJy0f8WEDc",
        "outputId": "1092e021-017c-40ee-dc91-b81d5400ce39"
      },
      "execution_count": 176,
      "outputs": [
        {
          "output_type": "stream",
          "name": "stdout",
          "text": [
            "+-------------------------------------------------------------------------------------------------------------------------------------------------------------------------------------------------------------------------------------------------------------------------------------------------------------------------------------------------------------------------------------------------------+\n",
            "|createtab_stmt                                                                                                                                                                                                                                                                                                                                                                                         |\n",
            "+-------------------------------------------------------------------------------------------------------------------------------------------------------------------------------------------------------------------------------------------------------------------------------------------------------------------------------------------------------------------------------------------------------+\n",
            "|CREATE TABLE wc_2018.wc_players_parquet (\\n  selecao STRING,\\n  numero_camisa INT,\\n  posicao STRING,\\n  nome_fifa STRING,\\n  data_nascimento DATE,\\n  nome_camisa STRING,\\n  time STRING,\\n  altura INT,\\n  peso INT,\\n  dia STRING,\\n  mes STRING,\\n  ano STRING)\\nUSING parquet\\nLOCATION 'file:///content/wc_players_parquet/part-00000-f98f9150-2ec6-4ad8-8ae3-c79219415a4f-c000.snappy.parquet'\\n|\n",
            "+-------------------------------------------------------------------------------------------------------------------------------------------------------------------------------------------------------------------------------------------------------------------------------------------------------------------------------------------------------------------------------------------------------+\n",
            "\n"
          ]
        }
      ]
    },
    {
      "cell_type": "markdown",
      "source": [
        "### Retorna o catalogo da tabela do banco de dados\n",
        "- name\n",
        "- database\n",
        "- description\n",
        "- tableType\n",
        "- isTemporary"
      ],
      "metadata": {
        "id": "Yqo3K_1UPSb-"
      }
    },
    {
      "cell_type": "code",
      "source": [
        "spark.catalog.listTables()"
      ],
      "metadata": {
        "colab": {
          "base_uri": "https://localhost:8080/"
        },
        "id": "T1ktKBSePSjs",
        "outputId": "a0c2ffe6-bea8-411c-8288-b4053bd324ab"
      },
      "execution_count": 177,
      "outputs": [
        {
          "output_type": "execute_result",
          "data": {
            "text/plain": [
              "[Table(name='wc_players', database='wc_2018', description=None, tableType='MANAGED', isTemporary=False),\n",
              " Table(name='wc_players_parquet', database='wc_2018', description=None, tableType='EXTERNAL', isTemporary=False)]"
            ]
          },
          "metadata": {},
          "execution_count": 177
        }
      ]
    },
    {
      "cell_type": "markdown",
      "source": [
        "### Views"
      ],
      "metadata": {
        "id": "bPTMGDSqPSqd"
      }
    },
    {
      "cell_type": "code",
      "source": [
        "spark.sql(\"\"\"\n",
        "    CREATE OR REPLACE TEMP VIEW wc_players_view AS\n",
        "    SELECT * FROM wc_players\n",
        "    WHERE selecao = \"Brazil\"\n",
        "\"\"\").show()"
      ],
      "metadata": {
        "colab": {
          "base_uri": "https://localhost:8080/"
        },
        "id": "Wl9UST7qaRrP",
        "outputId": "38d9eb7a-d5b2-4582-c1fc-79e6fe7286d2"
      },
      "execution_count": 178,
      "outputs": [
        {
          "output_type": "stream",
          "name": "stdout",
          "text": [
            "++\n",
            "||\n",
            "++\n",
            "++\n",
            "\n"
          ]
        }
      ]
    },
    {
      "cell_type": "code",
      "source": [
        "spark.sql('SELECT * FROM wc_players_view').show(5)"
      ],
      "metadata": {
        "colab": {
          "base_uri": "https://localhost:8080/"
        },
        "id": "zVlwNKynaVd_",
        "outputId": "a4816b09-0e6b-41c1-f25b-3fa2e6194a23"
      },
      "execution_count": 179,
      "outputs": [
        {
          "output_type": "stream",
          "name": "stdout",
          "text": [
            "+-------+-------------+-------+-----------+---------------+-----------+--------------------+------+----+---+---+----+\n",
            "|selecao|numero_camisa|posicao|  nome_fifa|data_nascimento|nome_camisa|                time|altura|peso|dia|mes| ano|\n",
            "+-------+-------------+-------+-----------+---------------+-----------+--------------------+------+----+---+---+----+\n",
            "| Brazil|           18|     MF|       FRED|     1993-03-05|       FRED|FC Shakhtar Donet...|   169|  64| 05| 03|1993|\n",
            "| Brazil|           21|     FW|     TAISON|     1988-01-13|     TAISON|FC Shakhtar Donet...|   172|  64| 13| 01|1988|\n",
            "| Brazil|           17|     MF|FERNANDINHO|     1985-05-04|FERNANDINHO|Manchester City F...|   179|  67| 04| 05|1985|\n",
            "| Brazil|           22|     DF|     FAGNER|     1989-06-11|     FAGNER|SC Corinthians (BRA)|   168|  67| 11| 06|1989|\n",
            "| Brazil|           10|     FW|     NEYMAR|     1992-02-05|  NEYMAR JR|Paris Saint-Germa...|   175|  68| 05| 02|1992|\n",
            "+-------+-------------+-------+-----------+---------------+-----------+--------------------+------+----+---+---+----+\n",
            "only showing top 5 rows\n",
            "\n"
          ]
        }
      ]
    },
    {
      "cell_type": "code",
      "source": [
        "# VIEW GLOBAL\n",
        "spark.sql(\"\"\"\n",
        "    CREATE OR REPLACE GLOBAL TEMP VIEW wc_players_view_global AS\n",
        "    SELECT * FROM wc_players\n",
        "    WHERE selecao = 'Argentina'\n",
        "\"\"\").show()"
      ],
      "metadata": {
        "colab": {
          "base_uri": "https://localhost:8080/"
        },
        "id": "DgJm7jIOcViq",
        "outputId": "bd070dbf-1dad-4a84-f6dc-ed2320e982d2"
      },
      "execution_count": 180,
      "outputs": [
        {
          "output_type": "stream",
          "name": "stdout",
          "text": [
            "++\n",
            "||\n",
            "++\n",
            "++\n",
            "\n"
          ]
        }
      ]
    },
    {
      "cell_type": "code",
      "source": [
        "spark.sql('SELECT * FROM global_temp.wc_players_view_global').show(5)"
      ],
      "metadata": {
        "colab": {
          "base_uri": "https://localhost:8080/"
        },
        "id": "MoAefduMdt3a",
        "outputId": "5ab7ab3c-7105-48c1-c86c-3dbcf139f6e3"
      },
      "execution_count": 181,
      "outputs": [
        {
          "output_type": "stream",
          "name": "stdout",
          "text": [
            "+---------+-------------+-------+------------------+---------------+-----------+--------------------+------+----+---+---+----+\n",
            "|  selecao|numero_camisa|posicao|         nome_fifa|data_nascimento|nome_camisa|                time|altura|peso|dia|mes| ano|\n",
            "+---------+-------------+-------+------------------+---------------+-----------+--------------------+------+----+---+---+----+\n",
            "|Argentina|            3|     DF|TAGLIAFICO Nicolas|     1992-08-31| TAGLIAFICO|      AFC Ajax (NED)|   169|  65| 31| 08|1992|\n",
            "|Argentina|           22|     MF|    PAVON Cristian|     1996-01-21|      PAVÓN|CA Boca Juniors (...|   169|  65| 21| 01|1996|\n",
            "|Argentina|           15|     MF|    LANZINI Manuel|     1993-02-15|    LANZINI|West Ham United F...|   167|  66| 15| 02|1993|\n",
            "|Argentina|           18|     DF|    SALVIO Eduardo|     1990-07-13|     SALVIO|    SL Benfica (POR)|   167|  69| 13| 07|1990|\n",
            "|Argentina|           10|     FW|      MESSI Lionel|     1987-06-24|      MESSI|  FC Barcelona (ESP)|   170|  72| 24| 06|1987|\n",
            "+---------+-------------+-------+------------------+---------------+-----------+--------------------+------+----+---+---+----+\n",
            "only showing top 5 rows\n",
            "\n"
          ]
        }
      ]
    },
    {
      "cell_type": "code",
      "source": [
        "spark.sql(\n",
        "    \"\"\"\n",
        "        SELECT selecao, \n",
        "        ROUND(AVG(2022 - ano), 2) as media_idade_selecao,\n",
        "        MAX(altura) as altura_max_selecao\n",
        "        FROM wc_players\n",
        "        GROUP BY selecao\n",
        "        ORDER BY media_idade_selecao DESC\n",
        "    \"\"\"\n",
        ").show()"
      ],
      "metadata": {
        "colab": {
          "base_uri": "https://localhost:8080/"
        },
        "id": "j0s0gc2Kd3gw",
        "outputId": "303c5ffc-1320-48ca-fe16-9f99cecb4b6b"
      },
      "execution_count": 182,
      "outputs": [
        {
          "output_type": "stream",
          "name": "stdout",
          "text": [
            "+--------------+-------------------+------------------+\n",
            "|       selecao|media_idade_selecao|altura_max_selecao|\n",
            "+--------------+-------------------+------------------+\n",
            "|    Costa Rica|              33.52|               196|\n",
            "|        Mexico|               33.3|               190|\n",
            "|        Panama|              33.26|               197|\n",
            "|     Argentina|              33.22|               199|\n",
            "|         Egypt|              32.96|               194|\n",
            "|        Russia|              32.91|               196|\n",
            "|  Saudi Arabia|              32.78|               192|\n",
            "|        Brazil|              32.61|               195|\n",
            "|       Iceland|              32.52|               198|\n",
            "|         Japan|              32.52|               189|\n",
            "|      Portugal|              32.43|               191|\n",
            "|         Spain|              32.43|               194|\n",
            "|        Poland|              32.26|               195|\n",
            "|     Australia|              32.22|               193|\n",
            "|        Sweden|              32.17|               198|\n",
            "|       Uruguay|              32.09|               196|\n",
            "|      Colombia|               32.0|               194|\n",
            "|       Croatia|              31.83|               201|\n",
            "|Korea Republic|              31.78|               197|\n",
            "|       Belgium|              31.57|               199|\n",
            "+--------------+-------------------+------------------+\n",
            "only showing top 20 rows\n",
            "\n"
          ]
        }
      ]
    }
  ]
}