{
  "nbformat": 4,
  "nbformat_minor": 0,
  "metadata": {
    "colab": {
      "provenance": [],
      "collapsed_sections": []
    },
    "kernelspec": {
      "name": "python3",
      "display_name": "Python 3"
    },
    "language_info": {
      "name": "python"
    }
  },
  "cells": [
    {
      "cell_type": "markdown",
      "source": [
        "### Instalação das bibliotecas"
      ],
      "metadata": {
        "id": "-GAs9TdAD1gK"
      }
    },
    {
      "cell_type": "code",
      "execution_count": 1,
      "metadata": {
        "colab": {
          "base_uri": "https://localhost:8080/"
        },
        "id": "VzxX-w_HC9aa",
        "outputId": "e88c0702-d4f9-4d57-cc8e-b6c793a1b42e"
      },
      "outputs": [
        {
          "output_type": "stream",
          "name": "stdout",
          "text": [
            "Looking in indexes: https://pypi.org/simple, https://us-python.pkg.dev/colab-wheels/public/simple/\n",
            "Collecting spark\n",
            "  Downloading spark-0.2.1.tar.gz (41 kB)\n",
            "Building wheels for collected packages: spark\n",
            "  Building wheel for spark (setup.py): started\n",
            "  Building wheel for spark (setup.py): finished with status 'done'\n",
            "  Created wheel for spark: filename=spark-0.2.1-py3-none-any.whl size=58762 sha256=4c482bfeefa37c8e512b9e5f21f9fc7e60ca3a265a2082a6c4de7eeb6062bc5e\n",
            "  Stored in directory: /root/.cache/pip/wheels/4e/0e/f1/164619f9920fb447d294afaae11a7715bd442ded7225953d72\n",
            "Successfully built spark\n",
            "Installing collected packages: spark\n",
            "Successfully installed spark-0.2.1\n",
            "Looking in indexes: https://pypi.org/simple, https://us-python.pkg.dev/colab-wheels/public/simple/\n",
            "Collecting pyspark\n",
            "  Downloading pyspark-3.3.0.tar.gz (281.3 MB)\n",
            "Collecting py4j==0.10.9.5\n",
            "  Downloading py4j-0.10.9.5-py2.py3-none-any.whl (199 kB)\n",
            "Building wheels for collected packages: pyspark\n",
            "  Building wheel for pyspark (setup.py): started\n",
            "  Building wheel for pyspark (setup.py): finished with status 'done'\n",
            "  Created wheel for pyspark: filename=pyspark-3.3.0-py2.py3-none-any.whl size=281764026 sha256=fb20a23555d7e2e5c242206cf7c7296da94ef6a5cd3817eeef88a13661c2cce0\n",
            "  Stored in directory: /root/.cache/pip/wheels/7a/8e/1b/f73a52650d2e5f337708d9f6a1750d451a7349a867f928b885\n",
            "Successfully built pyspark\n",
            "Installing collected packages: py4j, pyspark\n",
            "Successfully installed py4j-0.10.9.5 pyspark-3.3.0\n"
          ]
        }
      ],
      "source": [
        "%%sh\n",
        "pip install spark\n",
        "pip install pyspark"
      ]
    },
    {
      "cell_type": "markdown",
      "source": [
        "### Importação das bibliotecas"
      ],
      "metadata": {
        "id": "G6V7VyU5D2kU"
      }
    },
    {
      "cell_type": "code",
      "source": [
        "import pyspark\n",
        "from pyspark.sql import SparkSession\n",
        "from pyspark import SparkContext"
      ],
      "metadata": {
        "id": "YqgChFIyD2p1"
      },
      "execution_count": 2,
      "outputs": []
    },
    {
      "cell_type": "markdown",
      "source": [
        "### Criar / Iniciar uma Sessão PySpark"
      ],
      "metadata": {
        "id": "IP8tIY-yD_Ee"
      }
    },
    {
      "cell_type": "code",
      "source": [
        "spark = (\n",
        "    SparkSession\\\n",
        "    .builder\\\n",
        "    .master('local')\\\n",
        "    .appName('particionamento')\\\n",
        "    .getOrCreate()\n",
        ")"
      ],
      "metadata": {
        "id": "rH3H2XoED_K2"
      },
      "execution_count": 3,
      "outputs": []
    },
    {
      "cell_type": "markdown",
      "source": [
        "### Criando um banco de dados"
      ],
      "metadata": {
        "id": "D0S6Wz8CD_TN"
      }
    },
    {
      "cell_type": "code",
      "source": [
        "spark.sql('SHOW DATABASES').show()"
      ],
      "metadata": {
        "colab": {
          "base_uri": "https://localhost:8080/"
        },
        "id": "TlzsPWy1JTxQ",
        "outputId": "15a1b790-b011-43a3-eb6f-32936e5bd34b"
      },
      "execution_count": 4,
      "outputs": [
        {
          "output_type": "stream",
          "name": "stdout",
          "text": [
            "+---------+\n",
            "|namespace|\n",
            "+---------+\n",
            "|  default|\n",
            "+---------+\n",
            "\n"
          ]
        }
      ]
    },
    {
      "cell_type": "code",
      "source": [
        "spark.sql('CREATE DATABASE wc_players').show()"
      ],
      "metadata": {
        "colab": {
          "base_uri": "https://localhost:8080/"
        },
        "id": "md04ExpkJZB3",
        "outputId": "16887fe5-9445-45e7-c66c-453e4b33d629"
      },
      "execution_count": 5,
      "outputs": [
        {
          "output_type": "stream",
          "name": "stdout",
          "text": [
            "++\n",
            "||\n",
            "++\n",
            "++\n",
            "\n"
          ]
        }
      ]
    },
    {
      "cell_type": "code",
      "source": [
        "spark.sql('USE wc_players').show()"
      ],
      "metadata": {
        "colab": {
          "base_uri": "https://localhost:8080/"
        },
        "id": "J6bzynO6JWOC",
        "outputId": "70742cb3-6f27-4ef9-ebce-b321595dd4fa"
      },
      "execution_count": 6,
      "outputs": [
        {
          "output_type": "stream",
          "name": "stdout",
          "text": [
            "++\n",
            "||\n",
            "++\n",
            "++\n",
            "\n"
          ]
        }
      ]
    },
    {
      "cell_type": "markdown",
      "source": [
        "### Importando o arquivo CSV"
      ],
      "metadata": {
        "id": "H1eiMWKOLiQ1"
      }
    },
    {
      "cell_type": "code",
      "source": [
        "wc_players = spark.read.csv('/content/wc2018-players.csv', header=True, inferSchema=True, sep=',')"
      ],
      "metadata": {
        "id": "ncfY9_qxJl8z"
      },
      "execution_count": 9,
      "outputs": []
    },
    {
      "cell_type": "code",
      "source": [
        "wc_players.show(1)"
      ],
      "metadata": {
        "colab": {
          "base_uri": "https://localhost:8080/"
        },
        "id": "UGhHryX-L3Bt",
        "outputId": "e00b0ef5-ce7b-4bcc-aaec-d0bab483bdd7"
      },
      "execution_count": 10,
      "outputs": [
        {
          "output_type": "stream",
          "name": "stdout",
          "text": [
            "+---------+---+----+------------------+----------+----------+--------------+------+------+\n",
            "|     Team|  #|Pos.| FIFA Popular Name|Birth Date|Shirt Name|          Club|Height|Weight|\n",
            "+---------+---+----+------------------+----------+----------+--------------+------+------+\n",
            "|Argentina|  3|  DF|TAGLIAFICO Nicolas|31.08.1992|TAGLIAFICO|AFC Ajax (NED)|   169|    65|\n",
            "+---------+---+----+------------------+----------+----------+--------------+------+------+\n",
            "only showing top 1 row\n",
            "\n"
          ]
        }
      ]
    },
    {
      "cell_type": "markdown",
      "source": [
        "### Criando uma partição<br>Criando e convertendo o arquivo .csv em uma tabela Spark SQL\n",
        "https://prnt.sc/LM6Z7CGrSaHj"
      ],
      "metadata": {
        "id": "02-4tPFmL9mr"
      }
    },
    {
      "cell_type": "code",
      "source": [
        "wc_players.write.partitionBy('Team').saveAsTable('wc_players')"
      ],
      "metadata": {
        "id": "aZ_5-fa4L4YF"
      },
      "execution_count": 11,
      "outputs": []
    },
    {
      "cell_type": "code",
      "source": [
        "# OBS: A coluna que foi particionada sempre ficará em último\n",
        "spark.sql('SELECT * FROM wc_players').show(1, truncate=False)"
      ],
      "metadata": {
        "colab": {
          "base_uri": "https://localhost:8080/"
        },
        "id": "YjvY3yezNCw8",
        "outputId": "230406b1-62da-4e6b-fc76-9c38bb2358a9"
      },
      "execution_count": 14,
      "outputs": [
        {
          "output_type": "stream",
          "name": "stdout",
          "text": [
            "+---+----+-------------------+----------+-----------+-------------------------+------+------+-------+\n",
            "|#  |Pos.|FIFA Popular Name  |Birth Date|Shirt Name |Club                     |Height|Weight|Team   |\n",
            "+---+----+-------------------+----------+-----------+-------------------------+------+------+-------+\n",
            "|2  |MF  |KROHN-DEHLI Michael|06.06.1983|KROHN-DEHLI|Deportivo La Coruña (ESP)|171   |69    |Denmark|\n",
            "+---+----+-------------------+----------+-----------+-------------------------+------+------+-------+\n",
            "only showing top 1 row\n",
            "\n"
          ]
        }
      ]
    },
    {
      "cell_type": "markdown",
      "source": [
        "### bucketBy()\n",
        "https://prnt.sc/1XRk7y8l5ts6"
      ],
      "metadata": {
        "id": "e1sC30VpOybe"
      }
    },
    {
      "cell_type": "code",
      "source": [
        "# bucketBy(numero_particionamento, coluna)\n",
        "wc_players.write.bucketBy(5, 'Team')\\\n",
        "          .saveAsTable('wc_players2')"
      ],
      "metadata": {
        "id": "WQ6JsLLzNYWX"
      },
      "execution_count": 15,
      "outputs": []
    },
    {
      "cell_type": "code",
      "source": [
        "spark.sql('SELECT * FROM wc_players').show(1)"
      ],
      "metadata": {
        "colab": {
          "base_uri": "https://localhost:8080/"
        },
        "id": "r9IFoVJPO2Pf",
        "outputId": "f77e9eee-cc17-4136-a3f7-d227629fa3f1"
      },
      "execution_count": 16,
      "outputs": [
        {
          "output_type": "stream",
          "name": "stdout",
          "text": [
            "+---+----+-------------------+----------+-----------+--------------------+------+------+-------+\n",
            "|  #|Pos.|  FIFA Popular Name|Birth Date| Shirt Name|                Club|Height|Weight|   Team|\n",
            "+---+----+-------------------+----------+-----------+--------------------+------+------+-------+\n",
            "|  2|  MF|KROHN-DEHLI Michael|06.06.1983|KROHN-DEHLI|Deportivo La Coru...|   171|    69|Denmark|\n",
            "+---+----+-------------------+----------+-----------+--------------------+------+------+-------+\n",
            "only showing top 1 row\n",
            "\n"
          ]
        }
      ]
    },
    {
      "cell_type": "markdown",
      "source": [
        "### Cache e Persistência\n",
        "- Cache - padrão em memória e disco\n",
        "- Persist - Definido pelo usuário\n",
        "- StorageLevel\n",
        "    - MEMORY_ONLY: padrão para RDD, porém se não caber na memória será reprocessado a cada consulta\n",
        "\n",
        "    - MEMORY_AND_DISK: Padrão para DataFrame. Aramzena as partições que não cabem em memória em disco"
      ],
      "metadata": {
        "id": "XCs6Mj2tX_tn"
      }
    },
    {
      "cell_type": "code",
      "source": [
        "# disco \n",
        "# memória  \n",
        "# offheap\n",
        "# serializado\n",
        "# replicação\n",
        "\n",
        "wc_players.storageLevel"
      ],
      "metadata": {
        "colab": {
          "base_uri": "https://localhost:8080/"
        },
        "id": "5RHLFX44YBda",
        "outputId": "44c0840c-11dc-4802-f096-8ec87d43d4d3"
      },
      "execution_count": 17,
      "outputs": [
        {
          "output_type": "execute_result",
          "data": {
            "text/plain": [
              "StorageLevel(False, False, False, False, 1)"
            ]
          },
          "metadata": {},
          "execution_count": 17
        }
      ]
    },
    {
      "cell_type": "code",
      "source": [
        "# DISCO\n",
        "# MEMÓRIA  \n",
        "# offheap\n",
        "# serializado\n",
        "# replicação\n",
        "wc_players.cache()"
      ],
      "metadata": {
        "colab": {
          "base_uri": "https://localhost:8080/"
        },
        "id": "KgJE6lZnZXkv",
        "outputId": "fd0fe3c0-ff09-431a-c1ee-a9dfbdffc3b4"
      },
      "execution_count": 18,
      "outputs": [
        {
          "output_type": "execute_result",
          "data": {
            "text/plain": [
              "DataFrame[Team: string, #: int, Pos.: string, FIFA Popular Name: string, Birth Date: string, Shirt Name: string, Club: string, Height: int, Weight: int]"
            ]
          },
          "metadata": {},
          "execution_count": 18
        }
      ]
    },
    {
      "cell_type": "code",
      "source": [
        "wc_players.storageLevel"
      ],
      "metadata": {
        "colab": {
          "base_uri": "https://localhost:8080/"
        },
        "id": "bfRvYTmpZw_8",
        "outputId": "07b80c4e-7e3e-4066-a652-5b37ea7aa08b"
      },
      "execution_count": 19,
      "outputs": [
        {
          "output_type": "execute_result",
          "data": {
            "text/plain": [
              "StorageLevel(True, True, False, True, 1)"
            ]
          },
          "metadata": {},
          "execution_count": 19
        }
      ]
    },
    {
      "cell_type": "markdown",
      "source": [
        "### Criando um tipo de storageLevel"
      ],
      "metadata": {
        "id": "HJpD6zjEZ4Mu"
      }
    },
    {
      "cell_type": "code",
      "source": [
        "from pyspark.storagelevel import StorageLevel"
      ],
      "metadata": {
        "id": "ZrW4X8WJZy5y"
      },
      "execution_count": 24,
      "outputs": []
    },
    {
      "cell_type": "code",
      "source": [
        "wc_players.persist(StorageLevel.DISK_ONLY)"
      ],
      "metadata": {
        "colab": {
          "base_uri": "https://localhost:8080/"
        },
        "id": "qsNl9PD5ae2K",
        "outputId": "fdda1eb0-c88b-48d2-d71f-fb1863d84788"
      },
      "execution_count": 25,
      "outputs": [
        {
          "output_type": "execute_result",
          "data": {
            "text/plain": [
              "DataFrame[Team: string, #: int, Pos.: string, FIFA Popular Name: string, Birth Date: string, Shirt Name: string, Club: string, Height: int, Weight: int]"
            ]
          },
          "metadata": {},
          "execution_count": 25
        }
      ]
    },
    {
      "cell_type": "code",
      "source": [
        "# tirar do cache\n",
        "wc_players.unpersist()"
      ],
      "metadata": {
        "colab": {
          "base_uri": "https://localhost:8080/"
        },
        "id": "8z9qLzKuaQf_",
        "outputId": "9616e7c5-f820-4e8e-cc55-08730950bba9"
      },
      "execution_count": 26,
      "outputs": [
        {
          "output_type": "execute_result",
          "data": {
            "text/plain": [
              "DataFrame[Team: string, #: int, Pos.: string, FIFA Popular Name: string, Birth Date: string, Shirt Name: string, Club: string, Height: int, Weight: int]"
            ]
          },
          "metadata": {},
          "execution_count": 26
        }
      ]
    },
    {
      "cell_type": "code",
      "source": [
        "wc_players.persist(StorageLevel.DISK_ONLY)"
      ],
      "metadata": {
        "colab": {
          "base_uri": "https://localhost:8080/"
        },
        "id": "9pmVMg4paW-H",
        "outputId": "2621bdf9-b6de-4447-ba18-cc5d3940e280"
      },
      "execution_count": 27,
      "outputs": [
        {
          "output_type": "execute_result",
          "data": {
            "text/plain": [
              "DataFrame[Team: string, #: int, Pos.: string, FIFA Popular Name: string, Birth Date: string, Shirt Name: string, Club: string, Height: int, Weight: int]"
            ]
          },
          "metadata": {},
          "execution_count": 27
        }
      ]
    },
    {
      "cell_type": "code",
      "source": [
        "wc_players.storageLevel"
      ],
      "metadata": {
        "colab": {
          "base_uri": "https://localhost:8080/"
        },
        "id": "W7N32MA3aYKJ",
        "outputId": "0b6415fb-67b2-4643-bde5-ab440d7c3288"
      },
      "execution_count": 28,
      "outputs": [
        {
          "output_type": "execute_result",
          "data": {
            "text/plain": [
              "StorageLevel(True, False, False, False, 1)"
            ]
          },
          "metadata": {},
          "execution_count": 28
        }
      ]
    }
  ]
}